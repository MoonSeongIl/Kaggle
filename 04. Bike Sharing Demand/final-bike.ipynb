{
 "cells": [
  {
   "cell_type": "markdown",
   "metadata": {},
   "source": [
    "# 01. Library Load"
   ]
  },
  {
   "cell_type": "code",
   "execution_count": 3,
   "metadata": {
    "_cell_guid": "b1076dfc-b9ad-4769-8c92-a6c4dae69d19",
    "_uuid": "8f2839f25d086af736a60e9eeb907d3b93b6e0e5",
    "execution": {
     "iopub.execute_input": "2022-01-06T05:43:25.909462Z",
     "iopub.status.busy": "2022-01-06T05:43:25.909074Z",
     "iopub.status.idle": "2022-01-06T05:43:26.871318Z",
     "shell.execute_reply": "2022-01-06T05:43:26.870346Z",
     "shell.execute_reply.started": "2022-01-06T05:43:25.909431Z"
    }
   },
   "outputs": [],
   "source": [
    "import numpy as np\n",
    "import pandas as pd\n",
    "import matplotlib.pyplot as plt\n",
    "import seaborn as sns\n",
    "\n",
    "import os\n",
    "for dirname, _, filenames in os.walk('/kaggle/input'):\n",
    "    for filename in filenames:\n",
    "        print(os.path.join(dirname, filename))"
   ]
  },
  {
   "cell_type": "markdown",
   "metadata": {},
   "source": [
    "# 02. Data Load"
   ]
  },
  {
   "cell_type": "code",
   "execution_count": 4,
   "metadata": {
    "_cell_guid": "79c7e3d0-c299-4dcb-8224-4455121ee9b0",
    "_uuid": "d629ff2d2480ee46fbb7e2d37f6b5fab8052498a",
    "execution": {
     "iopub.execute_input": "2022-01-06T05:43:26.874912Z",
     "iopub.status.busy": "2022-01-06T05:43:26.874503Z",
     "iopub.status.idle": "2022-01-06T05:43:26.950879Z",
     "shell.execute_reply": "2022-01-06T05:43:26.949905Z",
     "shell.execute_reply.started": "2022-01-06T05:43:26.874880Z"
    }
   },
   "outputs": [],
   "source": [
    "train =pd.read_csv(r'D:\\kaggle\\01. bike-sharing-demand\\data/train.csv')\n",
    "test =pd.read_csv(r'D:\\kaggle\\01. bike-sharing-demand\\data/test.csv')\n",
    "sub =pd.read_csv(r'D:\\kaggle\\01. bike-sharing-demand\\data/sampleSubmission.csv')"
   ]
  },
  {
   "cell_type": "markdown",
   "metadata": {},
   "source": [
    "# 03. Data 결합하기\n",
    "\n",
    "   - 똑같은 작업을 반복하지 않기 위해, train과 test 결합.\n",
    "   - 단점 : train, test의 분포가 다르다면 오히려 좋지 않은 영향을 끼칠 수 있음. -> 우리 모델이 실수 할 수 있는 부분을 찾아줘야 함."
   ]
  },
  {
   "cell_type": "code",
   "execution_count": 5,
   "metadata": {
    "execution": {
     "iopub.execute_input": "2022-01-06T05:43:26.952374Z",
     "iopub.status.busy": "2022-01-06T05:43:26.952058Z",
     "iopub.status.idle": "2022-01-06T05:43:26.991798Z",
     "shell.execute_reply": "2022-01-06T05:43:26.990391Z",
     "shell.execute_reply.started": "2022-01-06T05:43:26.952344Z"
    }
   },
   "outputs": [
    {
     "data": {
      "text/html": [
       "<div>\n",
       "<style scoped>\n",
       "    .dataframe tbody tr th:only-of-type {\n",
       "        vertical-align: middle;\n",
       "    }\n",
       "\n",
       "    .dataframe tbody tr th {\n",
       "        vertical-align: top;\n",
       "    }\n",
       "\n",
       "    .dataframe thead th {\n",
       "        text-align: right;\n",
       "    }\n",
       "</style>\n",
       "<table border=\"1\" class=\"dataframe\">\n",
       "  <thead>\n",
       "    <tr style=\"text-align: right;\">\n",
       "      <th></th>\n",
       "      <th>datetime</th>\n",
       "      <th>season</th>\n",
       "      <th>holiday</th>\n",
       "      <th>workingday</th>\n",
       "      <th>weather</th>\n",
       "      <th>temp</th>\n",
       "      <th>atemp</th>\n",
       "      <th>humidity</th>\n",
       "      <th>windspeed</th>\n",
       "      <th>casual</th>\n",
       "      <th>registered</th>\n",
       "      <th>count</th>\n",
       "    </tr>\n",
       "  </thead>\n",
       "  <tbody>\n",
       "    <tr>\n",
       "      <th>0</th>\n",
       "      <td>2011-01-01 00:00:00</td>\n",
       "      <td>1</td>\n",
       "      <td>0</td>\n",
       "      <td>0</td>\n",
       "      <td>1</td>\n",
       "      <td>9.84</td>\n",
       "      <td>14.395</td>\n",
       "      <td>81</td>\n",
       "      <td>0.0</td>\n",
       "      <td>3.0</td>\n",
       "      <td>13.0</td>\n",
       "      <td>16.0</td>\n",
       "    </tr>\n",
       "    <tr>\n",
       "      <th>1</th>\n",
       "      <td>2011-01-01 01:00:00</td>\n",
       "      <td>1</td>\n",
       "      <td>0</td>\n",
       "      <td>0</td>\n",
       "      <td>1</td>\n",
       "      <td>9.02</td>\n",
       "      <td>13.635</td>\n",
       "      <td>80</td>\n",
       "      <td>0.0</td>\n",
       "      <td>8.0</td>\n",
       "      <td>32.0</td>\n",
       "      <td>40.0</td>\n",
       "    </tr>\n",
       "    <tr>\n",
       "      <th>2</th>\n",
       "      <td>2011-01-01 02:00:00</td>\n",
       "      <td>1</td>\n",
       "      <td>0</td>\n",
       "      <td>0</td>\n",
       "      <td>1</td>\n",
       "      <td>9.02</td>\n",
       "      <td>13.635</td>\n",
       "      <td>80</td>\n",
       "      <td>0.0</td>\n",
       "      <td>5.0</td>\n",
       "      <td>27.0</td>\n",
       "      <td>32.0</td>\n",
       "    </tr>\n",
       "    <tr>\n",
       "      <th>3</th>\n",
       "      <td>2011-01-01 03:00:00</td>\n",
       "      <td>1</td>\n",
       "      <td>0</td>\n",
       "      <td>0</td>\n",
       "      <td>1</td>\n",
       "      <td>9.84</td>\n",
       "      <td>14.395</td>\n",
       "      <td>75</td>\n",
       "      <td>0.0</td>\n",
       "      <td>3.0</td>\n",
       "      <td>10.0</td>\n",
       "      <td>13.0</td>\n",
       "    </tr>\n",
       "    <tr>\n",
       "      <th>4</th>\n",
       "      <td>2011-01-01 04:00:00</td>\n",
       "      <td>1</td>\n",
       "      <td>0</td>\n",
       "      <td>0</td>\n",
       "      <td>1</td>\n",
       "      <td>9.84</td>\n",
       "      <td>14.395</td>\n",
       "      <td>75</td>\n",
       "      <td>0.0</td>\n",
       "      <td>0.0</td>\n",
       "      <td>1.0</td>\n",
       "      <td>1.0</td>\n",
       "    </tr>\n",
       "  </tbody>\n",
       "</table>\n",
       "</div>"
      ],
      "text/plain": [
       "              datetime  season  holiday  workingday  weather  temp   atemp  \\\n",
       "0  2011-01-01 00:00:00       1        0           0        1  9.84  14.395   \n",
       "1  2011-01-01 01:00:00       1        0           0        1  9.02  13.635   \n",
       "2  2011-01-01 02:00:00       1        0           0        1  9.02  13.635   \n",
       "3  2011-01-01 03:00:00       1        0           0        1  9.84  14.395   \n",
       "4  2011-01-01 04:00:00       1        0           0        1  9.84  14.395   \n",
       "\n",
       "   humidity  windspeed  casual  registered  count  \n",
       "0        81        0.0     3.0        13.0   16.0  \n",
       "1        80        0.0     8.0        32.0   40.0  \n",
       "2        80        0.0     5.0        27.0   32.0  \n",
       "3        75        0.0     3.0        10.0   13.0  \n",
       "4        75        0.0     0.0         1.0    1.0  "
      ]
     },
     "execution_count": 5,
     "metadata": {},
     "output_type": "execute_result"
    }
   ],
   "source": [
    "all_data=pd.concat([train,test])\n",
    "all_data.head()"
   ]
  },
  {
   "cell_type": "markdown",
   "metadata": {
    "execution": {
     "iopub.execute_input": "2022-01-03T16:55:54.09135Z",
     "iopub.status.busy": "2022-01-03T16:55:54.090965Z",
     "iopub.status.idle": "2022-01-03T16:55:54.100862Z",
     "shell.execute_reply": "2022-01-03T16:55:54.098605Z",
     "shell.execute_reply.started": "2022-01-03T16:55:54.091321Z"
    }
   },
   "source": [
    "### columns 설명\n",
    "- datetime : hourly date + timestamp\n",
    "- season : 1=spring, 2=summer, 3=fall, 4=winter\n",
    "- holiday : whether the day is considered a holiday(휴일 : 1, 휴일 X : 0)\n",
    "- workingday : whether the day is neither a weekend nor holiday(주말, 휴일 아니면 : 1, 주말, 휴일 : 0)\n",
    "- weather : 1 : Clear, Few clouds, Partly cloudy, Partly cloudy  \n",
    "              2 : Mist + Cloudy, Mist + Broken clouds, Mist+Few clouds, Mist  \n",
    "              3 : Light Snow, Light RAin + Thunderstorm + Scattered clouds, Light Rain + Scattered clouds  \n",
    "              4 : Heavy Rain + Ice Pallets + Thunderstorm + Mist, Snow + Fog  \n",
    "- temp : temperature in Celsius  \n",
    "- atemp : \"feels like\" temperature in Celsius  \n",
    "- humidity : relative humidity  \n",
    "- windspeed : wind speed  \n",
    "- casual : number of non-registered user rentals initiated  \n",
    "- registered : number of registered user rentals initiated  \n",
    "- count : number of total rentals  "
   ]
  },
  {
   "cell_type": "markdown",
   "metadata": {},
   "source": [
    "# 04. EDA"
   ]
  },
  {
   "cell_type": "markdown",
   "metadata": {},
   "source": [
    "## 01 : 날짜 형태로 변환."
   ]
  },
  {
   "cell_type": "code",
   "execution_count": 6,
   "metadata": {
    "execution": {
     "iopub.execute_input": "2022-01-06T05:43:26.993588Z",
     "iopub.status.busy": "2022-01-06T05:43:26.993055Z",
     "iopub.status.idle": "2022-01-06T05:43:27.026085Z",
     "shell.execute_reply": "2022-01-06T05:43:27.025258Z",
     "shell.execute_reply.started": "2022-01-06T05:43:26.993552Z"
    }
   },
   "outputs": [
    {
     "data": {
      "text/html": [
       "<div>\n",
       "<style scoped>\n",
       "    .dataframe tbody tr th:only-of-type {\n",
       "        vertical-align: middle;\n",
       "    }\n",
       "\n",
       "    .dataframe tbody tr th {\n",
       "        vertical-align: top;\n",
       "    }\n",
       "\n",
       "    .dataframe thead th {\n",
       "        text-align: right;\n",
       "    }\n",
       "</style>\n",
       "<table border=\"1\" class=\"dataframe\">\n",
       "  <thead>\n",
       "    <tr style=\"text-align: right;\">\n",
       "      <th></th>\n",
       "      <th>datetime</th>\n",
       "      <th>season</th>\n",
       "      <th>holiday</th>\n",
       "      <th>workingday</th>\n",
       "      <th>weather</th>\n",
       "      <th>temp</th>\n",
       "      <th>atemp</th>\n",
       "      <th>humidity</th>\n",
       "      <th>windspeed</th>\n",
       "      <th>casual</th>\n",
       "      <th>registered</th>\n",
       "      <th>count</th>\n",
       "    </tr>\n",
       "  </thead>\n",
       "  <tbody>\n",
       "    <tr>\n",
       "      <th>0</th>\n",
       "      <td>2011-01-01 00:00:00</td>\n",
       "      <td>1</td>\n",
       "      <td>0</td>\n",
       "      <td>0</td>\n",
       "      <td>1</td>\n",
       "      <td>9.84</td>\n",
       "      <td>14.395</td>\n",
       "      <td>81</td>\n",
       "      <td>0.0</td>\n",
       "      <td>3.0</td>\n",
       "      <td>13.0</td>\n",
       "      <td>16.0</td>\n",
       "    </tr>\n",
       "    <tr>\n",
       "      <th>1</th>\n",
       "      <td>2011-01-01 01:00:00</td>\n",
       "      <td>1</td>\n",
       "      <td>0</td>\n",
       "      <td>0</td>\n",
       "      <td>1</td>\n",
       "      <td>9.02</td>\n",
       "      <td>13.635</td>\n",
       "      <td>80</td>\n",
       "      <td>0.0</td>\n",
       "      <td>8.0</td>\n",
       "      <td>32.0</td>\n",
       "      <td>40.0</td>\n",
       "    </tr>\n",
       "    <tr>\n",
       "      <th>2</th>\n",
       "      <td>2011-01-01 02:00:00</td>\n",
       "      <td>1</td>\n",
       "      <td>0</td>\n",
       "      <td>0</td>\n",
       "      <td>1</td>\n",
       "      <td>9.02</td>\n",
       "      <td>13.635</td>\n",
       "      <td>80</td>\n",
       "      <td>0.0</td>\n",
       "      <td>5.0</td>\n",
       "      <td>27.0</td>\n",
       "      <td>32.0</td>\n",
       "    </tr>\n",
       "    <tr>\n",
       "      <th>3</th>\n",
       "      <td>2011-01-01 03:00:00</td>\n",
       "      <td>1</td>\n",
       "      <td>0</td>\n",
       "      <td>0</td>\n",
       "      <td>1</td>\n",
       "      <td>9.84</td>\n",
       "      <td>14.395</td>\n",
       "      <td>75</td>\n",
       "      <td>0.0</td>\n",
       "      <td>3.0</td>\n",
       "      <td>10.0</td>\n",
       "      <td>13.0</td>\n",
       "    </tr>\n",
       "    <tr>\n",
       "      <th>4</th>\n",
       "      <td>2011-01-01 04:00:00</td>\n",
       "      <td>1</td>\n",
       "      <td>0</td>\n",
       "      <td>0</td>\n",
       "      <td>1</td>\n",
       "      <td>9.84</td>\n",
       "      <td>14.395</td>\n",
       "      <td>75</td>\n",
       "      <td>0.0</td>\n",
       "      <td>0.0</td>\n",
       "      <td>1.0</td>\n",
       "      <td>1.0</td>\n",
       "    </tr>\n",
       "  </tbody>\n",
       "</table>\n",
       "</div>"
      ],
      "text/plain": [
       "             datetime  season  holiday  workingday  weather  temp   atemp  \\\n",
       "0 2011-01-01 00:00:00       1        0           0        1  9.84  14.395   \n",
       "1 2011-01-01 01:00:00       1        0           0        1  9.02  13.635   \n",
       "2 2011-01-01 02:00:00       1        0           0        1  9.02  13.635   \n",
       "3 2011-01-01 03:00:00       1        0           0        1  9.84  14.395   \n",
       "4 2011-01-01 04:00:00       1        0           0        1  9.84  14.395   \n",
       "\n",
       "   humidity  windspeed  casual  registered  count  \n",
       "0        81        0.0     3.0        13.0   16.0  \n",
       "1        80        0.0     8.0        32.0   40.0  \n",
       "2        80        0.0     5.0        27.0   32.0  \n",
       "3        75        0.0     3.0        10.0   13.0  \n",
       "4        75        0.0     0.0         1.0    1.0  "
      ]
     },
     "execution_count": 6,
     "metadata": {},
     "output_type": "execute_result"
    }
   ],
   "source": [
    "all_data['datetime'] = all_data['datetime'].astype('datetime64')\n",
    "all_data.head()"
   ]
  },
  {
   "cell_type": "markdown",
   "metadata": {},
   "source": [
    "## 02. 날짜 데이터를 통해서 년도, 월, 시간 추가."
   ]
  },
  {
   "cell_type": "code",
   "execution_count": 7,
   "metadata": {
    "execution": {
     "iopub.execute_input": "2022-01-06T05:43:27.030969Z",
     "iopub.status.busy": "2022-01-06T05:43:27.030610Z",
     "iopub.status.idle": "2022-01-06T05:43:27.045037Z",
     "shell.execute_reply": "2022-01-06T05:43:27.043961Z",
     "shell.execute_reply.started": "2022-01-06T05:43:27.030938Z"
    }
   },
   "outputs": [],
   "source": [
    "# 시간, 년 추가.\n",
    "all_data['year'] = all_data['datetime'].dt.year\n",
    "all_data['hour'] = all_data['datetime'].dt.hour\n",
    "all_data['month'] = all_data['datetime'].dt.month"
   ]
  },
  {
   "cell_type": "code",
   "execution_count": 8,
   "metadata": {
    "execution": {
     "iopub.execute_input": "2022-01-06T05:43:27.050349Z",
     "iopub.status.busy": "2022-01-06T05:43:27.049809Z",
     "iopub.status.idle": "2022-01-06T05:43:27.075998Z",
     "shell.execute_reply": "2022-01-06T05:43:27.074299Z",
     "shell.execute_reply.started": "2022-01-06T05:43:27.050299Z"
    }
   },
   "outputs": [
    {
     "data": {
      "text/html": [
       "<div>\n",
       "<style scoped>\n",
       "    .dataframe tbody tr th:only-of-type {\n",
       "        vertical-align: middle;\n",
       "    }\n",
       "\n",
       "    .dataframe tbody tr th {\n",
       "        vertical-align: top;\n",
       "    }\n",
       "\n",
       "    .dataframe thead th {\n",
       "        text-align: right;\n",
       "    }\n",
       "</style>\n",
       "<table border=\"1\" class=\"dataframe\">\n",
       "  <thead>\n",
       "    <tr style=\"text-align: right;\">\n",
       "      <th></th>\n",
       "      <th>datetime</th>\n",
       "      <th>season</th>\n",
       "      <th>holiday</th>\n",
       "      <th>workingday</th>\n",
       "      <th>weather</th>\n",
       "      <th>temp</th>\n",
       "      <th>atemp</th>\n",
       "      <th>humidity</th>\n",
       "      <th>windspeed</th>\n",
       "      <th>casual</th>\n",
       "      <th>registered</th>\n",
       "      <th>count</th>\n",
       "      <th>year</th>\n",
       "      <th>hour</th>\n",
       "      <th>month</th>\n",
       "    </tr>\n",
       "  </thead>\n",
       "  <tbody>\n",
       "    <tr>\n",
       "      <th>0</th>\n",
       "      <td>2011-01-01 00:00:00</td>\n",
       "      <td>1</td>\n",
       "      <td>0</td>\n",
       "      <td>0</td>\n",
       "      <td>1</td>\n",
       "      <td>9.84</td>\n",
       "      <td>14.395</td>\n",
       "      <td>81</td>\n",
       "      <td>0.0</td>\n",
       "      <td>3.0</td>\n",
       "      <td>13.0</td>\n",
       "      <td>16.0</td>\n",
       "      <td>2011</td>\n",
       "      <td>0</td>\n",
       "      <td>1</td>\n",
       "    </tr>\n",
       "    <tr>\n",
       "      <th>1</th>\n",
       "      <td>2011-01-01 01:00:00</td>\n",
       "      <td>1</td>\n",
       "      <td>0</td>\n",
       "      <td>0</td>\n",
       "      <td>1</td>\n",
       "      <td>9.02</td>\n",
       "      <td>13.635</td>\n",
       "      <td>80</td>\n",
       "      <td>0.0</td>\n",
       "      <td>8.0</td>\n",
       "      <td>32.0</td>\n",
       "      <td>40.0</td>\n",
       "      <td>2011</td>\n",
       "      <td>1</td>\n",
       "      <td>1</td>\n",
       "    </tr>\n",
       "    <tr>\n",
       "      <th>2</th>\n",
       "      <td>2011-01-01 02:00:00</td>\n",
       "      <td>1</td>\n",
       "      <td>0</td>\n",
       "      <td>0</td>\n",
       "      <td>1</td>\n",
       "      <td>9.02</td>\n",
       "      <td>13.635</td>\n",
       "      <td>80</td>\n",
       "      <td>0.0</td>\n",
       "      <td>5.0</td>\n",
       "      <td>27.0</td>\n",
       "      <td>32.0</td>\n",
       "      <td>2011</td>\n",
       "      <td>2</td>\n",
       "      <td>1</td>\n",
       "    </tr>\n",
       "    <tr>\n",
       "      <th>3</th>\n",
       "      <td>2011-01-01 03:00:00</td>\n",
       "      <td>1</td>\n",
       "      <td>0</td>\n",
       "      <td>0</td>\n",
       "      <td>1</td>\n",
       "      <td>9.84</td>\n",
       "      <td>14.395</td>\n",
       "      <td>75</td>\n",
       "      <td>0.0</td>\n",
       "      <td>3.0</td>\n",
       "      <td>10.0</td>\n",
       "      <td>13.0</td>\n",
       "      <td>2011</td>\n",
       "      <td>3</td>\n",
       "      <td>1</td>\n",
       "    </tr>\n",
       "    <tr>\n",
       "      <th>4</th>\n",
       "      <td>2011-01-01 04:00:00</td>\n",
       "      <td>1</td>\n",
       "      <td>0</td>\n",
       "      <td>0</td>\n",
       "      <td>1</td>\n",
       "      <td>9.84</td>\n",
       "      <td>14.395</td>\n",
       "      <td>75</td>\n",
       "      <td>0.0</td>\n",
       "      <td>0.0</td>\n",
       "      <td>1.0</td>\n",
       "      <td>1.0</td>\n",
       "      <td>2011</td>\n",
       "      <td>4</td>\n",
       "      <td>1</td>\n",
       "    </tr>\n",
       "  </tbody>\n",
       "</table>\n",
       "</div>"
      ],
      "text/plain": [
       "             datetime  season  holiday  workingday  weather  temp   atemp  \\\n",
       "0 2011-01-01 00:00:00       1        0           0        1  9.84  14.395   \n",
       "1 2011-01-01 01:00:00       1        0           0        1  9.02  13.635   \n",
       "2 2011-01-01 02:00:00       1        0           0        1  9.02  13.635   \n",
       "3 2011-01-01 03:00:00       1        0           0        1  9.84  14.395   \n",
       "4 2011-01-01 04:00:00       1        0           0        1  9.84  14.395   \n",
       "\n",
       "   humidity  windspeed  casual  registered  count  year  hour  month  \n",
       "0        81        0.0     3.0        13.0   16.0  2011     0      1  \n",
       "1        80        0.0     8.0        32.0   40.0  2011     1      1  \n",
       "2        80        0.0     5.0        27.0   32.0  2011     2      1  \n",
       "3        75        0.0     3.0        10.0   13.0  2011     3      1  \n",
       "4        75        0.0     0.0         1.0    1.0  2011     4      1  "
      ]
     },
     "execution_count": 8,
     "metadata": {},
     "output_type": "execute_result"
    }
   ],
   "source": [
    "all_data.head()"
   ]
  },
  {
   "cell_type": "code",
   "execution_count": 9,
   "metadata": {
    "execution": {
     "iopub.execute_input": "2022-01-06T05:43:27.078695Z",
     "iopub.status.busy": "2022-01-06T05:43:27.077903Z",
     "iopub.status.idle": "2022-01-06T05:43:27.095737Z",
     "shell.execute_reply": "2022-01-06T05:43:27.094102Z",
     "shell.execute_reply.started": "2022-01-06T05:43:27.078644Z"
    }
   },
   "outputs": [
    {
     "data": {
      "text/html": [
       "<div>\n",
       "<style scoped>\n",
       "    .dataframe tbody tr th:only-of-type {\n",
       "        vertical-align: middle;\n",
       "    }\n",
       "\n",
       "    .dataframe tbody tr th {\n",
       "        vertical-align: top;\n",
       "    }\n",
       "\n",
       "    .dataframe thead th {\n",
       "        text-align: right;\n",
       "    }\n",
       "</style>\n",
       "<table border=\"1\" class=\"dataframe\">\n",
       "  <thead>\n",
       "    <tr style=\"text-align: right;\">\n",
       "      <th></th>\n",
       "      <th>index</th>\n",
       "      <th>holiday</th>\n",
       "    </tr>\n",
       "  </thead>\n",
       "  <tbody>\n",
       "    <tr>\n",
       "      <th>0</th>\n",
       "      <td>0</td>\n",
       "      <td>16879</td>\n",
       "    </tr>\n",
       "    <tr>\n",
       "      <th>1</th>\n",
       "      <td>1</td>\n",
       "      <td>500</td>\n",
       "    </tr>\n",
       "  </tbody>\n",
       "</table>\n",
       "</div>"
      ],
      "text/plain": [
       "   index  holiday\n",
       "0      0    16879\n",
       "1      1      500"
      ]
     },
     "execution_count": 9,
     "metadata": {},
     "output_type": "execute_result"
    }
   ],
   "source": [
    "all_data['holiday'].value_counts().reset_index()\n",
    "# 대부분 휴일이 아니고, 휴일은 전체 500개의 행 정도 된다."
   ]
  },
  {
   "cell_type": "code",
   "execution_count": 10,
   "metadata": {
    "execution": {
     "iopub.execute_input": "2022-01-06T05:43:27.098267Z",
     "iopub.status.busy": "2022-01-06T05:43:27.097613Z",
     "iopub.status.idle": "2022-01-06T05:43:27.111604Z",
     "shell.execute_reply": "2022-01-06T05:43:27.110699Z",
     "shell.execute_reply.started": "2022-01-06T05:43:27.098199Z"
    }
   },
   "outputs": [
    {
     "data": {
      "text/html": [
       "<div>\n",
       "<style scoped>\n",
       "    .dataframe tbody tr th:only-of-type {\n",
       "        vertical-align: middle;\n",
       "    }\n",
       "\n",
       "    .dataframe tbody tr th {\n",
       "        vertical-align: top;\n",
       "    }\n",
       "\n",
       "    .dataframe thead th {\n",
       "        text-align: right;\n",
       "    }\n",
       "</style>\n",
       "<table border=\"1\" class=\"dataframe\">\n",
       "  <thead>\n",
       "    <tr style=\"text-align: right;\">\n",
       "      <th></th>\n",
       "      <th>index</th>\n",
       "      <th>workingday</th>\n",
       "    </tr>\n",
       "  </thead>\n",
       "  <tbody>\n",
       "    <tr>\n",
       "      <th>0</th>\n",
       "      <td>1</td>\n",
       "      <td>11865</td>\n",
       "    </tr>\n",
       "    <tr>\n",
       "      <th>1</th>\n",
       "      <td>0</td>\n",
       "      <td>5514</td>\n",
       "    </tr>\n",
       "  </tbody>\n",
       "</table>\n",
       "</div>"
      ],
      "text/plain": [
       "   index  workingday\n",
       "0      1       11865\n",
       "1      0        5514"
      ]
     },
     "execution_count": 10,
     "metadata": {},
     "output_type": "execute_result"
    }
   ],
   "source": [
    "all_data['workingday'].value_counts().reset_index()\n",
    "# 주말, 휴일 제외 5514개의 행 정도 된다."
   ]
  },
  {
   "cell_type": "markdown",
   "metadata": {},
   "source": [
    "## 03. 그래프 그리기"
   ]
  },
  {
   "cell_type": "markdown",
   "metadata": {},
   "source": [
    "### 03-1 year별 bke rental 수"
   ]
  },
  {
   "cell_type": "code",
   "execution_count": 11,
   "metadata": {
    "execution": {
     "iopub.execute_input": "2022-01-06T05:46:07.417783Z",
     "iopub.status.busy": "2022-01-06T05:46:07.417353Z",
     "iopub.status.idle": "2022-01-06T05:46:07.425770Z",
     "shell.execute_reply": "2022-01-06T05:46:07.424745Z",
     "shell.execute_reply.started": "2022-01-06T05:46:07.417752Z"
    }
   },
   "outputs": [
    {
     "data": {
      "text/plain": [
       "array([2011, 2012], dtype=int64)"
      ]
     },
     "execution_count": 11,
     "metadata": {},
     "output_type": "execute_result"
    }
   ],
   "source": [
    "all_data['year'].unique()"
   ]
  },
  {
   "cell_type": "code",
   "execution_count": 12,
   "metadata": {
    "execution": {
     "iopub.execute_input": "2022-01-06T05:46:10.129509Z",
     "iopub.status.busy": "2022-01-06T05:46:10.128929Z",
     "iopub.status.idle": "2022-01-06T05:46:10.337559Z",
     "shell.execute_reply": "2022-01-06T05:46:10.336480Z",
     "shell.execute_reply.started": "2022-01-06T05:46:10.129456Z"
    }
   },
   "outputs": [
    {
     "name": "stderr",
     "output_type": "stream",
     "text": [
      "C:\\Users\\Seokmin Kim\\anaconda3\\lib\\site-packages\\seaborn\\_decorators.py:36: FutureWarning: Pass the following variables as keyword args: x, y. From version 0.12, the only valid positional argument will be `data`, and passing other arguments without an explicit keyword will result in an error or misinterpretation.\n",
      "  warnings.warn(\n"
     ]
    },
    {
     "data": {
      "text/plain": [
       "<AxesSubplot:xlabel='year', ylabel='count'>"
      ]
     },
     "execution_count": 12,
     "metadata": {},
     "output_type": "execute_result"
    },
    {
     "data": {
      "image/png": "[encoded data removed]",
      "text/plain": [
       "<Figure size 1440x864 with 1 Axes>"
      ]
     },
     "metadata": {
      "needs_background": "light"
     },
     "output_type": "display_data"
    }
   ],
   "source": [
    "# 년도별 bike rental 수\n",
    "plt.figure(figsize=(20,12))\n",
    "sns.boxplot(all_data['year'],all_data['count'])"
   ]
  },
  {
   "cell_type": "code",
   "execution_count": 13,
   "metadata": {
    "execution": {
     "iopub.execute_input": "2022-01-06T05:43:27.380585Z",
     "iopub.status.busy": "2022-01-06T05:43:27.380263Z",
     "iopub.status.idle": "2022-01-06T05:43:27.385838Z",
     "shell.execute_reply": "2022-01-06T05:43:27.384738Z",
     "shell.execute_reply.started": "2022-01-06T05:43:27.380554Z"
    }
   },
   "outputs": [],
   "source": [
    "# 2012년에 2011년보다 자전거를 많이 대여한 것을 알 수 있다."
   ]
  },
  {
   "cell_type": "markdown",
   "metadata": {},
   "source": [
    "### 03-2 시간별 bike rental 수"
   ]
  },
  {
   "cell_type": "code",
   "execution_count": 14,
   "metadata": {
    "execution": {
     "iopub.execute_input": "2022-01-06T05:48:21.258387Z",
     "iopub.status.busy": "2022-01-06T05:48:21.258016Z",
     "iopub.status.idle": "2022-01-06T05:48:21.268101Z",
     "shell.execute_reply": "2022-01-06T05:48:21.266922Z",
     "shell.execute_reply.started": "2022-01-06T05:48:21.258355Z"
    }
   },
   "outputs": [
    {
     "data": {
      "text/plain": [
       "16    730\n",
       "17    730\n",
       "15    729\n",
       "13    729\n",
       "14    729\n",
       "22    728\n",
       "18    728\n",
       "19    728\n",
       "20    728\n",
       "21    728\n",
       "23    728\n",
       "12    728\n",
       "7     727\n",
       "8     727\n",
       "9     727\n",
       "10    727\n",
       "11    727\n",
       "0     726\n",
       "6     725\n",
       "1     724\n",
       "5     717\n",
       "2     715\n",
       "4     697\n",
       "3     697\n",
       "Name: hour, dtype: int64"
      ]
     },
     "execution_count": 14,
     "metadata": {},
     "output_type": "execute_result"
    }
   ],
   "source": [
    "all_data['hour'].value_counts()"
   ]
  },
  {
   "cell_type": "code",
   "execution_count": 15,
   "metadata": {
    "execution": {
     "iopub.execute_input": "2022-01-06T05:48:38.103835Z",
     "iopub.status.busy": "2022-01-06T05:48:38.103428Z",
     "iopub.status.idle": "2022-01-06T05:48:38.735510Z",
     "shell.execute_reply": "2022-01-06T05:48:38.734608Z",
     "shell.execute_reply.started": "2022-01-06T05:48:38.103803Z"
    }
   },
   "outputs": [
    {
     "name": "stderr",
     "output_type": "stream",
     "text": [
      "C:\\Users\\Seokmin Kim\\anaconda3\\lib\\site-packages\\seaborn\\_decorators.py:36: FutureWarning: Pass the following variables as keyword args: x, y. From version 0.12, the only valid positional argument will be `data`, and passing other arguments without an explicit keyword will result in an error or misinterpretation.\n",
      "  warnings.warn(\n"
     ]
    },
    {
     "data": {
      "text/plain": [
       "<AxesSubplot:xlabel='hour', ylabel='count'>"
      ]
     },
     "execution_count": 15,
     "metadata": {},
     "output_type": "execute_result"
    },
    {
     "data": {
      "image/png": "[encoded data removed]",
      "text/plain": [
       "<Figure size 1440x864 with 1 Axes>"
      ]
     },
     "metadata": {
      "needs_background": "light"
     },
     "output_type": "display_data"
    }
   ],
   "source": [
    "plt.figure(figsize=(20,12))\n",
    "sns.boxplot(all_data['hour'],all_data['count'])"
   ]
  },
  {
   "cell_type": "code",
   "execution_count": 16,
   "metadata": {
    "execution": {
     "iopub.execute_input": "2022-01-06T05:43:28.343896Z",
     "iopub.status.busy": "2022-01-06T05:43:28.343331Z",
     "iopub.status.idle": "2022-01-06T05:43:28.348954Z",
     "shell.execute_reply": "2022-01-06T05:43:28.347688Z",
     "shell.execute_reply.started": "2022-01-06T05:43:28.343846Z"
    }
   },
   "outputs": [],
   "source": [
    "# 시간대 별도 자전거 대여한 수 차이가 많이나는 것을 확인할 수 있다.\n",
    "# 새벽에는 많이 타지 않고, 출근길 8, 퇴근길 17,18에 많이 타는 것을 알 수 있다."
   ]
  },
  {
   "cell_type": "markdown",
   "metadata": {},
   "source": [
    "### 03-3 windspeed 분포 파악"
   ]
  },
  {
   "cell_type": "code",
   "execution_count": 17,
   "metadata": {
    "execution": {
     "iopub.execute_input": "2022-01-06T05:50:06.096189Z",
     "iopub.status.busy": "2022-01-06T05:50:06.095571Z",
     "iopub.status.idle": "2022-01-06T05:50:06.110575Z",
     "shell.execute_reply": "2022-01-06T05:50:06.109426Z",
     "shell.execute_reply.started": "2022-01-06T05:50:06.096119Z"
    }
   },
   "outputs": [
    {
     "data": {
      "text/plain": [
       "count    17379.000000\n",
       "mean        12.736540\n",
       "std          8.196795\n",
       "min          0.000000\n",
       "25%          7.001500\n",
       "50%         12.998000\n",
       "75%         16.997900\n",
       "max         56.996900\n",
       "Name: windspeed, dtype: float64"
      ]
     },
     "execution_count": 17,
     "metadata": {},
     "output_type": "execute_result"
    }
   ],
   "source": [
    "all_data['windspeed'].describe()"
   ]
  },
  {
   "cell_type": "code",
   "execution_count": 18,
   "metadata": {
    "execution": {
     "iopub.execute_input": "2022-01-06T05:49:30.437588Z",
     "iopub.status.busy": "2022-01-06T05:49:30.437193Z",
     "iopub.status.idle": "2022-01-06T05:49:30.658517Z",
     "shell.execute_reply": "2022-01-06T05:49:30.657557Z",
     "shell.execute_reply.started": "2022-01-06T05:49:30.437556Z"
    }
   },
   "outputs": [
    {
     "data": {
      "text/plain": [
       "(array([2.180e+03, 6.475e+03, 4.465e+03, 2.458e+03, 1.137e+03, 4.340e+02,\n",
       "        1.670e+02, 4.800e+01, 9.000e+00, 6.000e+00]),\n",
       " array([ 0.     ,  5.69969, 11.39938, 17.09907, 22.79876, 28.49845,\n",
       "        34.19814, 39.89783, 45.59752, 51.29721, 56.9969 ]),\n",
       " <BarContainer object of 10 artists>)"
      ]
     },
     "execution_count": 18,
     "metadata": {},
     "output_type": "execute_result"
    },
    {
     "data": {
      "image/png": "[encoded data removed]",
      "text/plain": [
       "<Figure size 432x288 with 1 Axes>"
      ]
     },
     "metadata": {
      "needs_background": "light"
     },
     "output_type": "display_data"
    }
   ],
   "source": [
    "plt.hist(all_data['windspeed'])"
   ]
  },
  {
   "cell_type": "code",
   "execution_count": 19,
   "metadata": {
    "execution": {
     "iopub.execute_input": "2022-01-06T05:50:42.599565Z",
     "iopub.status.busy": "2022-01-06T05:50:42.598910Z",
     "iopub.status.idle": "2022-01-06T05:50:42.604050Z",
     "shell.execute_reply": "2022-01-06T05:50:42.603060Z",
     "shell.execute_reply.started": "2022-01-06T05:50:42.599529Z"
    }
   },
   "outputs": [],
   "source": [
    "# 대부분의 값이 20 이내의 값들로 분포합니다."
   ]
  },
  {
   "cell_type": "markdown",
   "metadata": {},
   "source": [
    "### 03-04 계절별 bike rental 수"
   ]
  },
  {
   "cell_type": "code",
   "execution_count": 20,
   "metadata": {
    "execution": {
     "iopub.execute_input": "2022-01-06T06:01:07.458984Z",
     "iopub.status.busy": "2022-01-06T06:01:07.458308Z",
     "iopub.status.idle": "2022-01-06T06:01:07.729245Z",
     "shell.execute_reply": "2022-01-06T06:01:07.727829Z",
     "shell.execute_reply.started": "2022-01-06T06:01:07.458949Z"
    }
   },
   "outputs": [
    {
     "name": "stderr",
     "output_type": "stream",
     "text": [
      "C:\\Users\\Seokmin Kim\\anaconda3\\lib\\site-packages\\seaborn\\_decorators.py:36: FutureWarning: Pass the following variables as keyword args: x, y. From version 0.12, the only valid positional argument will be `data`, and passing other arguments without an explicit keyword will result in an error or misinterpretation.\n",
      "  warnings.warn(\n"
     ]
    },
    {
     "data": {
      "text/plain": [
       "<AxesSubplot:xlabel='season', ylabel='count'>"
      ]
     },
     "execution_count": 20,
     "metadata": {},
     "output_type": "execute_result"
    },
    {
     "data": {
      "image/png": "[encoded data removed]",
      "text/plain": [
       "<Figure size 1440x1080 with 1 Axes>"
      ]
     },
     "metadata": {
      "needs_background": "light"
     },
     "output_type": "display_data"
    }
   ],
   "source": [
    "# 계절은 어떨까?\n",
    "plt.figure(figsize=(20,15))\n",
    "sns.boxplot(all_data['season'],all_data['count'])"
   ]
  },
  {
   "cell_type": "code",
   "execution_count": 21,
   "metadata": {
    "execution": {
     "iopub.execute_input": "2022-01-06T06:01:54.999691Z",
     "iopub.status.busy": "2022-01-06T06:01:54.999083Z",
     "iopub.status.idle": "2022-01-06T06:01:55.003509Z",
     "shell.execute_reply": "2022-01-06T06:01:55.002565Z",
     "shell.execute_reply.started": "2022-01-06T06:01:54.999639Z"
    }
   },
   "outputs": [],
   "source": [
    "# 계절별로 count 수 차이가 조금씩 있다고 볼 수 있습니다."
   ]
  },
  {
   "cell_type": "markdown",
   "metadata": {},
   "source": [
    "### 03-5 day별로 bike rental 수"
   ]
  },
  {
   "cell_type": "code",
   "execution_count": 22,
   "metadata": {
    "execution": {
     "iopub.execute_input": "2022-01-06T06:02:31.205277Z",
     "iopub.status.busy": "2022-01-06T06:02:31.204516Z",
     "iopub.status.idle": "2022-01-06T06:02:31.214745Z",
     "shell.execute_reply": "2022-01-06T06:02:31.213457Z",
     "shell.execute_reply.started": "2022-01-06T06:02:31.205236Z"
    }
   },
   "outputs": [],
   "source": [
    "# day는 괜찮을까?\n",
    "all_data['day'] = all_data['datetime'].dt.day"
   ]
  },
  {
   "cell_type": "code",
   "execution_count": 23,
   "metadata": {
    "execution": {
     "iopub.execute_input": "2022-01-06T06:02:31.679169Z",
     "iopub.status.busy": "2022-01-06T06:02:31.678651Z",
     "iopub.status.idle": "2022-01-06T06:02:32.313648Z",
     "shell.execute_reply": "2022-01-06T06:02:32.312294Z",
     "shell.execute_reply.started": "2022-01-06T06:02:31.679136Z"
    }
   },
   "outputs": [
    {
     "name": "stderr",
     "output_type": "stream",
     "text": [
      "C:\\Users\\Seokmin Kim\\anaconda3\\lib\\site-packages\\seaborn\\_decorators.py:36: FutureWarning: Pass the following variables as keyword args: x, y. From version 0.12, the only valid positional argument will be `data`, and passing other arguments without an explicit keyword will result in an error or misinterpretation.\n",
      "  warnings.warn(\n"
     ]
    },
    {
     "data": {
      "text/plain": [
       "<AxesSubplot:xlabel='day', ylabel='count'>"
      ]
     },
     "execution_count": 23,
     "metadata": {},
     "output_type": "execute_result"
    },
    {
     "data": {
      "image/png": "[encoded data removed]",
      "text/plain": [
       "<Figure size 1440x1080 with 1 Axes>"
      ]
     },
     "metadata": {
      "needs_background": "light"
     },
     "output_type": "display_data"
    }
   ],
   "source": [
    "plt.figure(figsize=(20,15))\n",
    "sns.boxplot(all_data['day'],all_data['count'])\n",
    "# 큰 차이는 없어 좋은 feature는 아닌 것 같다.\n",
    "# 1:19만 추출이 가능한가?"
   ]
  },
  {
   "cell_type": "code",
   "execution_count": 24,
   "metadata": {
    "execution": {
     "iopub.execute_input": "2022-01-06T06:02:59.125433Z",
     "iopub.status.busy": "2022-01-06T06:02:59.125062Z",
     "iopub.status.idle": "2022-01-06T06:02:59.129399Z",
     "shell.execute_reply": "2022-01-06T06:02:59.128520Z",
     "shell.execute_reply.started": "2022-01-06T06:02:59.125401Z"
    }
   },
   "outputs": [],
   "source": [
    "# 일별로 봤을 때는 큰 차이는 없고, 20~31일 같은 경우 데이터가 없기 때문에 그래프에 표시되지 않습니다."
   ]
  },
  {
   "cell_type": "markdown",
   "metadata": {},
   "source": [
    "### 03-6 holiday별 bike rental 수"
   ]
  },
  {
   "cell_type": "code",
   "execution_count": 25,
   "metadata": {
    "execution": {
     "iopub.execute_input": "2022-01-06T06:03:28.855777Z",
     "iopub.status.busy": "2022-01-06T06:03:28.855377Z",
     "iopub.status.idle": "2022-01-06T06:03:29.077461Z",
     "shell.execute_reply": "2022-01-06T06:03:29.076237Z",
     "shell.execute_reply.started": "2022-01-06T06:03:28.855743Z"
    }
   },
   "outputs": [
    {
     "name": "stderr",
     "output_type": "stream",
     "text": [
      "C:\\Users\\Seokmin Kim\\anaconda3\\lib\\site-packages\\seaborn\\_decorators.py:36: FutureWarning: Pass the following variables as keyword args: x, y. From version 0.12, the only valid positional argument will be `data`, and passing other arguments without an explicit keyword will result in an error or misinterpretation.\n",
      "  warnings.warn(\n"
     ]
    },
    {
     "data": {
      "text/plain": [
       "<AxesSubplot:xlabel='holiday', ylabel='count'>"
      ]
     },
     "execution_count": 25,
     "metadata": {},
     "output_type": "execute_result"
    },
    {
     "data": {
      "image/png": "[encoded data removed]",
      "text/plain": [
       "<Figure size 1440x1080 with 1 Axes>"
      ]
     },
     "metadata": {
      "needs_background": "light"
     },
     "output_type": "display_data"
    }
   ],
   "source": [
    "plt.figure(figsize=(20,15))\n",
    "sns.boxplot(all_data['holiday'],all_data['count'])"
   ]
  },
  {
   "cell_type": "code",
   "execution_count": 26,
   "metadata": {
    "execution": {
     "iopub.execute_input": "2022-01-06T06:03:32.570415Z",
     "iopub.status.busy": "2022-01-06T06:03:32.570030Z",
     "iopub.status.idle": "2022-01-06T06:03:32.576314Z",
     "shell.execute_reply": "2022-01-06T06:03:32.574384Z",
     "shell.execute_reply.started": "2022-01-06T06:03:32.570383Z"
    }
   },
   "outputs": [],
   "source": [
    "# 전체적인 분포는 차이가 없어 보이지만, holiday가 0일 때 outlier가 굉장히 많다."
   ]
  },
  {
   "cell_type": "markdown",
   "metadata": {},
   "source": [
    "### 03-7 workingday별 bike rental 수"
   ]
  },
  {
   "cell_type": "code",
   "execution_count": 27,
   "metadata": {
    "execution": {
     "iopub.execute_input": "2022-01-06T06:03:50.603201Z",
     "iopub.status.busy": "2022-01-06T06:03:50.602593Z",
     "iopub.status.idle": "2022-01-06T06:03:50.781873Z",
     "shell.execute_reply": "2022-01-06T06:03:50.780992Z",
     "shell.execute_reply.started": "2022-01-06T06:03:50.603167Z"
    }
   },
   "outputs": [
    {
     "name": "stderr",
     "output_type": "stream",
     "text": [
      "C:\\Users\\Seokmin Kim\\anaconda3\\lib\\site-packages\\seaborn\\_decorators.py:36: FutureWarning: Pass the following variables as keyword args: x, y. From version 0.12, the only valid positional argument will be `data`, and passing other arguments without an explicit keyword will result in an error or misinterpretation.\n",
      "  warnings.warn(\n"
     ]
    },
    {
     "data": {
      "text/plain": [
       "<AxesSubplot:xlabel='workingday', ylabel='count'>"
      ]
     },
     "execution_count": 27,
     "metadata": {},
     "output_type": "execute_result"
    },
    {
     "data": {
      "image/png": "[encoded data removed]",
      "text/plain": [
       "<Figure size 720x720 with 1 Axes>"
      ]
     },
     "metadata": {
      "needs_background": "light"
     },
     "output_type": "display_data"
    }
   ],
   "source": [
    "plt.figure(figsize=(10,10))\n",
    "sns.boxplot(all_data['workingday'],all_data['count'])"
   ]
  },
  {
   "cell_type": "code",
   "execution_count": 28,
   "metadata": {
    "execution": {
     "iopub.execute_input": "2022-01-06T06:04:07.390729Z",
     "iopub.status.busy": "2022-01-06T06:04:07.390272Z",
     "iopub.status.idle": "2022-01-06T06:04:07.396525Z",
     "shell.execute_reply": "2022-01-06T06:04:07.394995Z",
     "shell.execute_reply.started": "2022-01-06T06:04:07.390694Z"
    }
   },
   "outputs": [],
   "source": [
    "# workingday 별도 큰 차이가 없는 것을 확인할 수 있습니다."
   ]
  },
  {
   "cell_type": "markdown",
   "metadata": {},
   "source": [
    "### 03-8 weekday 파생변수 만들기"
   ]
  },
  {
   "cell_type": "code",
   "execution_count": 29,
   "metadata": {
    "execution": {
     "iopub.execute_input": "2022-01-06T06:04:22.164412Z",
     "iopub.status.busy": "2022-01-06T06:04:22.163955Z",
     "iopub.status.idle": "2022-01-06T06:04:22.199192Z",
     "shell.execute_reply": "2022-01-06T06:04:22.198360Z",
     "shell.execute_reply.started": "2022-01-06T06:04:22.164381Z"
    }
   },
   "outputs": [
    {
     "data": {
      "text/html": [
       "<div>\n",
       "<style scoped>\n",
       "    .dataframe tbody tr th:only-of-type {\n",
       "        vertical-align: middle;\n",
       "    }\n",
       "\n",
       "    .dataframe tbody tr th {\n",
       "        vertical-align: top;\n",
       "    }\n",
       "\n",
       "    .dataframe thead th {\n",
       "        text-align: right;\n",
       "    }\n",
       "</style>\n",
       "<table border=\"1\" class=\"dataframe\">\n",
       "  <thead>\n",
       "    <tr style=\"text-align: right;\">\n",
       "      <th></th>\n",
       "      <th>datetime</th>\n",
       "      <th>season</th>\n",
       "      <th>holiday</th>\n",
       "      <th>workingday</th>\n",
       "      <th>weather</th>\n",
       "      <th>temp</th>\n",
       "      <th>atemp</th>\n",
       "      <th>humidity</th>\n",
       "      <th>windspeed</th>\n",
       "      <th>casual</th>\n",
       "      <th>registered</th>\n",
       "      <th>count</th>\n",
       "      <th>year</th>\n",
       "      <th>hour</th>\n",
       "      <th>month</th>\n",
       "      <th>day</th>\n",
       "      <th>weekday</th>\n",
       "    </tr>\n",
       "  </thead>\n",
       "  <tbody>\n",
       "    <tr>\n",
       "      <th>0</th>\n",
       "      <td>2011-01-01 00:00:00</td>\n",
       "      <td>1</td>\n",
       "      <td>0</td>\n",
       "      <td>0</td>\n",
       "      <td>1</td>\n",
       "      <td>9.84</td>\n",
       "      <td>14.395</td>\n",
       "      <td>81</td>\n",
       "      <td>0.0000</td>\n",
       "      <td>3.0</td>\n",
       "      <td>13.0</td>\n",
       "      <td>16.0</td>\n",
       "      <td>2011</td>\n",
       "      <td>0</td>\n",
       "      <td>1</td>\n",
       "      <td>1</td>\n",
       "      <td>5</td>\n",
       "    </tr>\n",
       "    <tr>\n",
       "      <th>1</th>\n",
       "      <td>2011-01-01 01:00:00</td>\n",
       "      <td>1</td>\n",
       "      <td>0</td>\n",
       "      <td>0</td>\n",
       "      <td>1</td>\n",
       "      <td>9.02</td>\n",
       "      <td>13.635</td>\n",
       "      <td>80</td>\n",
       "      <td>0.0000</td>\n",
       "      <td>8.0</td>\n",
       "      <td>32.0</td>\n",
       "      <td>40.0</td>\n",
       "      <td>2011</td>\n",
       "      <td>1</td>\n",
       "      <td>1</td>\n",
       "      <td>1</td>\n",
       "      <td>5</td>\n",
       "    </tr>\n",
       "    <tr>\n",
       "      <th>2</th>\n",
       "      <td>2011-01-01 02:00:00</td>\n",
       "      <td>1</td>\n",
       "      <td>0</td>\n",
       "      <td>0</td>\n",
       "      <td>1</td>\n",
       "      <td>9.02</td>\n",
       "      <td>13.635</td>\n",
       "      <td>80</td>\n",
       "      <td>0.0000</td>\n",
       "      <td>5.0</td>\n",
       "      <td>27.0</td>\n",
       "      <td>32.0</td>\n",
       "      <td>2011</td>\n",
       "      <td>2</td>\n",
       "      <td>1</td>\n",
       "      <td>1</td>\n",
       "      <td>5</td>\n",
       "    </tr>\n",
       "    <tr>\n",
       "      <th>3</th>\n",
       "      <td>2011-01-01 03:00:00</td>\n",
       "      <td>1</td>\n",
       "      <td>0</td>\n",
       "      <td>0</td>\n",
       "      <td>1</td>\n",
       "      <td>9.84</td>\n",
       "      <td>14.395</td>\n",
       "      <td>75</td>\n",
       "      <td>0.0000</td>\n",
       "      <td>3.0</td>\n",
       "      <td>10.0</td>\n",
       "      <td>13.0</td>\n",
       "      <td>2011</td>\n",
       "      <td>3</td>\n",
       "      <td>1</td>\n",
       "      <td>1</td>\n",
       "      <td>5</td>\n",
       "    </tr>\n",
       "    <tr>\n",
       "      <th>4</th>\n",
       "      <td>2011-01-01 04:00:00</td>\n",
       "      <td>1</td>\n",
       "      <td>0</td>\n",
       "      <td>0</td>\n",
       "      <td>1</td>\n",
       "      <td>9.84</td>\n",
       "      <td>14.395</td>\n",
       "      <td>75</td>\n",
       "      <td>0.0000</td>\n",
       "      <td>0.0</td>\n",
       "      <td>1.0</td>\n",
       "      <td>1.0</td>\n",
       "      <td>2011</td>\n",
       "      <td>4</td>\n",
       "      <td>1</td>\n",
       "      <td>1</td>\n",
       "      <td>5</td>\n",
       "    </tr>\n",
       "    <tr>\n",
       "      <th>...</th>\n",
       "      <td>...</td>\n",
       "      <td>...</td>\n",
       "      <td>...</td>\n",
       "      <td>...</td>\n",
       "      <td>...</td>\n",
       "      <td>...</td>\n",
       "      <td>...</td>\n",
       "      <td>...</td>\n",
       "      <td>...</td>\n",
       "      <td>...</td>\n",
       "      <td>...</td>\n",
       "      <td>...</td>\n",
       "      <td>...</td>\n",
       "      <td>...</td>\n",
       "      <td>...</td>\n",
       "      <td>...</td>\n",
       "      <td>...</td>\n",
       "    </tr>\n",
       "    <tr>\n",
       "      <th>6488</th>\n",
       "      <td>2012-12-31 19:00:00</td>\n",
       "      <td>1</td>\n",
       "      <td>0</td>\n",
       "      <td>1</td>\n",
       "      <td>2</td>\n",
       "      <td>10.66</td>\n",
       "      <td>12.880</td>\n",
       "      <td>60</td>\n",
       "      <td>11.0014</td>\n",
       "      <td>NaN</td>\n",
       "      <td>NaN</td>\n",
       "      <td>NaN</td>\n",
       "      <td>2012</td>\n",
       "      <td>19</td>\n",
       "      <td>12</td>\n",
       "      <td>31</td>\n",
       "      <td>0</td>\n",
       "    </tr>\n",
       "    <tr>\n",
       "      <th>6489</th>\n",
       "      <td>2012-12-31 20:00:00</td>\n",
       "      <td>1</td>\n",
       "      <td>0</td>\n",
       "      <td>1</td>\n",
       "      <td>2</td>\n",
       "      <td>10.66</td>\n",
       "      <td>12.880</td>\n",
       "      <td>60</td>\n",
       "      <td>11.0014</td>\n",
       "      <td>NaN</td>\n",
       "      <td>NaN</td>\n",
       "      <td>NaN</td>\n",
       "      <td>2012</td>\n",
       "      <td>20</td>\n",
       "      <td>12</td>\n",
       "      <td>31</td>\n",
       "      <td>0</td>\n",
       "    </tr>\n",
       "    <tr>\n",
       "      <th>6490</th>\n",
       "      <td>2012-12-31 21:00:00</td>\n",
       "      <td>1</td>\n",
       "      <td>0</td>\n",
       "      <td>1</td>\n",
       "      <td>1</td>\n",
       "      <td>10.66</td>\n",
       "      <td>12.880</td>\n",
       "      <td>60</td>\n",
       "      <td>11.0014</td>\n",
       "      <td>NaN</td>\n",
       "      <td>NaN</td>\n",
       "      <td>NaN</td>\n",
       "      <td>2012</td>\n",
       "      <td>21</td>\n",
       "      <td>12</td>\n",
       "      <td>31</td>\n",
       "      <td>0</td>\n",
       "    </tr>\n",
       "    <tr>\n",
       "      <th>6491</th>\n",
       "      <td>2012-12-31 22:00:00</td>\n",
       "      <td>1</td>\n",
       "      <td>0</td>\n",
       "      <td>1</td>\n",
       "      <td>1</td>\n",
       "      <td>10.66</td>\n",
       "      <td>13.635</td>\n",
       "      <td>56</td>\n",
       "      <td>8.9981</td>\n",
       "      <td>NaN</td>\n",
       "      <td>NaN</td>\n",
       "      <td>NaN</td>\n",
       "      <td>2012</td>\n",
       "      <td>22</td>\n",
       "      <td>12</td>\n",
       "      <td>31</td>\n",
       "      <td>0</td>\n",
       "    </tr>\n",
       "    <tr>\n",
       "      <th>6492</th>\n",
       "      <td>2012-12-31 23:00:00</td>\n",
       "      <td>1</td>\n",
       "      <td>0</td>\n",
       "      <td>1</td>\n",
       "      <td>1</td>\n",
       "      <td>10.66</td>\n",
       "      <td>13.635</td>\n",
       "      <td>65</td>\n",
       "      <td>8.9981</td>\n",
       "      <td>NaN</td>\n",
       "      <td>NaN</td>\n",
       "      <td>NaN</td>\n",
       "      <td>2012</td>\n",
       "      <td>23</td>\n",
       "      <td>12</td>\n",
       "      <td>31</td>\n",
       "      <td>0</td>\n",
       "    </tr>\n",
       "  </tbody>\n",
       "</table>\n",
       "<p>17379 rows × 17 columns</p>\n",
       "</div>"
      ],
      "text/plain": [
       "                datetime  season  holiday  workingday  weather   temp   atemp  \\\n",
       "0    2011-01-01 00:00:00       1        0           0        1   9.84  14.395   \n",
       "1    2011-01-01 01:00:00       1        0           0        1   9.02  13.635   \n",
       "2    2011-01-01 02:00:00       1        0           0        1   9.02  13.635   \n",
       "3    2011-01-01 03:00:00       1        0           0        1   9.84  14.395   \n",
       "4    2011-01-01 04:00:00       1        0           0        1   9.84  14.395   \n",
       "...                  ...     ...      ...         ...      ...    ...     ...   \n",
       "6488 2012-12-31 19:00:00       1        0           1        2  10.66  12.880   \n",
       "6489 2012-12-31 20:00:00       1        0           1        2  10.66  12.880   \n",
       "6490 2012-12-31 21:00:00       1        0           1        1  10.66  12.880   \n",
       "6491 2012-12-31 22:00:00       1        0           1        1  10.66  13.635   \n",
       "6492 2012-12-31 23:00:00       1        0           1        1  10.66  13.635   \n",
       "\n",
       "      humidity  windspeed  casual  registered  count  year  hour  month  day  \\\n",
       "0           81     0.0000     3.0        13.0   16.0  2011     0      1    1   \n",
       "1           80     0.0000     8.0        32.0   40.0  2011     1      1    1   \n",
       "2           80     0.0000     5.0        27.0   32.0  2011     2      1    1   \n",
       "3           75     0.0000     3.0        10.0   13.0  2011     3      1    1   \n",
       "4           75     0.0000     0.0         1.0    1.0  2011     4      1    1   \n",
       "...        ...        ...     ...         ...    ...   ...   ...    ...  ...   \n",
       "6488        60    11.0014     NaN         NaN    NaN  2012    19     12   31   \n",
       "6489        60    11.0014     NaN         NaN    NaN  2012    20     12   31   \n",
       "6490        60    11.0014     NaN         NaN    NaN  2012    21     12   31   \n",
       "6491        56     8.9981     NaN         NaN    NaN  2012    22     12   31   \n",
       "6492        65     8.9981     NaN         NaN    NaN  2012    23     12   31   \n",
       "\n",
       "      weekday  \n",
       "0           5  \n",
       "1           5  \n",
       "2           5  \n",
       "3           5  \n",
       "4           5  \n",
       "...       ...  \n",
       "6488        0  \n",
       "6489        0  \n",
       "6490        0  \n",
       "6491        0  \n",
       "6492        0  \n",
       "\n",
       "[17379 rows x 17 columns]"
      ]
     },
     "execution_count": 29,
     "metadata": {},
     "output_type": "execute_result"
    }
   ],
   "source": [
    "all_data['weekday'] = all_data['datetime'].dt.weekday\n",
    "all_data"
   ]
  },
  {
   "cell_type": "code",
   "execution_count": 30,
   "metadata": {
    "execution": {
     "iopub.execute_input": "2022-01-06T06:04:22.688396Z",
     "iopub.status.busy": "2022-01-06T06:04:22.687772Z",
     "iopub.status.idle": "2022-01-06T06:04:23.004571Z",
     "shell.execute_reply": "2022-01-06T06:04:23.003062Z",
     "shell.execute_reply.started": "2022-01-06T06:04:22.688361Z"
    }
   },
   "outputs": [
    {
     "name": "stderr",
     "output_type": "stream",
     "text": [
      "C:\\Users\\Seokmin Kim\\anaconda3\\lib\\site-packages\\seaborn\\_decorators.py:36: FutureWarning: Pass the following variables as keyword args: x, y. From version 0.12, the only valid positional argument will be `data`, and passing other arguments without an explicit keyword will result in an error or misinterpretation.\n",
      "  warnings.warn(\n"
     ]
    },
    {
     "data": {
      "text/plain": [
       "<AxesSubplot:xlabel='weekday', ylabel='count'>"
      ]
     },
     "execution_count": 30,
     "metadata": {},
     "output_type": "execute_result"
    },
    {
     "data": {
      "image/png": "[encoded data removed]",
      "text/plain": [
       "<Figure size 1440x1080 with 1 Axes>"
      ]
     },
     "metadata": {
      "needs_background": "light"
     },
     "output_type": "display_data"
    }
   ],
   "source": [
    "# 요일은 상관 있을까?\n",
    "plt.figure(figsize=(20,15))\n",
    "sns.boxplot(all_data['weekday'],all_data['count'])\n",
    "\n",
    "# 큰 차이는 없어보인다."
   ]
  },
  {
   "cell_type": "code",
   "execution_count": 31,
   "metadata": {
    "execution": {
     "iopub.execute_input": "2022-01-06T06:05:16.824332Z",
     "iopub.status.busy": "2022-01-06T06:05:16.823814Z",
     "iopub.status.idle": "2022-01-06T06:05:16.829475Z",
     "shell.execute_reply": "2022-01-06T06:05:16.828361Z",
     "shell.execute_reply.started": "2022-01-06T06:05:16.824298Z"
    }
   },
   "outputs": [],
   "source": [
    "# 차이가 조금 있는 것을 확인할 수 있고, 6(일요일) 같은 경우 상대적으로 다른 요일보다 낮은 것을 확인할 수 있습니다."
   ]
  },
  {
   "cell_type": "markdown",
   "metadata": {},
   "source": [
    "### 03-9 월별 bike rental 수"
   ]
  },
  {
   "cell_type": "code",
   "execution_count": 32,
   "metadata": {
    "execution": {
     "iopub.execute_input": "2022-01-06T06:05:30.293412Z",
     "iopub.status.busy": "2022-01-06T06:05:30.293046Z",
     "iopub.status.idle": "2022-01-06T06:05:30.717650Z",
     "shell.execute_reply": "2022-01-06T06:05:30.716468Z",
     "shell.execute_reply.started": "2022-01-06T06:05:30.293380Z"
    }
   },
   "outputs": [
    {
     "name": "stderr",
     "output_type": "stream",
     "text": [
      "C:\\Users\\Seokmin Kim\\anaconda3\\lib\\site-packages\\seaborn\\_decorators.py:36: FutureWarning: Pass the following variables as keyword args: x, y. From version 0.12, the only valid positional argument will be `data`, and passing other arguments without an explicit keyword will result in an error or misinterpretation.\n",
      "  warnings.warn(\n"
     ]
    },
    {
     "data": {
      "text/plain": [
       "<AxesSubplot:xlabel='month', ylabel='count'>"
      ]
     },
     "execution_count": 32,
     "metadata": {},
     "output_type": "execute_result"
    },
    {
     "data": {
      "image/png": "[encoded data removed]",
      "text/plain": [
       "<Figure size 1440x1080 with 1 Axes>"
      ]
     },
     "metadata": {
      "needs_background": "light"
     },
     "output_type": "display_data"
    }
   ],
   "source": [
    "plt.figure(figsize=(20,15))\n",
    "sns.boxplot(all_data['month'],all_data['count'])"
   ]
  },
  {
   "cell_type": "code",
   "execution_count": 33,
   "metadata": {
    "execution": {
     "iopub.execute_input": "2022-01-06T06:05:42.013928Z",
     "iopub.status.busy": "2022-01-06T06:05:42.013184Z",
     "iopub.status.idle": "2022-01-06T06:05:42.018297Z",
     "shell.execute_reply": "2022-01-06T06:05:42.017202Z",
     "shell.execute_reply.started": "2022-01-06T06:05:42.013890Z"
    }
   },
   "outputs": [],
   "source": [
    "#  평균적으로 5~10 큰 차이를 보여주지 않는다."
   ]
  },
  {
   "cell_type": "markdown",
   "metadata": {},
   "source": [
    "### 03-10 weather별 bike rental 수"
   ]
  },
  {
   "cell_type": "code",
   "execution_count": 34,
   "metadata": {
    "execution": {
     "iopub.execute_input": "2022-01-06T06:06:02.573993Z",
     "iopub.status.busy": "2022-01-06T06:06:02.573431Z",
     "iopub.status.idle": "2022-01-06T06:06:02.779496Z",
     "shell.execute_reply": "2022-01-06T06:06:02.778205Z",
     "shell.execute_reply.started": "2022-01-06T06:06:02.573942Z"
    }
   },
   "outputs": [
    {
     "name": "stderr",
     "output_type": "stream",
     "text": [
      "C:\\Users\\Seokmin Kim\\anaconda3\\lib\\site-packages\\seaborn\\_decorators.py:36: FutureWarning: Pass the following variables as keyword args: x, y. From version 0.12, the only valid positional argument will be `data`, and passing other arguments without an explicit keyword will result in an error or misinterpretation.\n",
      "  warnings.warn(\n"
     ]
    },
    {
     "data": {
      "text/plain": [
       "<AxesSubplot:xlabel='weather', ylabel='count'>"
      ]
     },
     "execution_count": 34,
     "metadata": {},
     "output_type": "execute_result"
    },
    {
     "data": {
      "image/png": "[encoded data removed]",
      "text/plain": [
       "<Figure size 432x288 with 1 Axes>"
      ]
     },
     "metadata": {
      "needs_background": "light"
     },
     "output_type": "display_data"
    }
   ],
   "source": [
    "sns.boxplot(all_data['weather'],all_data['count'])"
   ]
  },
  {
   "cell_type": "code",
   "execution_count": 35,
   "metadata": {
    "execution": {
     "iopub.execute_input": "2022-01-06T06:06:54.749747Z",
     "iopub.status.busy": "2022-01-06T06:06:54.749226Z",
     "iopub.status.idle": "2022-01-06T06:06:54.754036Z",
     "shell.execute_reply": "2022-01-06T06:06:54.752924Z",
     "shell.execute_reply.started": "2022-01-06T06:06:54.749715Z"
    }
   },
   "outputs": [],
   "source": [
    "# all_data[all_data['weather']==4] = all_data[all_data['weather']==4].replace({'weather':4},{'weather':3})\n",
    "# 데이터 분포가 많이 다른 것을 확인할 수 있으며, weather이 4인 경우에는 데이터가 매우 적은 것을 알 수 있습니다."
   ]
  },
  {
   "cell_type": "code",
   "execution_count": 36,
   "metadata": {
    "execution": {
     "iopub.execute_input": "2022-01-06T06:06:55.708265Z",
     "iopub.status.busy": "2022-01-06T06:06:55.707713Z",
     "iopub.status.idle": "2022-01-06T06:06:55.717074Z",
     "shell.execute_reply": "2022-01-06T06:06:55.716176Z",
     "shell.execute_reply.started": "2022-01-06T06:06:55.708210Z"
    }
   },
   "outputs": [
    {
     "data": {
      "text/plain": [
       "array([1, 2, 3, 4], dtype=int64)"
      ]
     },
     "execution_count": 36,
     "metadata": {},
     "output_type": "execute_result"
    }
   ],
   "source": [
    "all_data['weather'].unique()"
   ]
  },
  {
   "cell_type": "code",
   "execution_count": 37,
   "metadata": {
    "execution": {
     "iopub.execute_input": "2022-01-06T06:06:56.034071Z",
     "iopub.status.busy": "2022-01-06T06:06:56.033459Z",
     "iopub.status.idle": "2022-01-06T06:06:56.056478Z",
     "shell.execute_reply": "2022-01-06T06:06:56.055236Z",
     "shell.execute_reply.started": "2022-01-06T06:06:56.034037Z"
    }
   },
   "outputs": [
    {
     "data": {
      "text/html": [
       "<div>\n",
       "<style scoped>\n",
       "    .dataframe tbody tr th:only-of-type {\n",
       "        vertical-align: middle;\n",
       "    }\n",
       "\n",
       "    .dataframe tbody tr th {\n",
       "        vertical-align: top;\n",
       "    }\n",
       "\n",
       "    .dataframe thead th {\n",
       "        text-align: right;\n",
       "    }\n",
       "</style>\n",
       "<table border=\"1\" class=\"dataframe\">\n",
       "  <thead>\n",
       "    <tr style=\"text-align: right;\">\n",
       "      <th></th>\n",
       "      <th>datetime</th>\n",
       "      <th>season</th>\n",
       "      <th>holiday</th>\n",
       "      <th>workingday</th>\n",
       "      <th>weather</th>\n",
       "      <th>temp</th>\n",
       "      <th>atemp</th>\n",
       "      <th>humidity</th>\n",
       "      <th>windspeed</th>\n",
       "      <th>casual</th>\n",
       "      <th>registered</th>\n",
       "      <th>count</th>\n",
       "      <th>year</th>\n",
       "      <th>hour</th>\n",
       "      <th>month</th>\n",
       "      <th>day</th>\n",
       "      <th>weekday</th>\n",
       "    </tr>\n",
       "  </thead>\n",
       "  <tbody>\n",
       "    <tr>\n",
       "      <th>5631</th>\n",
       "      <td>2012-01-09 18:00:00</td>\n",
       "      <td>1</td>\n",
       "      <td>0</td>\n",
       "      <td>1</td>\n",
       "      <td>4</td>\n",
       "      <td>8.20</td>\n",
       "      <td>11.365</td>\n",
       "      <td>86</td>\n",
       "      <td>6.0032</td>\n",
       "      <td>6.0</td>\n",
       "      <td>158.0</td>\n",
       "      <td>164.0</td>\n",
       "      <td>2012</td>\n",
       "      <td>18</td>\n",
       "      <td>1</td>\n",
       "      <td>9</td>\n",
       "      <td>0</td>\n",
       "    </tr>\n",
       "    <tr>\n",
       "      <th>154</th>\n",
       "      <td>2011-01-26 16:00:00</td>\n",
       "      <td>1</td>\n",
       "      <td>0</td>\n",
       "      <td>1</td>\n",
       "      <td>4</td>\n",
       "      <td>9.02</td>\n",
       "      <td>9.850</td>\n",
       "      <td>93</td>\n",
       "      <td>22.0028</td>\n",
       "      <td>NaN</td>\n",
       "      <td>NaN</td>\n",
       "      <td>NaN</td>\n",
       "      <td>2011</td>\n",
       "      <td>16</td>\n",
       "      <td>1</td>\n",
       "      <td>26</td>\n",
       "      <td>2</td>\n",
       "    </tr>\n",
       "    <tr>\n",
       "      <th>3248</th>\n",
       "      <td>2012-01-21 01:00:00</td>\n",
       "      <td>1</td>\n",
       "      <td>0</td>\n",
       "      <td>0</td>\n",
       "      <td>4</td>\n",
       "      <td>5.74</td>\n",
       "      <td>6.820</td>\n",
       "      <td>86</td>\n",
       "      <td>12.9980</td>\n",
       "      <td>NaN</td>\n",
       "      <td>NaN</td>\n",
       "      <td>NaN</td>\n",
       "      <td>2012</td>\n",
       "      <td>1</td>\n",
       "      <td>1</td>\n",
       "      <td>21</td>\n",
       "      <td>5</td>\n",
       "    </tr>\n",
       "  </tbody>\n",
       "</table>\n",
       "</div>"
      ],
      "text/plain": [
       "                datetime  season  holiday  workingday  weather  temp   atemp  \\\n",
       "5631 2012-01-09 18:00:00       1        0           1        4  8.20  11.365   \n",
       "154  2011-01-26 16:00:00       1        0           1        4  9.02   9.850   \n",
       "3248 2012-01-21 01:00:00       1        0           0        4  5.74   6.820   \n",
       "\n",
       "      humidity  windspeed  casual  registered  count  year  hour  month  day  \\\n",
       "5631        86     6.0032     6.0       158.0  164.0  2012    18      1    9   \n",
       "154         93    22.0028     NaN         NaN    NaN  2011    16      1   26   \n",
       "3248        86    12.9980     NaN         NaN    NaN  2012     1      1   21   \n",
       "\n",
       "      weekday  \n",
       "5631        0  \n",
       "154         2  \n",
       "3248        5  "
      ]
     },
     "execution_count": 37,
     "metadata": {},
     "output_type": "execute_result"
    }
   ],
   "source": [
    "all_data[all_data['weather']==4]"
   ]
  },
  {
   "cell_type": "markdown",
   "metadata": {},
   "source": [
    "### 03-11 분석에 필요한 데이터만 추출"
   ]
  },
  {
   "cell_type": "code",
   "execution_count": 38,
   "metadata": {
    "execution": {
     "iopub.execute_input": "2022-01-06T06:07:22.114055Z",
     "iopub.status.busy": "2022-01-06T06:07:22.113432Z",
     "iopub.status.idle": "2022-01-06T06:07:22.143769Z",
     "shell.execute_reply": "2022-01-06T06:07:22.142300Z",
     "shell.execute_reply.started": "2022-01-06T06:07:22.113997Z"
    }
   },
   "outputs": [
    {
     "data": {
      "text/html": [
       "<div>\n",
       "<style scoped>\n",
       "    .dataframe tbody tr th:only-of-type {\n",
       "        vertical-align: middle;\n",
       "    }\n",
       "\n",
       "    .dataframe tbody tr th {\n",
       "        vertical-align: top;\n",
       "    }\n",
       "\n",
       "    .dataframe thead th {\n",
       "        text-align: right;\n",
       "    }\n",
       "</style>\n",
       "<table border=\"1\" class=\"dataframe\">\n",
       "  <thead>\n",
       "    <tr style=\"text-align: right;\">\n",
       "      <th></th>\n",
       "      <th>season</th>\n",
       "      <th>holiday</th>\n",
       "      <th>workingday</th>\n",
       "      <th>weather</th>\n",
       "      <th>temp</th>\n",
       "      <th>atemp</th>\n",
       "      <th>humidity</th>\n",
       "      <th>windspeed</th>\n",
       "      <th>year</th>\n",
       "      <th>hour</th>\n",
       "      <th>weekday</th>\n",
       "    </tr>\n",
       "  </thead>\n",
       "  <tbody>\n",
       "    <tr>\n",
       "      <th>0</th>\n",
       "      <td>1</td>\n",
       "      <td>0</td>\n",
       "      <td>0</td>\n",
       "      <td>1</td>\n",
       "      <td>9.84</td>\n",
       "      <td>14.395</td>\n",
       "      <td>81</td>\n",
       "      <td>0.0000</td>\n",
       "      <td>2011</td>\n",
       "      <td>0</td>\n",
       "      <td>5</td>\n",
       "    </tr>\n",
       "    <tr>\n",
       "      <th>1</th>\n",
       "      <td>1</td>\n",
       "      <td>0</td>\n",
       "      <td>0</td>\n",
       "      <td>1</td>\n",
       "      <td>9.02</td>\n",
       "      <td>13.635</td>\n",
       "      <td>80</td>\n",
       "      <td>0.0000</td>\n",
       "      <td>2011</td>\n",
       "      <td>1</td>\n",
       "      <td>5</td>\n",
       "    </tr>\n",
       "    <tr>\n",
       "      <th>2</th>\n",
       "      <td>1</td>\n",
       "      <td>0</td>\n",
       "      <td>0</td>\n",
       "      <td>1</td>\n",
       "      <td>9.02</td>\n",
       "      <td>13.635</td>\n",
       "      <td>80</td>\n",
       "      <td>0.0000</td>\n",
       "      <td>2011</td>\n",
       "      <td>2</td>\n",
       "      <td>5</td>\n",
       "    </tr>\n",
       "    <tr>\n",
       "      <th>3</th>\n",
       "      <td>1</td>\n",
       "      <td>0</td>\n",
       "      <td>0</td>\n",
       "      <td>1</td>\n",
       "      <td>9.84</td>\n",
       "      <td>14.395</td>\n",
       "      <td>75</td>\n",
       "      <td>0.0000</td>\n",
       "      <td>2011</td>\n",
       "      <td>3</td>\n",
       "      <td>5</td>\n",
       "    </tr>\n",
       "    <tr>\n",
       "      <th>4</th>\n",
       "      <td>1</td>\n",
       "      <td>0</td>\n",
       "      <td>0</td>\n",
       "      <td>1</td>\n",
       "      <td>9.84</td>\n",
       "      <td>14.395</td>\n",
       "      <td>75</td>\n",
       "      <td>0.0000</td>\n",
       "      <td>2011</td>\n",
       "      <td>4</td>\n",
       "      <td>5</td>\n",
       "    </tr>\n",
       "    <tr>\n",
       "      <th>...</th>\n",
       "      <td>...</td>\n",
       "      <td>...</td>\n",
       "      <td>...</td>\n",
       "      <td>...</td>\n",
       "      <td>...</td>\n",
       "      <td>...</td>\n",
       "      <td>...</td>\n",
       "      <td>...</td>\n",
       "      <td>...</td>\n",
       "      <td>...</td>\n",
       "      <td>...</td>\n",
       "    </tr>\n",
       "    <tr>\n",
       "      <th>6488</th>\n",
       "      <td>1</td>\n",
       "      <td>0</td>\n",
       "      <td>1</td>\n",
       "      <td>2</td>\n",
       "      <td>10.66</td>\n",
       "      <td>12.880</td>\n",
       "      <td>60</td>\n",
       "      <td>11.0014</td>\n",
       "      <td>2012</td>\n",
       "      <td>19</td>\n",
       "      <td>0</td>\n",
       "    </tr>\n",
       "    <tr>\n",
       "      <th>6489</th>\n",
       "      <td>1</td>\n",
       "      <td>0</td>\n",
       "      <td>1</td>\n",
       "      <td>2</td>\n",
       "      <td>10.66</td>\n",
       "      <td>12.880</td>\n",
       "      <td>60</td>\n",
       "      <td>11.0014</td>\n",
       "      <td>2012</td>\n",
       "      <td>20</td>\n",
       "      <td>0</td>\n",
       "    </tr>\n",
       "    <tr>\n",
       "      <th>6490</th>\n",
       "      <td>1</td>\n",
       "      <td>0</td>\n",
       "      <td>1</td>\n",
       "      <td>1</td>\n",
       "      <td>10.66</td>\n",
       "      <td>12.880</td>\n",
       "      <td>60</td>\n",
       "      <td>11.0014</td>\n",
       "      <td>2012</td>\n",
       "      <td>21</td>\n",
       "      <td>0</td>\n",
       "    </tr>\n",
       "    <tr>\n",
       "      <th>6491</th>\n",
       "      <td>1</td>\n",
       "      <td>0</td>\n",
       "      <td>1</td>\n",
       "      <td>1</td>\n",
       "      <td>10.66</td>\n",
       "      <td>13.635</td>\n",
       "      <td>56</td>\n",
       "      <td>8.9981</td>\n",
       "      <td>2012</td>\n",
       "      <td>22</td>\n",
       "      <td>0</td>\n",
       "    </tr>\n",
       "    <tr>\n",
       "      <th>6492</th>\n",
       "      <td>1</td>\n",
       "      <td>0</td>\n",
       "      <td>1</td>\n",
       "      <td>1</td>\n",
       "      <td>10.66</td>\n",
       "      <td>13.635</td>\n",
       "      <td>65</td>\n",
       "      <td>8.9981</td>\n",
       "      <td>2012</td>\n",
       "      <td>23</td>\n",
       "      <td>0</td>\n",
       "    </tr>\n",
       "  </tbody>\n",
       "</table>\n",
       "<p>17379 rows × 11 columns</p>\n",
       "</div>"
      ],
      "text/plain": [
       "      season  holiday  workingday  weather   temp   atemp  humidity  \\\n",
       "0          1        0           0        1   9.84  14.395        81   \n",
       "1          1        0           0        1   9.02  13.635        80   \n",
       "2          1        0           0        1   9.02  13.635        80   \n",
       "3          1        0           0        1   9.84  14.395        75   \n",
       "4          1        0           0        1   9.84  14.395        75   \n",
       "...      ...      ...         ...      ...    ...     ...       ...   \n",
       "6488       1        0           1        2  10.66  12.880        60   \n",
       "6489       1        0           1        2  10.66  12.880        60   \n",
       "6490       1        0           1        1  10.66  12.880        60   \n",
       "6491       1        0           1        1  10.66  13.635        56   \n",
       "6492       1        0           1        1  10.66  13.635        65   \n",
       "\n",
       "      windspeed  year  hour  weekday  \n",
       "0        0.0000  2011     0        5  \n",
       "1        0.0000  2011     1        5  \n",
       "2        0.0000  2011     2        5  \n",
       "3        0.0000  2011     3        5  \n",
       "4        0.0000  2011     4        5  \n",
       "...         ...   ...   ...      ...  \n",
       "6488    11.0014  2012    19        0  \n",
       "6489    11.0014  2012    20        0  \n",
       "6490    11.0014  2012    21        0  \n",
       "6491     8.9981  2012    22        0  \n",
       "6492     8.9981  2012    23        0  \n",
       "\n",
       "[17379 rows x 11 columns]"
      ]
     },
     "execution_count": 38,
     "metadata": {},
     "output_type": "execute_result"
    }
   ],
   "source": [
    "all_data2=all_data.drop(['month','datetime','casual','registered','count','day'],axis=1)\n",
    "all_data2"
   ]
  },
  {
   "cell_type": "markdown",
   "metadata": {},
   "source": [
    "### 03-12 target 변수의 분포 파악"
   ]
  },
  {
   "cell_type": "code",
   "execution_count": 39,
   "metadata": {
    "execution": {
     "iopub.execute_input": "2022-01-06T06:07:56.687532Z",
     "iopub.status.busy": "2022-01-06T06:07:56.687157Z",
     "iopub.status.idle": "2022-01-06T06:07:56.993336Z",
     "shell.execute_reply": "2022-01-06T06:07:56.992249Z",
     "shell.execute_reply.started": "2022-01-06T06:07:56.687500Z"
    }
   },
   "outputs": [
    {
     "name": "stderr",
     "output_type": "stream",
     "text": [
      "C:\\Users\\Seokmin Kim\\anaconda3\\lib\\site-packages\\seaborn\\distributions.py:2551: FutureWarning: `distplot` is a deprecated function and will be removed in a future version. Please adapt your code to use either `displot` (a figure-level function with similar flexibility) or `histplot` (an axes-level function for histograms).\n",
      "  warnings.warn(msg, FutureWarning)\n"
     ]
    },
    {
     "data": {
      "text/plain": [
       "<AxesSubplot:xlabel='count', ylabel='Density'>"
      ]
     },
     "execution_count": 39,
     "metadata": {},
     "output_type": "execute_result"
    },
    {
     "data": {
      "image/png": "[encoded data removed]",
      "text/plain": [
       "<Figure size 432x288 with 1 Axes>"
      ]
     },
     "metadata": {
      "needs_background": "light"
     },
     "output_type": "display_data"
    }
   ],
   "source": [
    "sns.distplot(train['count'])"
   ]
  },
  {
   "cell_type": "markdown",
   "metadata": {
    "execution": {
     "iopub.execute_input": "2022-01-06T06:08:20.514960Z",
     "iopub.status.busy": "2022-01-06T06:08:20.514508Z",
     "iopub.status.idle": "2022-01-06T06:08:20.520533Z",
     "shell.execute_reply": "2022-01-06T06:08:20.518728Z",
     "shell.execute_reply.started": "2022-01-06T06:08:20.514927Z"
    }
   },
   "source": [
    "- 값이 매우 0 쪽으로 치우쳐져 있는 것을 확인할 수 있다.\n",
    "- 이런 경우 sqrt, log 등으로 변환 후 분석을 진행하는 것이 효율적이다.\n",
    "- log를 취하면 좋은점\n",
    "  - 분포 자체가 넓으면 튀는 값이 많음. -> y의 범위가 줄어들어서 튀는 값을 제어해준다.\n",
    "  - 분포가 정규분포의 형태로 조금 더 변형되고, 굉장히 튀는 구간의 데이터가 많이 분포 안으로 속하게 된다."
   ]
  },
  {
   "cell_type": "code",
   "execution_count": 40,
   "metadata": {
    "execution": {
     "iopub.execute_input": "2022-01-06T06:10:13.787191Z",
     "iopub.status.busy": "2022-01-06T06:10:13.786831Z",
     "iopub.status.idle": "2022-01-06T06:10:14.079000Z",
     "shell.execute_reply": "2022-01-06T06:10:14.077834Z",
     "shell.execute_reply.started": "2022-01-06T06:10:13.787160Z"
    }
   },
   "outputs": [
    {
     "name": "stderr",
     "output_type": "stream",
     "text": [
      "C:\\Users\\Seokmin Kim\\anaconda3\\lib\\site-packages\\seaborn\\distributions.py:2551: FutureWarning: `distplot` is a deprecated function and will be removed in a future version. Please adapt your code to use either `displot` (a figure-level function with similar flexibility) or `histplot` (an axes-level function for histograms).\n",
      "  warnings.warn(msg, FutureWarning)\n"
     ]
    },
    {
     "data": {
      "text/plain": [
       "<AxesSubplot:xlabel='count', ylabel='Density'>"
      ]
     },
     "execution_count": 40,
     "metadata": {},
     "output_type": "execute_result"
    },
    {
     "data": {
      "image/png": "[encoded data removed]",
      "text/plain": [
       "<Figure size 432x288 with 1 Axes>"
      ]
     },
     "metadata": {
      "needs_background": "light"
     },
     "output_type": "display_data"
    }
   ],
   "source": [
    "'''\n",
    "y칼럼에만 log를 취하는 것.(tree 계열 모델)\n",
    "outlier들을 모델이 파악을 합니다. -> test에서도 outlier가 있을 확률이 높습니다. -> 예측을 거의 하지 못합니다.\n",
    "문제 : ex) test -> 100인데, train에 800~900이랑 패턴이 비슷하면 800~900으로 예측해버림.\n",
    "'''\n",
    "# log 취해주기.\n",
    "sns.distplot(np.log(train['count']))"
   ]
  },
  {
   "cell_type": "code",
   "execution_count": 41,
   "metadata": {
    "execution": {
     "iopub.execute_input": "2022-01-06T06:10:33.710891Z",
     "iopub.status.busy": "2022-01-06T06:10:33.710454Z",
     "iopub.status.idle": "2022-01-06T06:10:33.715753Z",
     "shell.execute_reply": "2022-01-06T06:10:33.714471Z",
     "shell.execute_reply.started": "2022-01-06T06:10:33.710859Z"
    }
   },
   "outputs": [],
   "source": [
    "# 조금 더 분포가 정규분포의 형태로 띄게 되며, 튀는 값이 적어진 것을 확인할 수 있습니다."
   ]
  },
  {
   "cell_type": "markdown",
   "metadata": {},
   "source": [
    "## 04. Modeling"
   ]
  },
  {
   "cell_type": "markdown",
   "metadata": {},
   "source": [
    "### 04-1 train, test 분리"
   ]
  },
  {
   "cell_type": "code",
   "execution_count": 42,
   "metadata": {
    "execution": {
     "iopub.execute_input": "2022-01-06T06:10:54.168611Z",
     "iopub.status.busy": "2022-01-06T06:10:54.168174Z",
     "iopub.status.idle": "2022-01-06T06:10:54.175496Z",
     "shell.execute_reply": "2022-01-06T06:10:54.174460Z",
     "shell.execute_reply.started": "2022-01-06T06:10:54.168576Z"
    }
   },
   "outputs": [],
   "source": [
    "train2=all_data2[:len(train)]\n",
    "test2 = all_data2[len(train):]"
   ]
  },
  {
   "cell_type": "code",
   "execution_count": 43,
   "metadata": {
    "execution": {
     "iopub.execute_input": "2022-01-06T06:15:24.102584Z",
     "iopub.status.busy": "2022-01-06T06:15:24.102179Z",
     "iopub.status.idle": "2022-01-06T06:15:33.185797Z",
     "shell.execute_reply": "2022-01-06T06:15:33.184741Z",
     "shell.execute_reply.started": "2022-01-06T06:15:24.102549Z"
    }
   },
   "outputs": [
    {
     "name": "stdout",
     "output_type": "stream",
     "text": [
      "0:\tlearn: 1.4775578\ttotal: 182ms\tremaining: 9m 7s\n",
      "500:\tlearn: 0.3897556\ttotal: 1.36s\tremaining: 6.79s\n",
      "1000:\tlearn: 0.3270253\ttotal: 2.52s\tremaining: 5.04s\n",
      "1500:\tlearn: 0.3082414\ttotal: 3.69s\tremaining: 3.69s\n",
      "2000:\tlearn: 0.2967020\ttotal: 4.84s\tremaining: 2.42s\n",
      "2500:\tlearn: 0.2866140\ttotal: 5.96s\tremaining: 1.19s\n",
      "2999:\tlearn: 0.2783603\ttotal: 7.11s\tremaining: 0us\n"
     ]
    }
   ],
   "source": [
    "# catboost : 범주형 데이터가 많을 경우 효율적인 boosting 계열의 모델.\n",
    "# 처음으로 iterations(반복수) : 3000으로 설정,\n",
    "# learing_rate(학습률) : 0.01로 설정.\n",
    "# verbose: 500, 500번 배수로 분석 결과를 도출.\n",
    "\n",
    "# 라이브러리\n",
    "from catboost import CatBoostRegressor\n",
    "\n",
    "# 모델 설정.\n",
    "cat = CatBoostRegressor(learning_rate=0.01,random_state=42,iterations=3000,verbose=500)\n",
    "\n",
    "# 모델 학습.\n",
    "cat.fit(train2,np.log(train['count']))\n",
    "\n",
    "# 모델 예측.\n",
    "result = cat.predict(test2)"
   ]
  },
  {
   "cell_type": "code",
   "execution_count": 44,
   "metadata": {
    "execution": {
     "iopub.execute_input": "2022-01-06T06:15:33.188368Z",
     "iopub.status.busy": "2022-01-06T06:15:33.188025Z",
     "iopub.status.idle": "2022-01-06T06:15:33.193654Z",
     "shell.execute_reply": "2022-01-06T06:15:33.192298Z",
     "shell.execute_reply.started": "2022-01-06T06:15:33.188336Z"
    }
   },
   "outputs": [],
   "source": [
    "# all_data로 묶는 다면"
   ]
  },
  {
   "cell_type": "code",
   "execution_count": 45,
   "metadata": {
    "execution": {
     "iopub.execute_input": "2022-01-06T06:15:33.195888Z",
     "iopub.status.busy": "2022-01-06T06:15:33.195234Z",
     "iopub.status.idle": "2022-01-06T06:15:33.207046Z",
     "shell.execute_reply": "2022-01-06T06:15:33.205021Z",
     "shell.execute_reply.started": "2022-01-06T06:15:33.195851Z"
    }
   },
   "outputs": [],
   "source": [
    "# 이 대회에서는 데이터의 특징 때문에 train 월 초 중만 존재 -> test는 월말만 존재. 그래서 모델이 잘 적합하지 못한다.\n",
    "# holiday. 월초, 월중에 들어간 공휴일과 월말의 공휴일은 다르다.(미국)"
   ]
  },
  {
   "cell_type": "code",
   "execution_count": 46,
   "metadata": {
    "execution": {
     "iopub.execute_input": "2022-01-06T06:15:33.209433Z",
     "iopub.status.busy": "2022-01-06T06:15:33.208646Z",
     "iopub.status.idle": "2022-01-06T06:15:33.229811Z",
     "shell.execute_reply": "2022-01-06T06:15:33.228569Z",
     "shell.execute_reply.started": "2022-01-06T06:15:33.209268Z"
    }
   },
   "outputs": [
    {
     "data": {
      "text/html": [
       "<div>\n",
       "<style scoped>\n",
       "    .dataframe tbody tr th:only-of-type {\n",
       "        vertical-align: middle;\n",
       "    }\n",
       "\n",
       "    .dataframe tbody tr th {\n",
       "        vertical-align: top;\n",
       "    }\n",
       "\n",
       "    .dataframe thead th {\n",
       "        text-align: right;\n",
       "    }\n",
       "</style>\n",
       "<table border=\"1\" class=\"dataframe\">\n",
       "  <thead>\n",
       "    <tr style=\"text-align: right;\">\n",
       "      <th></th>\n",
       "      <th>datetime</th>\n",
       "      <th>count</th>\n",
       "    </tr>\n",
       "  </thead>\n",
       "  <tbody>\n",
       "    <tr>\n",
       "      <th>0</th>\n",
       "      <td>2011-01-20 00:00:00</td>\n",
       "      <td>10.363107</td>\n",
       "    </tr>\n",
       "    <tr>\n",
       "      <th>1</th>\n",
       "      <td>2011-01-20 01:00:00</td>\n",
       "      <td>5.042761</td>\n",
       "    </tr>\n",
       "    <tr>\n",
       "      <th>2</th>\n",
       "      <td>2011-01-20 02:00:00</td>\n",
       "      <td>2.763199</td>\n",
       "    </tr>\n",
       "    <tr>\n",
       "      <th>3</th>\n",
       "      <td>2011-01-20 03:00:00</td>\n",
       "      <td>1.819383</td>\n",
       "    </tr>\n",
       "    <tr>\n",
       "      <th>4</th>\n",
       "      <td>2011-01-20 04:00:00</td>\n",
       "      <td>1.618440</td>\n",
       "    </tr>\n",
       "    <tr>\n",
       "      <th>...</th>\n",
       "      <td>...</td>\n",
       "      <td>...</td>\n",
       "    </tr>\n",
       "    <tr>\n",
       "      <th>6488</th>\n",
       "      <td>2012-12-31 19:00:00</td>\n",
       "      <td>215.555870</td>\n",
       "    </tr>\n",
       "    <tr>\n",
       "      <th>6489</th>\n",
       "      <td>2012-12-31 20:00:00</td>\n",
       "      <td>150.607205</td>\n",
       "    </tr>\n",
       "    <tr>\n",
       "      <th>6490</th>\n",
       "      <td>2012-12-31 21:00:00</td>\n",
       "      <td>111.085898</td>\n",
       "    </tr>\n",
       "    <tr>\n",
       "      <th>6491</th>\n",
       "      <td>2012-12-31 22:00:00</td>\n",
       "      <td>75.946711</td>\n",
       "    </tr>\n",
       "    <tr>\n",
       "      <th>6492</th>\n",
       "      <td>2012-12-31 23:00:00</td>\n",
       "      <td>42.372076</td>\n",
       "    </tr>\n",
       "  </tbody>\n",
       "</table>\n",
       "<p>6493 rows × 2 columns</p>\n",
       "</div>"
      ],
      "text/plain": [
       "                 datetime       count\n",
       "0     2011-01-20 00:00:00   10.363107\n",
       "1     2011-01-20 01:00:00    5.042761\n",
       "2     2011-01-20 02:00:00    2.763199\n",
       "3     2011-01-20 03:00:00    1.819383\n",
       "4     2011-01-20 04:00:00    1.618440\n",
       "...                   ...         ...\n",
       "6488  2012-12-31 19:00:00  215.555870\n",
       "6489  2012-12-31 20:00:00  150.607205\n",
       "6490  2012-12-31 21:00:00  111.085898\n",
       "6491  2012-12-31 22:00:00   75.946711\n",
       "6492  2012-12-31 23:00:00   42.372076\n",
       "\n",
       "[6493 rows x 2 columns]"
      ]
     },
     "execution_count": 46,
     "metadata": {},
     "output_type": "execute_result"
    }
   ],
   "source": [
    "sub['count'] = np.exp(result)\n",
    "sub"
   ]
  },
  {
   "cell_type": "code",
   "execution_count": 47,
   "metadata": {
    "execution": {
     "iopub.execute_input": "2022-01-06T06:17:43.012984Z",
     "iopub.status.busy": "2022-01-06T06:17:43.012552Z",
     "iopub.status.idle": "2022-01-06T06:17:43.031782Z",
     "shell.execute_reply": "2022-01-06T06:17:43.030648Z",
     "shell.execute_reply.started": "2022-01-06T06:17:43.012950Z"
    }
   },
   "outputs": [],
   "source": [
    "# post processing.\n",
    "\n",
    "#미국 현충일\n",
    "sub.iloc[1258:1269, 1]= sub.iloc[1258:1269, 1]*0.5\n",
    "sub.iloc[4492:4515, 1]= sub.iloc[4492:4515, 1]*0.5\n",
    "\n",
    "#크리스마스 이브\n",
    "sub.iloc[6308:6330, 1]= sub.iloc[6308:6330, 1]*0.5\n",
    "sub.iloc[3041:3063, 1]= sub.iloc[3041:3063, 1]*0.5\n",
    "\n",
    "#크리스마스\n",
    "sub.iloc[6332:6354, 1]= sub.iloc[6332:6354, 1]*0.5\n",
    "sub.iloc[3065:3087, 1]= sub.iloc[3065:3087, 1]*0.5\n",
    "\n",
    "#추수감사절\n",
    "sub.iloc[5992:6015, 1]= sub.iloc[5992:6015, 1]*0.5\n",
    "sub.iloc[2771:2794, 1]= sub.iloc[2771:2794, 1]*0.5"
   ]
  },
  {
   "cell_type": "code",
   "execution_count": 48,
   "metadata": {
    "execution": {
     "iopub.execute_input": "2022-01-06T06:17:43.265759Z",
     "iopub.status.busy": "2022-01-06T06:17:43.265368Z",
     "iopub.status.idle": "2022-01-06T06:17:43.303268Z",
     "shell.execute_reply": "2022-01-06T06:17:43.302211Z",
     "shell.execute_reply.started": "2022-01-06T06:17:43.265726Z"
    }
   },
   "outputs": [],
   "source": [
    "sub.to_csv('sub.csv',index=False)"
   ]
  },
  {
   "cell_type": "code",
   "execution_count": 49,
   "metadata": {
    "execution": {
     "iopub.execute_input": "2022-01-06T06:17:43.473958Z",
     "iopub.status.busy": "2022-01-06T06:17:43.473589Z",
     "iopub.status.idle": "2022-01-06T06:17:43.478259Z",
     "shell.execute_reply": "2022-01-06T06:17:43.477188Z",
     "shell.execute_reply.started": "2022-01-06T06:17:43.473927Z"
    }
   },
   "outputs": [],
   "source": [
    "# private leaderboard 4등 위치"
   ]
  },
  {
   "cell_type": "code",
   "execution_count": null,
   "metadata": {},
   "outputs": [],
   "source": []
  }
 ],
 "metadata": {
  "kernelspec": {
   "display_name": "Python 3",
   "language": "python",
   "name": "python3"
  },
  "language_info": {
   "codemirror_mode": {
    "name": "ipython",
    "version": 3
   },
   "file_extension": ".py",
   "mimetype": "text/x-python",
   "name": "python",
   "nbconvert_exporter": "python",
   "pygments_lexer": "ipython3",
   "version": "3.8.5"
  }
 },
 "nbformat": 4,
 "nbformat_minor": 4
}
