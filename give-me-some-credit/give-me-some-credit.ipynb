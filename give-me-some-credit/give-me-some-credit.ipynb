{
 "cells": [
  {
   "cell_type": "code",
   "execution_count": 1,
   "metadata": {
    "_cell_guid": "b1076dfc-b9ad-4769-8c92-a6c4dae69d19",
    "_uuid": "8f2839f25d086af736a60e9eeb907d3b93b6e0e5",
    "execution": {
     "iopub.execute_input": "2020-11-15T02:27:59.602517Z",
     "iopub.status.busy": "2020-11-15T02:27:59.601769Z",
     "iopub.status.idle": "2020-11-15T02:28:00.562612Z",
     "shell.execute_reply": "2020-11-15T02:28:00.563437Z"
    },
    "papermill": {
     "duration": 1.005372,
     "end_time": "2020-11-15T02:28:00.563645",
     "exception": false,
     "start_time": "2020-11-15T02:27:59.558273",
     "status": "completed"
    },
    "tags": []
   },
   "outputs": [
    {
     "name": "stdout",
     "output_type": "stream",
     "text": [
      "/kaggle/input/GiveMeSomeCredit/Data Dictionary.xls\n",
      "/kaggle/input/GiveMeSomeCredit/cs-test.csv\n",
      "/kaggle/input/GiveMeSomeCredit/cs-training.csv\n",
      "/kaggle/input/GiveMeSomeCredit/sampleEntry.csv\n"
     ]
    }
   ],
   "source": [
    "import numpy as np\n",
    "import pandas as pd\n",
    "import matplotlib.pyplot as plt\n",
    "import seaborn as sns\n",
    "import os\n",
    "for dirname, _, filenames in os.walk('/kaggle/input'):\n",
    "    for filename in filenames:\n",
    "        print(os.path.join(dirname, filename))"
   ]
  },
  {
   "cell_type": "code",
   "execution_count": 2,
   "metadata": {
    "_cell_guid": "79c7e3d0-c299-4dcb-8224-4455121ee9b0",
    "_uuid": "d629ff2d2480ee46fbb7e2d37f6b5fab8052498a",
    "execution": {
     "iopub.execute_input": "2020-11-15T02:28:00.642184Z",
     "iopub.status.busy": "2020-11-15T02:28:00.641423Z",
     "iopub.status.idle": "2020-11-15T02:28:01.360231Z",
     "shell.execute_reply": "2020-11-15T02:28:01.359452Z"
    },
    "papermill": {
     "duration": 0.760722,
     "end_time": "2020-11-15T02:28:01.360386",
     "exception": false,
     "start_time": "2020-11-15T02:28:00.599664",
     "status": "completed"
    },
    "tags": []
   },
   "outputs": [],
   "source": [
    "test = pd.read_csv('/kaggle/input/GiveMeSomeCredit/cs-test.csv')\n",
    "train = pd.read_csv('/kaggle/input/GiveMeSomeCredit/cs-training.csv')\n",
    "sub = pd.read_csv('/kaggle/input/GiveMeSomeCredit/sampleEntry.csv')\n",
    "dictionary = pd.read_excel('/kaggle/input/GiveMeSomeCredit/Data Dictionary.xls')"
   ]
  },
  {
   "cell_type": "markdown",
   "metadata": {
    "papermill": {
     "duration": 0.034768,
     "end_time": "2020-11-15T02:28:01.431939",
     "exception": false,
     "start_time": "2020-11-15T02:28:01.397171",
     "status": "completed"
    },
    "tags": []
   },
   "source": [
    "- columns 설명.\n",
    "- SeriousDiqin2yrs : 연체를 90일 이상 경과한 경험자.(Y)\n",
    "- RevolvingUtilizationOfUnsecuredLines : 부동산을 제외한 신용카드 및 개인 신용 라인의 총 잔액과 자동차 대출과 같은 할부 부채가 없는 경우 신용 한도 비율의 합계로 나눈 값\n",
    "- age : 차입자 연령.\n",
    "- NumberOfTime30-59DaysPastDueNotWorse : 대출자가 연체된 지 30~59일이 지났지만 최근 2년 사이 더 심하지는 않았다.\n",
    "- DebtRatio : 월별 부채 지급, 위자료, 생활비를 월별 총소득으로 나눈다.\n",
    "- MonthlyIncome : 월별 수입.\n",
    "- NumberOfOpenCreditLinesAndLoans : 공개 대출 수(자동차 대출 또는 담보 대출과 같은 설치) 및 신용 한도(예: 신용 카드)\n",
    "- NumberOfTimes90DaysLate : 대출자가 연체된 지 90일 이상 경과한 횟수.\n",
    "- NumberRealEstateLoansOrLines : 주택 담보 대출 및 부동산 대출 건수(신용등급 포함)\n",
    "- NumberOfTime60-89DaysPastDueNotWorse : 대출자가 연체된 지 60-89일이 지났지만 최근 2년 사이 더 나빠진 것은 없다.\n",
    "- NumberOfDependents : 자신을 제외한 가족 중 부양가족 수(배우자, 자녀 등)"
   ]
  },
  {
   "cell_type": "code",
   "execution_count": 3,
   "metadata": {
    "execution": {
     "iopub.execute_input": "2020-11-15T02:28:01.521439Z",
     "iopub.status.busy": "2020-11-15T02:28:01.519098Z",
     "iopub.status.idle": "2020-11-15T02:28:01.532049Z",
     "shell.execute_reply": "2020-11-15T02:28:01.531448Z"
    },
    "papermill": {
     "duration": 0.064905,
     "end_time": "2020-11-15T02:28:01.532169",
     "exception": false,
     "start_time": "2020-11-15T02:28:01.467264",
     "status": "completed"
    },
    "tags": []
   },
   "outputs": [
    {
     "data": {
      "text/html": [
       "<div>\n",
       "<style scoped>\n",
       "    .dataframe tbody tr th:only-of-type {\n",
       "        vertical-align: middle;\n",
       "    }\n",
       "\n",
       "    .dataframe tbody tr th {\n",
       "        vertical-align: top;\n",
       "    }\n",
       "\n",
       "    .dataframe thead th {\n",
       "        text-align: right;\n",
       "    }\n",
       "</style>\n",
       "<table border=\"1\" class=\"dataframe\">\n",
       "  <thead>\n",
       "    <tr style=\"text-align: right;\">\n",
       "      <th></th>\n",
       "      <th>Unnamed: 0</th>\n",
       "      <th>SeriousDlqin2yrs</th>\n",
       "      <th>RevolvingUtilizationOfUnsecuredLines</th>\n",
       "      <th>age</th>\n",
       "      <th>NumberOfTime30-59DaysPastDueNotWorse</th>\n",
       "      <th>DebtRatio</th>\n",
       "      <th>MonthlyIncome</th>\n",
       "      <th>NumberOfOpenCreditLinesAndLoans</th>\n",
       "      <th>NumberOfTimes90DaysLate</th>\n",
       "      <th>NumberRealEstateLoansOrLines</th>\n",
       "      <th>NumberOfTime60-89DaysPastDueNotWorse</th>\n",
       "      <th>NumberOfDependents</th>\n",
       "    </tr>\n",
       "  </thead>\n",
       "  <tbody>\n",
       "    <tr>\n",
       "      <th>0</th>\n",
       "      <td>1</td>\n",
       "      <td>1</td>\n",
       "      <td>0.766127</td>\n",
       "      <td>45</td>\n",
       "      <td>2</td>\n",
       "      <td>0.802982</td>\n",
       "      <td>9120.0</td>\n",
       "      <td>13</td>\n",
       "      <td>0</td>\n",
       "      <td>6</td>\n",
       "      <td>0</td>\n",
       "      <td>2.0</td>\n",
       "    </tr>\n",
       "    <tr>\n",
       "      <th>1</th>\n",
       "      <td>2</td>\n",
       "      <td>0</td>\n",
       "      <td>0.957151</td>\n",
       "      <td>40</td>\n",
       "      <td>0</td>\n",
       "      <td>0.121876</td>\n",
       "      <td>2600.0</td>\n",
       "      <td>4</td>\n",
       "      <td>0</td>\n",
       "      <td>0</td>\n",
       "      <td>0</td>\n",
       "      <td>1.0</td>\n",
       "    </tr>\n",
       "  </tbody>\n",
       "</table>\n",
       "</div>"
      ],
      "text/plain": [
       "   Unnamed: 0  SeriousDlqin2yrs  RevolvingUtilizationOfUnsecuredLines  age  \\\n",
       "0           1                 1                              0.766127   45   \n",
       "1           2                 0                              0.957151   40   \n",
       "\n",
       "   NumberOfTime30-59DaysPastDueNotWorse  DebtRatio  MonthlyIncome  \\\n",
       "0                                     2   0.802982         9120.0   \n",
       "1                                     0   0.121876         2600.0   \n",
       "\n",
       "   NumberOfOpenCreditLinesAndLoans  NumberOfTimes90DaysLate  \\\n",
       "0                               13                        0   \n",
       "1                                4                        0   \n",
       "\n",
       "   NumberRealEstateLoansOrLines  NumberOfTime60-89DaysPastDueNotWorse  \\\n",
       "0                             6                                     0   \n",
       "1                             0                                     0   \n",
       "\n",
       "   NumberOfDependents  \n",
       "0                 2.0  \n",
       "1                 1.0  "
      ]
     },
     "execution_count": 3,
     "metadata": {},
     "output_type": "execute_result"
    }
   ],
   "source": [
    "train.head(2)"
   ]
  },
  {
   "cell_type": "code",
   "execution_count": 4,
   "metadata": {
    "execution": {
     "iopub.execute_input": "2020-11-15T02:28:01.629083Z",
     "iopub.status.busy": "2020-11-15T02:28:01.614426Z",
     "iopub.status.idle": "2020-11-15T02:28:01.658514Z",
     "shell.execute_reply": "2020-11-15T02:28:01.659062Z"
    },
    "papermill": {
     "duration": 0.090958,
     "end_time": "2020-11-15T02:28:01.659232",
     "exception": false,
     "start_time": "2020-11-15T02:28:01.568274",
     "status": "completed"
    },
    "tags": []
   },
   "outputs": [
    {
     "data": {
      "text/html": [
       "<div>\n",
       "<style scoped>\n",
       "    .dataframe tbody tr th:only-of-type {\n",
       "        vertical-align: middle;\n",
       "    }\n",
       "\n",
       "    .dataframe tbody tr th {\n",
       "        vertical-align: top;\n",
       "    }\n",
       "\n",
       "    .dataframe thead th {\n",
       "        text-align: right;\n",
       "    }\n",
       "</style>\n",
       "<table border=\"1\" class=\"dataframe\">\n",
       "  <thead>\n",
       "    <tr style=\"text-align: right;\">\n",
       "      <th></th>\n",
       "      <th>Unnamed: 0</th>\n",
       "      <th>SeriousDlqin2yrs</th>\n",
       "      <th>RevolvingUtilizationOfUnsecuredLines</th>\n",
       "      <th>age</th>\n",
       "      <th>NumberOfTime30-59DaysPastDueNotWorse</th>\n",
       "      <th>DebtRatio</th>\n",
       "      <th>MonthlyIncome</th>\n",
       "      <th>NumberOfOpenCreditLinesAndLoans</th>\n",
       "      <th>NumberOfTimes90DaysLate</th>\n",
       "      <th>NumberRealEstateLoansOrLines</th>\n",
       "      <th>NumberOfTime60-89DaysPastDueNotWorse</th>\n",
       "      <th>NumberOfDependents</th>\n",
       "    </tr>\n",
       "  </thead>\n",
       "  <tbody>\n",
       "    <tr>\n",
       "      <th>0</th>\n",
       "      <td>1</td>\n",
       "      <td>1</td>\n",
       "      <td>0.766127</td>\n",
       "      <td>45</td>\n",
       "      <td>2</td>\n",
       "      <td>0.802982</td>\n",
       "      <td>9120.0</td>\n",
       "      <td>13</td>\n",
       "      <td>0</td>\n",
       "      <td>6</td>\n",
       "      <td>0</td>\n",
       "      <td>2.0</td>\n",
       "    </tr>\n",
       "    <tr>\n",
       "      <th>1</th>\n",
       "      <td>2</td>\n",
       "      <td>0</td>\n",
       "      <td>0.957151</td>\n",
       "      <td>40</td>\n",
       "      <td>0</td>\n",
       "      <td>0.121876</td>\n",
       "      <td>2600.0</td>\n",
       "      <td>4</td>\n",
       "      <td>0</td>\n",
       "      <td>0</td>\n",
       "      <td>0</td>\n",
       "      <td>1.0</td>\n",
       "    </tr>\n",
       "    <tr>\n",
       "      <th>2</th>\n",
       "      <td>3</td>\n",
       "      <td>0</td>\n",
       "      <td>0.658180</td>\n",
       "      <td>38</td>\n",
       "      <td>1</td>\n",
       "      <td>0.085113</td>\n",
       "      <td>3042.0</td>\n",
       "      <td>2</td>\n",
       "      <td>1</td>\n",
       "      <td>0</td>\n",
       "      <td>0</td>\n",
       "      <td>0.0</td>\n",
       "    </tr>\n",
       "    <tr>\n",
       "      <th>3</th>\n",
       "      <td>4</td>\n",
       "      <td>0</td>\n",
       "      <td>0.233810</td>\n",
       "      <td>30</td>\n",
       "      <td>0</td>\n",
       "      <td>0.036050</td>\n",
       "      <td>3300.0</td>\n",
       "      <td>5</td>\n",
       "      <td>0</td>\n",
       "      <td>0</td>\n",
       "      <td>0</td>\n",
       "      <td>0.0</td>\n",
       "    </tr>\n",
       "    <tr>\n",
       "      <th>4</th>\n",
       "      <td>5</td>\n",
       "      <td>0</td>\n",
       "      <td>0.907239</td>\n",
       "      <td>49</td>\n",
       "      <td>1</td>\n",
       "      <td>0.024926</td>\n",
       "      <td>63588.0</td>\n",
       "      <td>7</td>\n",
       "      <td>0</td>\n",
       "      <td>1</td>\n",
       "      <td>0</td>\n",
       "      <td>0.0</td>\n",
       "    </tr>\n",
       "    <tr>\n",
       "      <th>...</th>\n",
       "      <td>...</td>\n",
       "      <td>...</td>\n",
       "      <td>...</td>\n",
       "      <td>...</td>\n",
       "      <td>...</td>\n",
       "      <td>...</td>\n",
       "      <td>...</td>\n",
       "      <td>...</td>\n",
       "      <td>...</td>\n",
       "      <td>...</td>\n",
       "      <td>...</td>\n",
       "      <td>...</td>\n",
       "    </tr>\n",
       "    <tr>\n",
       "      <th>149995</th>\n",
       "      <td>149996</td>\n",
       "      <td>0</td>\n",
       "      <td>0.040674</td>\n",
       "      <td>74</td>\n",
       "      <td>0</td>\n",
       "      <td>0.225131</td>\n",
       "      <td>2100.0</td>\n",
       "      <td>4</td>\n",
       "      <td>0</td>\n",
       "      <td>1</td>\n",
       "      <td>0</td>\n",
       "      <td>0.0</td>\n",
       "    </tr>\n",
       "    <tr>\n",
       "      <th>149996</th>\n",
       "      <td>149997</td>\n",
       "      <td>0</td>\n",
       "      <td>0.299745</td>\n",
       "      <td>44</td>\n",
       "      <td>0</td>\n",
       "      <td>0.716562</td>\n",
       "      <td>5584.0</td>\n",
       "      <td>4</td>\n",
       "      <td>0</td>\n",
       "      <td>1</td>\n",
       "      <td>0</td>\n",
       "      <td>2.0</td>\n",
       "    </tr>\n",
       "    <tr>\n",
       "      <th>149997</th>\n",
       "      <td>149998</td>\n",
       "      <td>0</td>\n",
       "      <td>0.246044</td>\n",
       "      <td>58</td>\n",
       "      <td>0</td>\n",
       "      <td>3870.000000</td>\n",
       "      <td>NaN</td>\n",
       "      <td>18</td>\n",
       "      <td>0</td>\n",
       "      <td>1</td>\n",
       "      <td>0</td>\n",
       "      <td>0.0</td>\n",
       "    </tr>\n",
       "    <tr>\n",
       "      <th>149998</th>\n",
       "      <td>149999</td>\n",
       "      <td>0</td>\n",
       "      <td>0.000000</td>\n",
       "      <td>30</td>\n",
       "      <td>0</td>\n",
       "      <td>0.000000</td>\n",
       "      <td>5716.0</td>\n",
       "      <td>4</td>\n",
       "      <td>0</td>\n",
       "      <td>0</td>\n",
       "      <td>0</td>\n",
       "      <td>0.0</td>\n",
       "    </tr>\n",
       "    <tr>\n",
       "      <th>149999</th>\n",
       "      <td>150000</td>\n",
       "      <td>0</td>\n",
       "      <td>0.850283</td>\n",
       "      <td>64</td>\n",
       "      <td>0</td>\n",
       "      <td>0.249908</td>\n",
       "      <td>8158.0</td>\n",
       "      <td>8</td>\n",
       "      <td>0</td>\n",
       "      <td>2</td>\n",
       "      <td>0</td>\n",
       "      <td>0.0</td>\n",
       "    </tr>\n",
       "  </tbody>\n",
       "</table>\n",
       "<p>150000 rows × 12 columns</p>\n",
       "</div>"
      ],
      "text/plain": [
       "        Unnamed: 0  SeriousDlqin2yrs  RevolvingUtilizationOfUnsecuredLines  \\\n",
       "0                1                 1                              0.766127   \n",
       "1                2                 0                              0.957151   \n",
       "2                3                 0                              0.658180   \n",
       "3                4                 0                              0.233810   \n",
       "4                5                 0                              0.907239   \n",
       "...            ...               ...                                   ...   \n",
       "149995      149996                 0                              0.040674   \n",
       "149996      149997                 0                              0.299745   \n",
       "149997      149998                 0                              0.246044   \n",
       "149998      149999                 0                              0.000000   \n",
       "149999      150000                 0                              0.850283   \n",
       "\n",
       "        age  NumberOfTime30-59DaysPastDueNotWorse    DebtRatio  MonthlyIncome  \\\n",
       "0        45                                     2     0.802982         9120.0   \n",
       "1        40                                     0     0.121876         2600.0   \n",
       "2        38                                     1     0.085113         3042.0   \n",
       "3        30                                     0     0.036050         3300.0   \n",
       "4        49                                     1     0.024926        63588.0   \n",
       "...     ...                                   ...          ...            ...   \n",
       "149995   74                                     0     0.225131         2100.0   \n",
       "149996   44                                     0     0.716562         5584.0   \n",
       "149997   58                                     0  3870.000000            NaN   \n",
       "149998   30                                     0     0.000000         5716.0   \n",
       "149999   64                                     0     0.249908         8158.0   \n",
       "\n",
       "        NumberOfOpenCreditLinesAndLoans  NumberOfTimes90DaysLate  \\\n",
       "0                                    13                        0   \n",
       "1                                     4                        0   \n",
       "2                                     2                        1   \n",
       "3                                     5                        0   \n",
       "4                                     7                        0   \n",
       "...                                 ...                      ...   \n",
       "149995                                4                        0   \n",
       "149996                                4                        0   \n",
       "149997                               18                        0   \n",
       "149998                                4                        0   \n",
       "149999                                8                        0   \n",
       "\n",
       "        NumberRealEstateLoansOrLines  NumberOfTime60-89DaysPastDueNotWorse  \\\n",
       "0                                  6                                     0   \n",
       "1                                  0                                     0   \n",
       "2                                  0                                     0   \n",
       "3                                  0                                     0   \n",
       "4                                  1                                     0   \n",
       "...                              ...                                   ...   \n",
       "149995                             1                                     0   \n",
       "149996                             1                                     0   \n",
       "149997                             1                                     0   \n",
       "149998                             0                                     0   \n",
       "149999                             2                                     0   \n",
       "\n",
       "        NumberOfDependents  \n",
       "0                      2.0  \n",
       "1                      1.0  \n",
       "2                      0.0  \n",
       "3                      0.0  \n",
       "4                      0.0  \n",
       "...                    ...  \n",
       "149995                 0.0  \n",
       "149996                 2.0  \n",
       "149997                 0.0  \n",
       "149998                 0.0  \n",
       "149999                 0.0  \n",
       "\n",
       "[150000 rows x 12 columns]"
      ]
     },
     "metadata": {},
     "output_type": "display_data"
    },
    {
     "data": {
      "text/html": [
       "<div>\n",
       "<style scoped>\n",
       "    .dataframe tbody tr th:only-of-type {\n",
       "        vertical-align: middle;\n",
       "    }\n",
       "\n",
       "    .dataframe tbody tr th {\n",
       "        vertical-align: top;\n",
       "    }\n",
       "\n",
       "    .dataframe thead th {\n",
       "        text-align: right;\n",
       "    }\n",
       "</style>\n",
       "<table border=\"1\" class=\"dataframe\">\n",
       "  <thead>\n",
       "    <tr style=\"text-align: right;\">\n",
       "      <th></th>\n",
       "      <th>Unnamed: 0</th>\n",
       "      <th>SeriousDlqin2yrs</th>\n",
       "      <th>RevolvingUtilizationOfUnsecuredLines</th>\n",
       "      <th>age</th>\n",
       "      <th>NumberOfTime30-59DaysPastDueNotWorse</th>\n",
       "      <th>DebtRatio</th>\n",
       "      <th>MonthlyIncome</th>\n",
       "      <th>NumberOfOpenCreditLinesAndLoans</th>\n",
       "      <th>NumberOfTimes90DaysLate</th>\n",
       "      <th>NumberRealEstateLoansOrLines</th>\n",
       "      <th>NumberOfTime60-89DaysPastDueNotWorse</th>\n",
       "      <th>NumberOfDependents</th>\n",
       "    </tr>\n",
       "  </thead>\n",
       "  <tbody>\n",
       "    <tr>\n",
       "      <th>0</th>\n",
       "      <td>1</td>\n",
       "      <td>NaN</td>\n",
       "      <td>0.885519</td>\n",
       "      <td>43</td>\n",
       "      <td>0</td>\n",
       "      <td>0.177513</td>\n",
       "      <td>5700.0</td>\n",
       "      <td>4</td>\n",
       "      <td>0</td>\n",
       "      <td>0</td>\n",
       "      <td>0</td>\n",
       "      <td>0.0</td>\n",
       "    </tr>\n",
       "    <tr>\n",
       "      <th>1</th>\n",
       "      <td>2</td>\n",
       "      <td>NaN</td>\n",
       "      <td>0.463295</td>\n",
       "      <td>57</td>\n",
       "      <td>0</td>\n",
       "      <td>0.527237</td>\n",
       "      <td>9141.0</td>\n",
       "      <td>15</td>\n",
       "      <td>0</td>\n",
       "      <td>4</td>\n",
       "      <td>0</td>\n",
       "      <td>2.0</td>\n",
       "    </tr>\n",
       "    <tr>\n",
       "      <th>2</th>\n",
       "      <td>3</td>\n",
       "      <td>NaN</td>\n",
       "      <td>0.043275</td>\n",
       "      <td>59</td>\n",
       "      <td>0</td>\n",
       "      <td>0.687648</td>\n",
       "      <td>5083.0</td>\n",
       "      <td>12</td>\n",
       "      <td>0</td>\n",
       "      <td>1</td>\n",
       "      <td>0</td>\n",
       "      <td>2.0</td>\n",
       "    </tr>\n",
       "    <tr>\n",
       "      <th>3</th>\n",
       "      <td>4</td>\n",
       "      <td>NaN</td>\n",
       "      <td>0.280308</td>\n",
       "      <td>38</td>\n",
       "      <td>1</td>\n",
       "      <td>0.925961</td>\n",
       "      <td>3200.0</td>\n",
       "      <td>7</td>\n",
       "      <td>0</td>\n",
       "      <td>2</td>\n",
       "      <td>0</td>\n",
       "      <td>0.0</td>\n",
       "    </tr>\n",
       "    <tr>\n",
       "      <th>4</th>\n",
       "      <td>5</td>\n",
       "      <td>NaN</td>\n",
       "      <td>1.000000</td>\n",
       "      <td>27</td>\n",
       "      <td>0</td>\n",
       "      <td>0.019917</td>\n",
       "      <td>3865.0</td>\n",
       "      <td>4</td>\n",
       "      <td>0</td>\n",
       "      <td>0</td>\n",
       "      <td>0</td>\n",
       "      <td>1.0</td>\n",
       "    </tr>\n",
       "    <tr>\n",
       "      <th>...</th>\n",
       "      <td>...</td>\n",
       "      <td>...</td>\n",
       "      <td>...</td>\n",
       "      <td>...</td>\n",
       "      <td>...</td>\n",
       "      <td>...</td>\n",
       "      <td>...</td>\n",
       "      <td>...</td>\n",
       "      <td>...</td>\n",
       "      <td>...</td>\n",
       "      <td>...</td>\n",
       "      <td>...</td>\n",
       "    </tr>\n",
       "    <tr>\n",
       "      <th>101498</th>\n",
       "      <td>101499</td>\n",
       "      <td>NaN</td>\n",
       "      <td>0.282653</td>\n",
       "      <td>24</td>\n",
       "      <td>0</td>\n",
       "      <td>0.068522</td>\n",
       "      <td>1400.0</td>\n",
       "      <td>5</td>\n",
       "      <td>0</td>\n",
       "      <td>0</td>\n",
       "      <td>0</td>\n",
       "      <td>0.0</td>\n",
       "    </tr>\n",
       "    <tr>\n",
       "      <th>101499</th>\n",
       "      <td>101500</td>\n",
       "      <td>NaN</td>\n",
       "      <td>0.922156</td>\n",
       "      <td>36</td>\n",
       "      <td>3</td>\n",
       "      <td>0.934217</td>\n",
       "      <td>7615.0</td>\n",
       "      <td>8</td>\n",
       "      <td>0</td>\n",
       "      <td>2</td>\n",
       "      <td>0</td>\n",
       "      <td>4.0</td>\n",
       "    </tr>\n",
       "    <tr>\n",
       "      <th>101500</th>\n",
       "      <td>101501</td>\n",
       "      <td>NaN</td>\n",
       "      <td>0.081596</td>\n",
       "      <td>70</td>\n",
       "      <td>0</td>\n",
       "      <td>836.000000</td>\n",
       "      <td>NaN</td>\n",
       "      <td>3</td>\n",
       "      <td>0</td>\n",
       "      <td>0</td>\n",
       "      <td>0</td>\n",
       "      <td>NaN</td>\n",
       "    </tr>\n",
       "    <tr>\n",
       "      <th>101501</th>\n",
       "      <td>101502</td>\n",
       "      <td>NaN</td>\n",
       "      <td>0.335457</td>\n",
       "      <td>56</td>\n",
       "      <td>0</td>\n",
       "      <td>3568.000000</td>\n",
       "      <td>NaN</td>\n",
       "      <td>8</td>\n",
       "      <td>0</td>\n",
       "      <td>2</td>\n",
       "      <td>1</td>\n",
       "      <td>3.0</td>\n",
       "    </tr>\n",
       "    <tr>\n",
       "      <th>101502</th>\n",
       "      <td>101503</td>\n",
       "      <td>NaN</td>\n",
       "      <td>0.441842</td>\n",
       "      <td>29</td>\n",
       "      <td>0</td>\n",
       "      <td>0.198918</td>\n",
       "      <td>5916.0</td>\n",
       "      <td>12</td>\n",
       "      <td>0</td>\n",
       "      <td>0</td>\n",
       "      <td>0</td>\n",
       "      <td>0.0</td>\n",
       "    </tr>\n",
       "  </tbody>\n",
       "</table>\n",
       "<p>101503 rows × 12 columns</p>\n",
       "</div>"
      ],
      "text/plain": [
       "        Unnamed: 0  SeriousDlqin2yrs  RevolvingUtilizationOfUnsecuredLines  \\\n",
       "0                1               NaN                              0.885519   \n",
       "1                2               NaN                              0.463295   \n",
       "2                3               NaN                              0.043275   \n",
       "3                4               NaN                              0.280308   \n",
       "4                5               NaN                              1.000000   \n",
       "...            ...               ...                                   ...   \n",
       "101498      101499               NaN                              0.282653   \n",
       "101499      101500               NaN                              0.922156   \n",
       "101500      101501               NaN                              0.081596   \n",
       "101501      101502               NaN                              0.335457   \n",
       "101502      101503               NaN                              0.441842   \n",
       "\n",
       "        age  NumberOfTime30-59DaysPastDueNotWorse    DebtRatio  MonthlyIncome  \\\n",
       "0        43                                     0     0.177513         5700.0   \n",
       "1        57                                     0     0.527237         9141.0   \n",
       "2        59                                     0     0.687648         5083.0   \n",
       "3        38                                     1     0.925961         3200.0   \n",
       "4        27                                     0     0.019917         3865.0   \n",
       "...     ...                                   ...          ...            ...   \n",
       "101498   24                                     0     0.068522         1400.0   \n",
       "101499   36                                     3     0.934217         7615.0   \n",
       "101500   70                                     0   836.000000            NaN   \n",
       "101501   56                                     0  3568.000000            NaN   \n",
       "101502   29                                     0     0.198918         5916.0   \n",
       "\n",
       "        NumberOfOpenCreditLinesAndLoans  NumberOfTimes90DaysLate  \\\n",
       "0                                     4                        0   \n",
       "1                                    15                        0   \n",
       "2                                    12                        0   \n",
       "3                                     7                        0   \n",
       "4                                     4                        0   \n",
       "...                                 ...                      ...   \n",
       "101498                                5                        0   \n",
       "101499                                8                        0   \n",
       "101500                                3                        0   \n",
       "101501                                8                        0   \n",
       "101502                               12                        0   \n",
       "\n",
       "        NumberRealEstateLoansOrLines  NumberOfTime60-89DaysPastDueNotWorse  \\\n",
       "0                                  0                                     0   \n",
       "1                                  4                                     0   \n",
       "2                                  1                                     0   \n",
       "3                                  2                                     0   \n",
       "4                                  0                                     0   \n",
       "...                              ...                                   ...   \n",
       "101498                             0                                     0   \n",
       "101499                             2                                     0   \n",
       "101500                             0                                     0   \n",
       "101501                             2                                     1   \n",
       "101502                             0                                     0   \n",
       "\n",
       "        NumberOfDependents  \n",
       "0                      0.0  \n",
       "1                      2.0  \n",
       "2                      2.0  \n",
       "3                      0.0  \n",
       "4                      1.0  \n",
       "...                    ...  \n",
       "101498                 0.0  \n",
       "101499                 4.0  \n",
       "101500                 NaN  \n",
       "101501                 3.0  \n",
       "101502                 0.0  \n",
       "\n",
       "[101503 rows x 12 columns]"
      ]
     },
     "metadata": {},
     "output_type": "display_data"
    }
   ],
   "source": [
    "display(train,test)"
   ]
  },
  {
   "cell_type": "code",
   "execution_count": 5,
   "metadata": {
    "execution": {
     "iopub.execute_input": "2020-11-15T02:28:01.743388Z",
     "iopub.status.busy": "2020-11-15T02:28:01.742179Z",
     "iopub.status.idle": "2020-11-15T02:28:01.810383Z",
     "shell.execute_reply": "2020-11-15T02:28:01.809801Z"
    },
    "papermill": {
     "duration": 0.112326,
     "end_time": "2020-11-15T02:28:01.810507",
     "exception": false,
     "start_time": "2020-11-15T02:28:01.698181",
     "status": "completed"
    },
    "tags": []
   },
   "outputs": [
    {
     "data": {
      "text/html": [
       "<div>\n",
       "<style scoped>\n",
       "    .dataframe tbody tr th:only-of-type {\n",
       "        vertical-align: middle;\n",
       "    }\n",
       "\n",
       "    .dataframe tbody tr th {\n",
       "        vertical-align: top;\n",
       "    }\n",
       "\n",
       "    .dataframe thead th {\n",
       "        text-align: right;\n",
       "    }\n",
       "</style>\n",
       "<table border=\"1\" class=\"dataframe\">\n",
       "  <thead>\n",
       "    <tr style=\"text-align: right;\">\n",
       "      <th></th>\n",
       "      <th>Unnamed: 0</th>\n",
       "      <th>SeriousDlqin2yrs</th>\n",
       "      <th>RevolvingUtilizationOfUnsecuredLines</th>\n",
       "      <th>age</th>\n",
       "      <th>NumberOfTime30-59DaysPastDueNotWorse</th>\n",
       "      <th>DebtRatio</th>\n",
       "      <th>MonthlyIncome</th>\n",
       "      <th>NumberOfOpenCreditLinesAndLoans</th>\n",
       "      <th>NumberOfTimes90DaysLate</th>\n",
       "      <th>NumberRealEstateLoansOrLines</th>\n",
       "      <th>NumberOfTime60-89DaysPastDueNotWorse</th>\n",
       "      <th>NumberOfDependents</th>\n",
       "    </tr>\n",
       "  </thead>\n",
       "  <tbody>\n",
       "    <tr>\n",
       "      <th>0</th>\n",
       "      <td>1</td>\n",
       "      <td>1.0</td>\n",
       "      <td>0.766127</td>\n",
       "      <td>45</td>\n",
       "      <td>2</td>\n",
       "      <td>0.802982</td>\n",
       "      <td>9120.0</td>\n",
       "      <td>13</td>\n",
       "      <td>0</td>\n",
       "      <td>6</td>\n",
       "      <td>0</td>\n",
       "      <td>2.0</td>\n",
       "    </tr>\n",
       "    <tr>\n",
       "      <th>1</th>\n",
       "      <td>2</td>\n",
       "      <td>0.0</td>\n",
       "      <td>0.957151</td>\n",
       "      <td>40</td>\n",
       "      <td>0</td>\n",
       "      <td>0.121876</td>\n",
       "      <td>2600.0</td>\n",
       "      <td>4</td>\n",
       "      <td>0</td>\n",
       "      <td>0</td>\n",
       "      <td>0</td>\n",
       "      <td>1.0</td>\n",
       "    </tr>\n",
       "    <tr>\n",
       "      <th>2</th>\n",
       "      <td>3</td>\n",
       "      <td>0.0</td>\n",
       "      <td>0.658180</td>\n",
       "      <td>38</td>\n",
       "      <td>1</td>\n",
       "      <td>0.085113</td>\n",
       "      <td>3042.0</td>\n",
       "      <td>2</td>\n",
       "      <td>1</td>\n",
       "      <td>0</td>\n",
       "      <td>0</td>\n",
       "      <td>0.0</td>\n",
       "    </tr>\n",
       "    <tr>\n",
       "      <th>3</th>\n",
       "      <td>4</td>\n",
       "      <td>0.0</td>\n",
       "      <td>0.233810</td>\n",
       "      <td>30</td>\n",
       "      <td>0</td>\n",
       "      <td>0.036050</td>\n",
       "      <td>3300.0</td>\n",
       "      <td>5</td>\n",
       "      <td>0</td>\n",
       "      <td>0</td>\n",
       "      <td>0</td>\n",
       "      <td>0.0</td>\n",
       "    </tr>\n",
       "    <tr>\n",
       "      <th>4</th>\n",
       "      <td>5</td>\n",
       "      <td>0.0</td>\n",
       "      <td>0.907239</td>\n",
       "      <td>49</td>\n",
       "      <td>1</td>\n",
       "      <td>0.024926</td>\n",
       "      <td>63588.0</td>\n",
       "      <td>7</td>\n",
       "      <td>0</td>\n",
       "      <td>1</td>\n",
       "      <td>0</td>\n",
       "      <td>0.0</td>\n",
       "    </tr>\n",
       "    <tr>\n",
       "      <th>...</th>\n",
       "      <td>...</td>\n",
       "      <td>...</td>\n",
       "      <td>...</td>\n",
       "      <td>...</td>\n",
       "      <td>...</td>\n",
       "      <td>...</td>\n",
       "      <td>...</td>\n",
       "      <td>...</td>\n",
       "      <td>...</td>\n",
       "      <td>...</td>\n",
       "      <td>...</td>\n",
       "      <td>...</td>\n",
       "    </tr>\n",
       "    <tr>\n",
       "      <th>101498</th>\n",
       "      <td>101499</td>\n",
       "      <td>NaN</td>\n",
       "      <td>0.282653</td>\n",
       "      <td>24</td>\n",
       "      <td>0</td>\n",
       "      <td>0.068522</td>\n",
       "      <td>1400.0</td>\n",
       "      <td>5</td>\n",
       "      <td>0</td>\n",
       "      <td>0</td>\n",
       "      <td>0</td>\n",
       "      <td>0.0</td>\n",
       "    </tr>\n",
       "    <tr>\n",
       "      <th>101499</th>\n",
       "      <td>101500</td>\n",
       "      <td>NaN</td>\n",
       "      <td>0.922156</td>\n",
       "      <td>36</td>\n",
       "      <td>3</td>\n",
       "      <td>0.934217</td>\n",
       "      <td>7615.0</td>\n",
       "      <td>8</td>\n",
       "      <td>0</td>\n",
       "      <td>2</td>\n",
       "      <td>0</td>\n",
       "      <td>4.0</td>\n",
       "    </tr>\n",
       "    <tr>\n",
       "      <th>101500</th>\n",
       "      <td>101501</td>\n",
       "      <td>NaN</td>\n",
       "      <td>0.081596</td>\n",
       "      <td>70</td>\n",
       "      <td>0</td>\n",
       "      <td>836.000000</td>\n",
       "      <td>NaN</td>\n",
       "      <td>3</td>\n",
       "      <td>0</td>\n",
       "      <td>0</td>\n",
       "      <td>0</td>\n",
       "      <td>NaN</td>\n",
       "    </tr>\n",
       "    <tr>\n",
       "      <th>101501</th>\n",
       "      <td>101502</td>\n",
       "      <td>NaN</td>\n",
       "      <td>0.335457</td>\n",
       "      <td>56</td>\n",
       "      <td>0</td>\n",
       "      <td>3568.000000</td>\n",
       "      <td>NaN</td>\n",
       "      <td>8</td>\n",
       "      <td>0</td>\n",
       "      <td>2</td>\n",
       "      <td>1</td>\n",
       "      <td>3.0</td>\n",
       "    </tr>\n",
       "    <tr>\n",
       "      <th>101502</th>\n",
       "      <td>101503</td>\n",
       "      <td>NaN</td>\n",
       "      <td>0.441842</td>\n",
       "      <td>29</td>\n",
       "      <td>0</td>\n",
       "      <td>0.198918</td>\n",
       "      <td>5916.0</td>\n",
       "      <td>12</td>\n",
       "      <td>0</td>\n",
       "      <td>0</td>\n",
       "      <td>0</td>\n",
       "      <td>0.0</td>\n",
       "    </tr>\n",
       "  </tbody>\n",
       "</table>\n",
       "<p>251503 rows × 12 columns</p>\n",
       "</div>"
      ],
      "text/plain": [
       "        Unnamed: 0  SeriousDlqin2yrs  RevolvingUtilizationOfUnsecuredLines  \\\n",
       "0                1               1.0                              0.766127   \n",
       "1                2               0.0                              0.957151   \n",
       "2                3               0.0                              0.658180   \n",
       "3                4               0.0                              0.233810   \n",
       "4                5               0.0                              0.907239   \n",
       "...            ...               ...                                   ...   \n",
       "101498      101499               NaN                              0.282653   \n",
       "101499      101500               NaN                              0.922156   \n",
       "101500      101501               NaN                              0.081596   \n",
       "101501      101502               NaN                              0.335457   \n",
       "101502      101503               NaN                              0.441842   \n",
       "\n",
       "        age  NumberOfTime30-59DaysPastDueNotWorse    DebtRatio  MonthlyIncome  \\\n",
       "0        45                                     2     0.802982         9120.0   \n",
       "1        40                                     0     0.121876         2600.0   \n",
       "2        38                                     1     0.085113         3042.0   \n",
       "3        30                                     0     0.036050         3300.0   \n",
       "4        49                                     1     0.024926        63588.0   \n",
       "...     ...                                   ...          ...            ...   \n",
       "101498   24                                     0     0.068522         1400.0   \n",
       "101499   36                                     3     0.934217         7615.0   \n",
       "101500   70                                     0   836.000000            NaN   \n",
       "101501   56                                     0  3568.000000            NaN   \n",
       "101502   29                                     0     0.198918         5916.0   \n",
       "\n",
       "        NumberOfOpenCreditLinesAndLoans  NumberOfTimes90DaysLate  \\\n",
       "0                                    13                        0   \n",
       "1                                     4                        0   \n",
       "2                                     2                        1   \n",
       "3                                     5                        0   \n",
       "4                                     7                        0   \n",
       "...                                 ...                      ...   \n",
       "101498                                5                        0   \n",
       "101499                                8                        0   \n",
       "101500                                3                        0   \n",
       "101501                                8                        0   \n",
       "101502                               12                        0   \n",
       "\n",
       "        NumberRealEstateLoansOrLines  NumberOfTime60-89DaysPastDueNotWorse  \\\n",
       "0                                  6                                     0   \n",
       "1                                  0                                     0   \n",
       "2                                  0                                     0   \n",
       "3                                  0                                     0   \n",
       "4                                  1                                     0   \n",
       "...                              ...                                   ...   \n",
       "101498                             0                                     0   \n",
       "101499                             2                                     0   \n",
       "101500                             0                                     0   \n",
       "101501                             2                                     1   \n",
       "101502                             0                                     0   \n",
       "\n",
       "        NumberOfDependents  \n",
       "0                      2.0  \n",
       "1                      1.0  \n",
       "2                      0.0  \n",
       "3                      0.0  \n",
       "4                      0.0  \n",
       "...                    ...  \n",
       "101498                 0.0  \n",
       "101499                 4.0  \n",
       "101500                 NaN  \n",
       "101501                 3.0  \n",
       "101502                 0.0  \n",
       "\n",
       "[251503 rows x 12 columns]"
      ]
     },
     "execution_count": 5,
     "metadata": {},
     "output_type": "execute_result"
    }
   ],
   "source": [
    "all_data = pd.concat([train,test])\n",
    "all_data"
   ]
  },
  {
   "cell_type": "code",
   "execution_count": 6,
   "metadata": {
    "execution": {
     "iopub.execute_input": "2020-11-15T02:28:01.896889Z",
     "iopub.status.busy": "2020-11-15T02:28:01.896103Z",
     "iopub.status.idle": "2020-11-15T02:28:01.955461Z",
     "shell.execute_reply": "2020-11-15T02:28:01.956042Z"
    },
    "papermill": {
     "duration": 0.104399,
     "end_time": "2020-11-15T02:28:01.956193",
     "exception": false,
     "start_time": "2020-11-15T02:28:01.851794",
     "status": "completed"
    },
    "tags": []
   },
   "outputs": [
    {
     "data": {
      "text/html": [
       "<div>\n",
       "<style scoped>\n",
       "    .dataframe tbody tr th:only-of-type {\n",
       "        vertical-align: middle;\n",
       "    }\n",
       "\n",
       "    .dataframe tbody tr th {\n",
       "        vertical-align: top;\n",
       "    }\n",
       "\n",
       "    .dataframe thead th {\n",
       "        text-align: right;\n",
       "    }\n",
       "</style>\n",
       "<table border=\"1\" class=\"dataframe\">\n",
       "  <thead>\n",
       "    <tr style=\"text-align: right;\">\n",
       "      <th></th>\n",
       "      <th>SeriousDlqin2yrs</th>\n",
       "      <th>RevolvingUtilizationOfUnsecuredLines</th>\n",
       "      <th>age</th>\n",
       "      <th>NumberOfTime30-59DaysPastDueNotWorse</th>\n",
       "      <th>DebtRatio</th>\n",
       "      <th>MonthlyIncome</th>\n",
       "      <th>NumberOfOpenCreditLinesAndLoans</th>\n",
       "      <th>NumberOfTimes90DaysLate</th>\n",
       "      <th>NumberRealEstateLoansOrLines</th>\n",
       "      <th>NumberOfTime60-89DaysPastDueNotWorse</th>\n",
       "      <th>NumberOfDependents</th>\n",
       "    </tr>\n",
       "  </thead>\n",
       "  <tbody>\n",
       "    <tr>\n",
       "      <th>0</th>\n",
       "      <td>1.0</td>\n",
       "      <td>0.766127</td>\n",
       "      <td>45</td>\n",
       "      <td>2</td>\n",
       "      <td>0.802982</td>\n",
       "      <td>9120.0</td>\n",
       "      <td>13</td>\n",
       "      <td>0</td>\n",
       "      <td>6</td>\n",
       "      <td>0</td>\n",
       "      <td>2.0</td>\n",
       "    </tr>\n",
       "    <tr>\n",
       "      <th>1</th>\n",
       "      <td>0.0</td>\n",
       "      <td>0.957151</td>\n",
       "      <td>40</td>\n",
       "      <td>0</td>\n",
       "      <td>0.121876</td>\n",
       "      <td>2600.0</td>\n",
       "      <td>4</td>\n",
       "      <td>0</td>\n",
       "      <td>0</td>\n",
       "      <td>0</td>\n",
       "      <td>1.0</td>\n",
       "    </tr>\n",
       "    <tr>\n",
       "      <th>2</th>\n",
       "      <td>0.0</td>\n",
       "      <td>0.658180</td>\n",
       "      <td>38</td>\n",
       "      <td>1</td>\n",
       "      <td>0.085113</td>\n",
       "      <td>3042.0</td>\n",
       "      <td>2</td>\n",
       "      <td>1</td>\n",
       "      <td>0</td>\n",
       "      <td>0</td>\n",
       "      <td>0.0</td>\n",
       "    </tr>\n",
       "    <tr>\n",
       "      <th>3</th>\n",
       "      <td>0.0</td>\n",
       "      <td>0.233810</td>\n",
       "      <td>30</td>\n",
       "      <td>0</td>\n",
       "      <td>0.036050</td>\n",
       "      <td>3300.0</td>\n",
       "      <td>5</td>\n",
       "      <td>0</td>\n",
       "      <td>0</td>\n",
       "      <td>0</td>\n",
       "      <td>0.0</td>\n",
       "    </tr>\n",
       "    <tr>\n",
       "      <th>4</th>\n",
       "      <td>0.0</td>\n",
       "      <td>0.907239</td>\n",
       "      <td>49</td>\n",
       "      <td>1</td>\n",
       "      <td>0.024926</td>\n",
       "      <td>63588.0</td>\n",
       "      <td>7</td>\n",
       "      <td>0</td>\n",
       "      <td>1</td>\n",
       "      <td>0</td>\n",
       "      <td>0.0</td>\n",
       "    </tr>\n",
       "    <tr>\n",
       "      <th>...</th>\n",
       "      <td>...</td>\n",
       "      <td>...</td>\n",
       "      <td>...</td>\n",
       "      <td>...</td>\n",
       "      <td>...</td>\n",
       "      <td>...</td>\n",
       "      <td>...</td>\n",
       "      <td>...</td>\n",
       "      <td>...</td>\n",
       "      <td>...</td>\n",
       "      <td>...</td>\n",
       "    </tr>\n",
       "    <tr>\n",
       "      <th>101498</th>\n",
       "      <td>NaN</td>\n",
       "      <td>0.282653</td>\n",
       "      <td>24</td>\n",
       "      <td>0</td>\n",
       "      <td>0.068522</td>\n",
       "      <td>1400.0</td>\n",
       "      <td>5</td>\n",
       "      <td>0</td>\n",
       "      <td>0</td>\n",
       "      <td>0</td>\n",
       "      <td>0.0</td>\n",
       "    </tr>\n",
       "    <tr>\n",
       "      <th>101499</th>\n",
       "      <td>NaN</td>\n",
       "      <td>0.922156</td>\n",
       "      <td>36</td>\n",
       "      <td>3</td>\n",
       "      <td>0.934217</td>\n",
       "      <td>7615.0</td>\n",
       "      <td>8</td>\n",
       "      <td>0</td>\n",
       "      <td>2</td>\n",
       "      <td>0</td>\n",
       "      <td>4.0</td>\n",
       "    </tr>\n",
       "    <tr>\n",
       "      <th>101500</th>\n",
       "      <td>NaN</td>\n",
       "      <td>0.081596</td>\n",
       "      <td>70</td>\n",
       "      <td>0</td>\n",
       "      <td>836.000000</td>\n",
       "      <td>NaN</td>\n",
       "      <td>3</td>\n",
       "      <td>0</td>\n",
       "      <td>0</td>\n",
       "      <td>0</td>\n",
       "      <td>NaN</td>\n",
       "    </tr>\n",
       "    <tr>\n",
       "      <th>101501</th>\n",
       "      <td>NaN</td>\n",
       "      <td>0.335457</td>\n",
       "      <td>56</td>\n",
       "      <td>0</td>\n",
       "      <td>3568.000000</td>\n",
       "      <td>NaN</td>\n",
       "      <td>8</td>\n",
       "      <td>0</td>\n",
       "      <td>2</td>\n",
       "      <td>1</td>\n",
       "      <td>3.0</td>\n",
       "    </tr>\n",
       "    <tr>\n",
       "      <th>101502</th>\n",
       "      <td>NaN</td>\n",
       "      <td>0.441842</td>\n",
       "      <td>29</td>\n",
       "      <td>0</td>\n",
       "      <td>0.198918</td>\n",
       "      <td>5916.0</td>\n",
       "      <td>12</td>\n",
       "      <td>0</td>\n",
       "      <td>0</td>\n",
       "      <td>0</td>\n",
       "      <td>0.0</td>\n",
       "    </tr>\n",
       "  </tbody>\n",
       "</table>\n",
       "<p>251503 rows × 11 columns</p>\n",
       "</div>"
      ],
      "text/plain": [
       "        SeriousDlqin2yrs  RevolvingUtilizationOfUnsecuredLines  age  \\\n",
       "0                    1.0                              0.766127   45   \n",
       "1                    0.0                              0.957151   40   \n",
       "2                    0.0                              0.658180   38   \n",
       "3                    0.0                              0.233810   30   \n",
       "4                    0.0                              0.907239   49   \n",
       "...                  ...                                   ...  ...   \n",
       "101498               NaN                              0.282653   24   \n",
       "101499               NaN                              0.922156   36   \n",
       "101500               NaN                              0.081596   70   \n",
       "101501               NaN                              0.335457   56   \n",
       "101502               NaN                              0.441842   29   \n",
       "\n",
       "        NumberOfTime30-59DaysPastDueNotWorse    DebtRatio  MonthlyIncome  \\\n",
       "0                                          2     0.802982         9120.0   \n",
       "1                                          0     0.121876         2600.0   \n",
       "2                                          1     0.085113         3042.0   \n",
       "3                                          0     0.036050         3300.0   \n",
       "4                                          1     0.024926        63588.0   \n",
       "...                                      ...          ...            ...   \n",
       "101498                                     0     0.068522         1400.0   \n",
       "101499                                     3     0.934217         7615.0   \n",
       "101500                                     0   836.000000            NaN   \n",
       "101501                                     0  3568.000000            NaN   \n",
       "101502                                     0     0.198918         5916.0   \n",
       "\n",
       "        NumberOfOpenCreditLinesAndLoans  NumberOfTimes90DaysLate  \\\n",
       "0                                    13                        0   \n",
       "1                                     4                        0   \n",
       "2                                     2                        1   \n",
       "3                                     5                        0   \n",
       "4                                     7                        0   \n",
       "...                                 ...                      ...   \n",
       "101498                                5                        0   \n",
       "101499                                8                        0   \n",
       "101500                                3                        0   \n",
       "101501                                8                        0   \n",
       "101502                               12                        0   \n",
       "\n",
       "        NumberRealEstateLoansOrLines  NumberOfTime60-89DaysPastDueNotWorse  \\\n",
       "0                                  6                                     0   \n",
       "1                                  0                                     0   \n",
       "2                                  0                                     0   \n",
       "3                                  0                                     0   \n",
       "4                                  1                                     0   \n",
       "...                              ...                                   ...   \n",
       "101498                             0                                     0   \n",
       "101499                             2                                     0   \n",
       "101500                             0                                     0   \n",
       "101501                             2                                     1   \n",
       "101502                             0                                     0   \n",
       "\n",
       "        NumberOfDependents  \n",
       "0                      2.0  \n",
       "1                      1.0  \n",
       "2                      0.0  \n",
       "3                      0.0  \n",
       "4                      0.0  \n",
       "...                    ...  \n",
       "101498                 0.0  \n",
       "101499                 4.0  \n",
       "101500                 NaN  \n",
       "101501                 3.0  \n",
       "101502                 0.0  \n",
       "\n",
       "[251503 rows x 11 columns]"
      ]
     },
     "execution_count": 6,
     "metadata": {},
     "output_type": "execute_result"
    }
   ],
   "source": [
    "#필요 없는 변수 제거.\n",
    "all_data = all_data.drop(['Unnamed: 0'],axis=1)\n",
    "all_data"
   ]
  },
  {
   "cell_type": "code",
   "execution_count": 7,
   "metadata": {
    "execution": {
     "iopub.execute_input": "2020-11-15T02:28:02.042566Z",
     "iopub.status.busy": "2020-11-15T02:28:02.041798Z",
     "iopub.status.idle": "2020-11-15T02:28:02.065553Z",
     "shell.execute_reply": "2020-11-15T02:28:02.064913Z"
    },
    "papermill": {
     "duration": 0.068986,
     "end_time": "2020-11-15T02:28:02.065683",
     "exception": false,
     "start_time": "2020-11-15T02:28:01.996697",
     "status": "completed"
    },
    "tags": []
   },
   "outputs": [
    {
     "name": "stdout",
     "output_type": "stream",
     "text": [
      "<class 'pandas.core.frame.DataFrame'>\n",
      "Int64Index: 251503 entries, 0 to 101502\n",
      "Data columns (total 11 columns):\n",
      " #   Column                                Non-Null Count   Dtype  \n",
      "---  ------                                --------------   -----  \n",
      " 0   SeriousDlqin2yrs                      150000 non-null  float64\n",
      " 1   RevolvingUtilizationOfUnsecuredLines  251503 non-null  float64\n",
      " 2   age                                   251503 non-null  int64  \n",
      " 3   NumberOfTime30-59DaysPastDueNotWorse  251503 non-null  int64  \n",
      " 4   DebtRatio                             251503 non-null  float64\n",
      " 5   MonthlyIncome                         201669 non-null  float64\n",
      " 6   NumberOfOpenCreditLinesAndLoans       251503 non-null  int64  \n",
      " 7   NumberOfTimes90DaysLate               251503 non-null  int64  \n",
      " 8   NumberRealEstateLoansOrLines          251503 non-null  int64  \n",
      " 9   NumberOfTime60-89DaysPastDueNotWorse  251503 non-null  int64  \n",
      " 10  NumberOfDependents                    244953 non-null  float64\n",
      "dtypes: float64(5), int64(6)\n",
      "memory usage: 23.0 MB\n"
     ]
    }
   ],
   "source": [
    "# NA 결측값 확인.\n",
    "all_data.info()\n",
    "\n",
    "# MonthlyIncome, NumberOfDependents에 결측값이 존재하는 것을 확인할 수 있음."
   ]
  },
  {
   "cell_type": "code",
   "execution_count": 8,
   "metadata": {
    "execution": {
     "iopub.execute_input": "2020-11-15T02:28:02.156100Z",
     "iopub.status.busy": "2020-11-15T02:28:02.154684Z",
     "iopub.status.idle": "2020-11-15T02:28:02.164402Z",
     "shell.execute_reply": "2020-11-15T02:28:02.163773Z"
    },
    "papermill": {
     "duration": 0.057423,
     "end_time": "2020-11-15T02:28:02.164527",
     "exception": false,
     "start_time": "2020-11-15T02:28:02.107104",
     "status": "completed"
    },
    "tags": []
   },
   "outputs": [],
   "source": [
    "# 결측값 평균으로 채우기.\n",
    "all_data['MonthlyIncome'] = all_data['MonthlyIncome'].fillna(all_data['MonthlyIncome'].mean())\n",
    "all_data['NumberOfDependents'] = all_data['NumberOfDependents'].fillna(all_data['NumberOfDependents'].mean())"
   ]
  },
  {
   "cell_type": "markdown",
   "metadata": {
    "papermill": {
     "duration": 0.040499,
     "end_time": "2020-11-15T02:28:02.246232",
     "exception": false,
     "start_time": "2020-11-15T02:28:02.205733",
     "status": "completed"
    },
    "tags": []
   },
   "source": [
    "### 변수 확인해보기"
   ]
  },
  {
   "cell_type": "markdown",
   "metadata": {
    "papermill": {
     "duration": 0.040533,
     "end_time": "2020-11-15T02:28:02.327858",
     "exception": false,
     "start_time": "2020-11-15T02:28:02.287325",
     "status": "completed"
    },
    "tags": []
   },
   "source": [
    "- SeriousDlqin2yrs"
   ]
  },
  {
   "cell_type": "code",
   "execution_count": 9,
   "metadata": {
    "execution": {
     "iopub.execute_input": "2020-11-15T02:28:02.415111Z",
     "iopub.status.busy": "2020-11-15T02:28:02.414318Z",
     "iopub.status.idle": "2020-11-15T02:28:02.422168Z",
     "shell.execute_reply": "2020-11-15T02:28:02.421463Z"
    },
    "papermill": {
     "duration": 0.053478,
     "end_time": "2020-11-15T02:28:02.422284",
     "exception": false,
     "start_time": "2020-11-15T02:28:02.368806",
     "status": "completed"
    },
    "tags": []
   },
   "outputs": [
    {
     "data": {
      "text/plain": [
       "0    139974\n",
       "1     10026\n",
       "Name: SeriousDlqin2yrs, dtype: int64"
      ]
     },
     "execution_count": 9,
     "metadata": {},
     "output_type": "execute_result"
    }
   ],
   "source": [
    "train['SeriousDlqin2yrs'].value_counts()"
   ]
  },
  {
   "cell_type": "code",
   "execution_count": 10,
   "metadata": {
    "execution": {
     "iopub.execute_input": "2020-11-15T02:28:02.512888Z",
     "iopub.status.busy": "2020-11-15T02:28:02.511811Z",
     "iopub.status.idle": "2020-11-15T02:28:02.773844Z",
     "shell.execute_reply": "2020-11-15T02:28:02.773107Z"
    },
    "papermill": {
     "duration": 0.309975,
     "end_time": "2020-11-15T02:28:02.773965",
     "exception": false,
     "start_time": "2020-11-15T02:28:02.463990",
     "status": "completed"
    },
    "tags": []
   },
   "outputs": [
    {
     "data": {
      "text/plain": [
       "<matplotlib.axes._subplots.AxesSubplot at 0x7f8e9c0fcf50>"
      ]
     },
     "execution_count": 10,
     "metadata": {},
     "output_type": "execute_result"
    },
    {
     "data": {
      "image/png": "[encoded data removed]",
      "text/plain": [
       "<Figure size 432x288 with 1 Axes>"
      ]
     },
     "metadata": {
      "needs_background": "light"
     },
     "output_type": "display_data"
    }
   ],
   "source": [
    "sns.countplot(x='SeriousDlqin2yrs',data=train)"
   ]
  },
  {
   "cell_type": "code",
   "execution_count": 11,
   "metadata": {
    "execution": {
     "iopub.execute_input": "2020-11-15T02:28:02.875853Z",
     "iopub.status.busy": "2020-11-15T02:28:02.874934Z",
     "iopub.status.idle": "2020-11-15T02:28:02.877908Z",
     "shell.execute_reply": "2020-11-15T02:28:02.878506Z"
    },
    "papermill": {
     "duration": 0.061762,
     "end_time": "2020-11-15T02:28:02.878669",
     "exception": false,
     "start_time": "2020-11-15T02:28:02.816907",
     "status": "completed"
    },
    "tags": []
   },
   "outputs": [],
   "source": [
    "# 0과 1의 차이가 크다는 것을 알 수 있음.\n",
    "# 0이 대부분인 것을 확인할 수 있습니다."
   ]
  },
  {
   "cell_type": "markdown",
   "metadata": {
    "papermill": {
     "duration": 0.054685,
     "end_time": "2020-11-15T02:28:02.984664",
     "exception": false,
     "start_time": "2020-11-15T02:28:02.929979",
     "status": "completed"
    },
    "tags": []
   },
   "source": [
    "- RevolvingUtilizationOfUnsecuredLines"
   ]
  },
  {
   "cell_type": "code",
   "execution_count": 12,
   "metadata": {
    "execution": {
     "iopub.execute_input": "2020-11-15T02:28:03.077799Z",
     "iopub.status.busy": "2020-11-15T02:28:03.076982Z",
     "iopub.status.idle": "2020-11-15T02:28:03.096555Z",
     "shell.execute_reply": "2020-11-15T02:28:03.095954Z"
    },
    "papermill": {
     "duration": 0.06813,
     "end_time": "2020-11-15T02:28:03.096723",
     "exception": false,
     "start_time": "2020-11-15T02:28:03.028593",
     "status": "completed"
    },
    "tags": []
   },
   "outputs": [
    {
     "data": {
      "text/plain": [
       "count    251503.000000\n",
       "mean          5.750415\n",
       "std         229.633980\n",
       "min           0.000000\n",
       "25%           0.029977\n",
       "50%           0.153575\n",
       "75%           0.561293\n",
       "max       50708.000000\n",
       "Name: RevolvingUtilizationOfUnsecuredLines, dtype: float64"
      ]
     },
     "execution_count": 12,
     "metadata": {},
     "output_type": "execute_result"
    }
   ],
   "source": [
    "all_data['RevolvingUtilizationOfUnsecuredLines'].describe()"
   ]
  },
  {
   "cell_type": "code",
   "execution_count": 13,
   "metadata": {
    "execution": {
     "iopub.execute_input": "2020-11-15T02:28:03.190865Z",
     "iopub.status.busy": "2020-11-15T02:28:03.189856Z",
     "iopub.status.idle": "2020-11-15T02:28:03.222474Z",
     "shell.execute_reply": "2020-11-15T02:28:03.221743Z"
    },
    "papermill": {
     "duration": 0.081793,
     "end_time": "2020-11-15T02:28:03.222594",
     "exception": false,
     "start_time": "2020-11-15T02:28:03.140801",
     "status": "completed"
    },
    "tags": []
   },
   "outputs": [
    {
     "data": {
      "text/html": [
       "<div>\n",
       "<style scoped>\n",
       "    .dataframe tbody tr th:only-of-type {\n",
       "        vertical-align: middle;\n",
       "    }\n",
       "\n",
       "    .dataframe tbody tr th {\n",
       "        vertical-align: top;\n",
       "    }\n",
       "\n",
       "    .dataframe thead th {\n",
       "        text-align: right;\n",
       "    }\n",
       "</style>\n",
       "<table border=\"1\" class=\"dataframe\">\n",
       "  <thead>\n",
       "    <tr style=\"text-align: right;\">\n",
       "      <th></th>\n",
       "      <th>SeriousDlqin2yrs</th>\n",
       "      <th>RevolvingUtilizationOfUnsecuredLines</th>\n",
       "      <th>age</th>\n",
       "      <th>NumberOfTime30-59DaysPastDueNotWorse</th>\n",
       "      <th>DebtRatio</th>\n",
       "      <th>MonthlyIncome</th>\n",
       "      <th>NumberOfOpenCreditLinesAndLoans</th>\n",
       "      <th>NumberOfTimes90DaysLate</th>\n",
       "      <th>NumberRealEstateLoansOrLines</th>\n",
       "      <th>NumberOfTime60-89DaysPastDueNotWorse</th>\n",
       "      <th>NumberOfDependents</th>\n",
       "    </tr>\n",
       "  </thead>\n",
       "  <tbody>\n",
       "    <tr>\n",
       "      <th>85489</th>\n",
       "      <td>0.0</td>\n",
       "      <td>50708.0</td>\n",
       "      <td>55</td>\n",
       "      <td>0</td>\n",
       "      <td>0.221757</td>\n",
       "      <td>38000.0</td>\n",
       "      <td>7</td>\n",
       "      <td>0</td>\n",
       "      <td>2</td>\n",
       "      <td>0</td>\n",
       "      <td>0.0</td>\n",
       "    </tr>\n",
       "  </tbody>\n",
       "</table>\n",
       "</div>"
      ],
      "text/plain": [
       "       SeriousDlqin2yrs  RevolvingUtilizationOfUnsecuredLines  age  \\\n",
       "85489               0.0                               50708.0   55   \n",
       "\n",
       "       NumberOfTime30-59DaysPastDueNotWorse  DebtRatio  MonthlyIncome  \\\n",
       "85489                                     0   0.221757        38000.0   \n",
       "\n",
       "       NumberOfOpenCreditLinesAndLoans  NumberOfTimes90DaysLate  \\\n",
       "85489                                7                        0   \n",
       "\n",
       "       NumberRealEstateLoansOrLines  NumberOfTime60-89DaysPastDueNotWorse  \\\n",
       "85489                             2                                     0   \n",
       "\n",
       "       NumberOfDependents  \n",
       "85489                 0.0  "
      ]
     },
     "execution_count": 13,
     "metadata": {},
     "output_type": "execute_result"
    }
   ],
   "source": [
    "all_data[all_data['RevolvingUtilizationOfUnsecuredLines']==50708]"
   ]
  },
  {
   "cell_type": "code",
   "execution_count": 14,
   "metadata": {
    "execution": {
     "iopub.execute_input": "2020-11-15T02:28:03.319163Z",
     "iopub.status.busy": "2020-11-15T02:28:03.317956Z",
     "iopub.status.idle": "2020-11-15T02:28:03.322518Z",
     "shell.execute_reply": "2020-11-15T02:28:03.321747Z"
    },
    "papermill": {
     "duration": 0.055758,
     "end_time": "2020-11-15T02:28:03.322646",
     "exception": false,
     "start_time": "2020-11-15T02:28:03.266888",
     "status": "completed"
    },
    "tags": []
   },
   "outputs": [
    {
     "data": {
      "text/plain": [
       "0         0.766127\n",
       "1         0.957151\n",
       "2         0.658180\n",
       "3         0.233810\n",
       "4         0.907239\n",
       "            ...   \n",
       "101498    0.282653\n",
       "101499    0.922156\n",
       "101500    0.081596\n",
       "101501    0.335457\n",
       "101502    0.441842\n",
       "Name: RevolvingUtilizationOfUnsecuredLines, Length: 251503, dtype: float64"
      ]
     },
     "execution_count": 14,
     "metadata": {},
     "output_type": "execute_result"
    }
   ],
   "source": [
    "all_data['RevolvingUtilizationOfUnsecuredLines']"
   ]
  },
  {
   "cell_type": "code",
   "execution_count": 15,
   "metadata": {
    "execution": {
     "iopub.execute_input": "2020-11-15T02:28:03.419495Z",
     "iopub.status.busy": "2020-11-15T02:28:03.418575Z",
     "iopub.status.idle": "2020-11-15T02:28:03.421755Z",
     "shell.execute_reply": "2020-11-15T02:28:03.421130Z"
    },
    "papermill": {
     "duration": 0.053406,
     "end_time": "2020-11-15T02:28:03.421884",
     "exception": false,
     "start_time": "2020-11-15T02:28:03.368478",
     "status": "completed"
    },
    "tags": []
   },
   "outputs": [],
   "source": [
    "#일단 MAX값이 엄청난 outlier일 확률이 높다."
   ]
  },
  {
   "cell_type": "code",
   "execution_count": 16,
   "metadata": {
    "execution": {
     "iopub.execute_input": "2020-11-15T02:28:03.526429Z",
     "iopub.status.busy": "2020-11-15T02:28:03.524294Z",
     "iopub.status.idle": "2020-11-15T02:28:03.929494Z",
     "shell.execute_reply": "2020-11-15T02:28:03.928756Z"
    },
    "papermill": {
     "duration": 0.462309,
     "end_time": "2020-11-15T02:28:03.929619",
     "exception": false,
     "start_time": "2020-11-15T02:28:03.467310",
     "status": "completed"
    },
    "tags": []
   },
   "outputs": [
    {
     "data": {
      "text/plain": [
       "<matplotlib.axes._subplots.AxesSubplot at 0x7f8e9609aad0>"
      ]
     },
     "execution_count": 16,
     "metadata": {},
     "output_type": "execute_result"
    },
    {
     "data": {
      "image/png": "[encoded data removed]",
      "text/plain": [
       "<Figure size 1080x1080 with 1 Axes>"
      ]
     },
     "metadata": {
      "needs_background": "light"
     },
     "output_type": "display_data"
    }
   ],
   "source": [
    "# 변수 확인.\n",
    "plt.figure(figsize=(15,15))\n",
    "sns.distplot(all_data['RevolvingUtilizationOfUnsecuredLines'])\n",
    "#plt.hist(train['RevolvingUtilizationOfUnsecuredLines'],bins=30) # 혹시 이 코드에서는 10000이상인 경우 수가 너무적어서 그래프에 안찍히는데, 찍히는 방법을 알 수 있을지."
   ]
  },
  {
   "cell_type": "code",
   "execution_count": 17,
   "metadata": {
    "execution": {
     "iopub.execute_input": "2020-11-15T02:28:04.029094Z",
     "iopub.status.busy": "2020-11-15T02:28:04.028127Z",
     "iopub.status.idle": "2020-11-15T02:28:04.031161Z",
     "shell.execute_reply": "2020-11-15T02:28:04.030446Z"
    },
    "papermill": {
     "duration": 0.054375,
     "end_time": "2020-11-15T02:28:04.031280",
     "exception": false,
     "start_time": "2020-11-15T02:28:03.976905",
     "status": "completed"
    },
    "tags": []
   },
   "outputs": [],
   "source": [
    "# 0.6보다 큰 것은 1, 1보다 작은 것은 0.\n",
    "# all_data['RevolvingUtilizationOfUnsecuredLines'] = all_data['RevolvingUtilizationOfUnsecuredLines'].apply(lambda x : 1 if x>=0.6 else 0)"
   ]
  },
  {
   "cell_type": "markdown",
   "metadata": {
    "papermill": {
     "duration": 0.046777,
     "end_time": "2020-11-15T02:28:04.125305",
     "exception": false,
     "start_time": "2020-11-15T02:28:04.078528",
     "status": "completed"
    },
    "tags": []
   },
   "source": [
    "### age"
   ]
  },
  {
   "cell_type": "code",
   "execution_count": 18,
   "metadata": {
    "execution": {
     "iopub.execute_input": "2020-11-15T02:28:04.226051Z",
     "iopub.status.busy": "2020-11-15T02:28:04.224963Z",
     "iopub.status.idle": "2020-11-15T02:28:04.241075Z",
     "shell.execute_reply": "2020-11-15T02:28:04.241749Z"
    },
    "papermill": {
     "duration": 0.069419,
     "end_time": "2020-11-15T02:28:04.241910",
     "exception": false,
     "start_time": "2020-11-15T02:28:04.172491",
     "status": "completed"
    },
    "tags": []
   },
   "outputs": [
    {
     "data": {
      "text/plain": [
       "count    251503.000000\n",
       "mean         52.339694\n",
       "std          14.775120\n",
       "min           0.000000\n",
       "25%          41.000000\n",
       "50%          52.000000\n",
       "75%          63.000000\n",
       "max         109.000000\n",
       "Name: age, dtype: float64"
      ]
     },
     "execution_count": 18,
     "metadata": {},
     "output_type": "execute_result"
    }
   ],
   "source": [
    "all_data['age'].describe()"
   ]
  },
  {
   "cell_type": "code",
   "execution_count": 19,
   "metadata": {
    "execution": {
     "iopub.execute_input": "2020-11-15T02:28:04.353672Z",
     "iopub.status.busy": "2020-11-15T02:28:04.352784Z",
     "iopub.status.idle": "2020-11-15T02:28:04.357145Z",
     "shell.execute_reply": "2020-11-15T02:28:04.357702Z"
    },
    "papermill": {
     "duration": 0.067221,
     "end_time": "2020-11-15T02:28:04.357863",
     "exception": false,
     "start_time": "2020-11-15T02:28:04.290642",
     "status": "completed"
    },
    "tags": []
   },
   "outputs": [
    {
     "data": {
      "text/html": [
       "<div>\n",
       "<style scoped>\n",
       "    .dataframe tbody tr th:only-of-type {\n",
       "        vertical-align: middle;\n",
       "    }\n",
       "\n",
       "    .dataframe tbody tr th {\n",
       "        vertical-align: top;\n",
       "    }\n",
       "\n",
       "    .dataframe thead th {\n",
       "        text-align: right;\n",
       "    }\n",
       "</style>\n",
       "<table border=\"1\" class=\"dataframe\">\n",
       "  <thead>\n",
       "    <tr style=\"text-align: right;\">\n",
       "      <th></th>\n",
       "      <th>SeriousDlqin2yrs</th>\n",
       "      <th>RevolvingUtilizationOfUnsecuredLines</th>\n",
       "      <th>age</th>\n",
       "      <th>NumberOfTime30-59DaysPastDueNotWorse</th>\n",
       "      <th>DebtRatio</th>\n",
       "      <th>MonthlyIncome</th>\n",
       "      <th>NumberOfOpenCreditLinesAndLoans</th>\n",
       "      <th>NumberOfTimes90DaysLate</th>\n",
       "      <th>NumberRealEstateLoansOrLines</th>\n",
       "      <th>NumberOfTime60-89DaysPastDueNotWorse</th>\n",
       "      <th>NumberOfDependents</th>\n",
       "    </tr>\n",
       "  </thead>\n",
       "  <tbody>\n",
       "    <tr>\n",
       "      <th>0</th>\n",
       "      <td>1.0</td>\n",
       "      <td>0.766127</td>\n",
       "      <td>45</td>\n",
       "      <td>2</td>\n",
       "      <td>0.802982</td>\n",
       "      <td>9120.0</td>\n",
       "      <td>13</td>\n",
       "      <td>0</td>\n",
       "      <td>6</td>\n",
       "      <td>0</td>\n",
       "      <td>2.0</td>\n",
       "    </tr>\n",
       "    <tr>\n",
       "      <th>1</th>\n",
       "      <td>0.0</td>\n",
       "      <td>0.957151</td>\n",
       "      <td>40</td>\n",
       "      <td>0</td>\n",
       "      <td>0.121876</td>\n",
       "      <td>2600.0</td>\n",
       "      <td>4</td>\n",
       "      <td>0</td>\n",
       "      <td>0</td>\n",
       "      <td>0</td>\n",
       "      <td>1.0</td>\n",
       "    </tr>\n",
       "  </tbody>\n",
       "</table>\n",
       "</div>"
      ],
      "text/plain": [
       "   SeriousDlqin2yrs  RevolvingUtilizationOfUnsecuredLines  age  \\\n",
       "0               1.0                              0.766127   45   \n",
       "1               0.0                              0.957151   40   \n",
       "\n",
       "   NumberOfTime30-59DaysPastDueNotWorse  DebtRatio  MonthlyIncome  \\\n",
       "0                                     2   0.802982         9120.0   \n",
       "1                                     0   0.121876         2600.0   \n",
       "\n",
       "   NumberOfOpenCreditLinesAndLoans  NumberOfTimes90DaysLate  \\\n",
       "0                               13                        0   \n",
       "1                                4                        0   \n",
       "\n",
       "   NumberRealEstateLoansOrLines  NumberOfTime60-89DaysPastDueNotWorse  \\\n",
       "0                             6                                     0   \n",
       "1                             0                                     0   \n",
       "\n",
       "   NumberOfDependents  \n",
       "0                 2.0  \n",
       "1                 1.0  "
      ]
     },
     "execution_count": 19,
     "metadata": {},
     "output_type": "execute_result"
    }
   ],
   "source": [
    "all_data.head(2)"
   ]
  },
  {
   "cell_type": "code",
   "execution_count": 20,
   "metadata": {
    "execution": {
     "iopub.execute_input": "2020-11-15T02:28:04.466153Z",
     "iopub.status.busy": "2020-11-15T02:28:04.459636Z",
     "iopub.status.idle": "2020-11-15T02:28:04.846953Z",
     "shell.execute_reply": "2020-11-15T02:28:04.847551Z"
    },
    "papermill": {
     "duration": 0.441224,
     "end_time": "2020-11-15T02:28:04.847713",
     "exception": false,
     "start_time": "2020-11-15T02:28:04.406489",
     "status": "completed"
    },
    "tags": []
   },
   "outputs": [
    {
     "data": {
      "text/plain": [
       "<matplotlib.axes._subplots.AxesSubplot at 0x7f8e95fb2050>"
      ]
     },
     "execution_count": 20,
     "metadata": {},
     "output_type": "execute_result"
    },
    {
     "data": {
      "image/png": "[encoded data removed]",
      "text/plain": [
       "<Figure size 1080x1080 with 1 Axes>"
      ]
     },
     "metadata": {
      "needs_background": "light"
     },
     "output_type": "display_data"
    }
   ],
   "source": [
    "plt.figure(figsize=(15,15))\n",
    "sns.distplot(all_data['age'])"
   ]
  },
  {
   "cell_type": "code",
   "execution_count": 21,
   "metadata": {
    "execution": {
     "iopub.execute_input": "2020-11-15T02:28:04.953792Z",
     "iopub.status.busy": "2020-11-15T02:28:04.953071Z",
     "iopub.status.idle": "2020-11-15T02:28:04.955600Z",
     "shell.execute_reply": "2020-11-15T02:28:04.956116Z"
    },
    "papermill": {
     "duration": 0.057813,
     "end_time": "2020-11-15T02:28:04.956275",
     "exception": false,
     "start_time": "2020-11-15T02:28:04.898462",
     "status": "completed"
    },
    "tags": []
   },
   "outputs": [],
   "source": [
    "# 약 40대에서 65세 사이가 많다는 것을 알 수 있다."
   ]
  },
  {
   "cell_type": "code",
   "execution_count": 22,
   "metadata": {
    "execution": {
     "iopub.execute_input": "2020-11-15T02:28:05.064105Z",
     "iopub.status.busy": "2020-11-15T02:28:05.063266Z",
     "iopub.status.idle": "2020-11-15T02:28:05.068189Z",
     "shell.execute_reply": "2020-11-15T02:28:05.067567Z"
    },
    "papermill": {
     "duration": 0.061282,
     "end_time": "2020-11-15T02:28:05.068342",
     "exception": false,
     "start_time": "2020-11-15T02:28:05.007060",
     "status": "completed"
    },
    "tags": []
   },
   "outputs": [
    {
     "data": {
      "text/plain": [
       "Index(['SeriousDlqin2yrs', 'RevolvingUtilizationOfUnsecuredLines', 'age',\n",
       "       'NumberOfTime30-59DaysPastDueNotWorse', 'DebtRatio', 'MonthlyIncome',\n",
       "       'NumberOfOpenCreditLinesAndLoans', 'NumberOfTimes90DaysLate',\n",
       "       'NumberRealEstateLoansOrLines', 'NumberOfTime60-89DaysPastDueNotWorse',\n",
       "       'NumberOfDependents'],\n",
       "      dtype='object')"
      ]
     },
     "execution_count": 22,
     "metadata": {},
     "output_type": "execute_result"
    }
   ],
   "source": [
    "all_data.columns"
   ]
  },
  {
   "cell_type": "markdown",
   "metadata": {
    "papermill": {
     "duration": 0.050995,
     "end_time": "2020-11-15T02:28:05.170792",
     "exception": false,
     "start_time": "2020-11-15T02:28:05.119797",
     "status": "completed"
    },
    "tags": []
   },
   "source": [
    "### Monthly Income"
   ]
  },
  {
   "cell_type": "code",
   "execution_count": 23,
   "metadata": {
    "execution": {
     "iopub.execute_input": "2020-11-15T02:28:05.280889Z",
     "iopub.status.busy": "2020-11-15T02:28:05.279914Z",
     "iopub.status.idle": "2020-11-15T02:28:05.284088Z",
     "shell.execute_reply": "2020-11-15T02:28:05.284622Z"
    },
    "papermill": {
     "duration": 0.062603,
     "end_time": "2020-11-15T02:28:05.284779",
     "exception": false,
     "start_time": "2020-11-15T02:28:05.222176",
     "status": "completed"
    },
    "tags": []
   },
   "outputs": [
    {
     "data": {
      "text/plain": [
       "0     9120.0\n",
       "1     2600.0\n",
       "2     3042.0\n",
       "3     3300.0\n",
       "4    63588.0\n",
       "Name: MonthlyIncome, dtype: float64"
      ]
     },
     "execution_count": 23,
     "metadata": {},
     "output_type": "execute_result"
    }
   ],
   "source": [
    "all_data['MonthlyIncome'].head()"
   ]
  },
  {
   "cell_type": "code",
   "execution_count": 24,
   "metadata": {
    "execution": {
     "iopub.execute_input": "2020-11-15T02:28:05.395066Z",
     "iopub.status.busy": "2020-11-15T02:28:05.394292Z",
     "iopub.status.idle": "2020-11-15T02:28:05.412807Z",
     "shell.execute_reply": "2020-11-15T02:28:05.412157Z"
    },
    "papermill": {
     "duration": 0.075686,
     "end_time": "2020-11-15T02:28:05.412925",
     "exception": false,
     "start_time": "2020-11-15T02:28:05.337239",
     "status": "completed"
    },
    "tags": []
   },
   "outputs": [
    {
     "data": {
      "text/plain": [
       "count    2.515030e+05\n",
       "mean     6.744818e+03\n",
       "std      2.302918e+04\n",
       "min      0.000000e+00\n",
       "25%      3.900000e+03\n",
       "50%      6.598000e+03\n",
       "75%      7.385000e+03\n",
       "max      7.727000e+06\n",
       "Name: MonthlyIncome, dtype: float64"
      ]
     },
     "execution_count": 24,
     "metadata": {},
     "output_type": "execute_result"
    }
   ],
   "source": [
    "all_data['MonthlyIncome'].describe()"
   ]
  },
  {
   "cell_type": "code",
   "execution_count": 25,
   "metadata": {
    "execution": {
     "iopub.execute_input": "2020-11-15T02:28:05.530784Z",
     "iopub.status.busy": "2020-11-15T02:28:05.529708Z",
     "iopub.status.idle": "2020-11-15T02:28:05.925647Z",
     "shell.execute_reply": "2020-11-15T02:28:05.926212Z"
    },
    "papermill": {
     "duration": 0.460686,
     "end_time": "2020-11-15T02:28:05.926409",
     "exception": false,
     "start_time": "2020-11-15T02:28:05.465723",
     "status": "completed"
    },
    "tags": []
   },
   "outputs": [
    {
     "data": {
      "text/plain": [
       "<matplotlib.axes._subplots.AxesSubplot at 0x7f8e95ec6110>"
      ]
     },
     "execution_count": 25,
     "metadata": {},
     "output_type": "execute_result"
    },
    {
     "data": {
      "image/png": "[encoded data removed]",
      "text/plain": [
       "<Figure size 1080x1080 with 1 Axes>"
      ]
     },
     "metadata": {
      "needs_background": "light"
     },
     "output_type": "display_data"
    }
   ],
   "source": [
    "plt.figure(figsize=(15,15))\n",
    "sns.distplot(all_data['MonthlyIncome'])"
   ]
  },
  {
   "cell_type": "code",
   "execution_count": 26,
   "metadata": {
    "execution": {
     "iopub.execute_input": "2020-11-15T02:28:06.041822Z",
     "iopub.status.busy": "2020-11-15T02:28:06.040729Z",
     "iopub.status.idle": "2020-11-15T02:28:06.043511Z",
     "shell.execute_reply": "2020-11-15T02:28:06.044042Z"
    },
    "papermill": {
     "duration": 0.062143,
     "end_time": "2020-11-15T02:28:06.044205",
     "exception": false,
     "start_time": "2020-11-15T02:28:05.982062",
     "status": "completed"
    },
    "tags": []
   },
   "outputs": [],
   "source": [
    "# 75% 이상인 값은 1 나머지는 0으로 변환.\n",
    "# all_data['MonthlyIncome']=all_data['MonthlyIncome'].apply(lambda x : 1 if x>7.385000e+03 else 0)\n",
    "# all_data['MonthlyIncome'].value_counts()"
   ]
  },
  {
   "cell_type": "code",
   "execution_count": 27,
   "metadata": {
    "execution": {
     "iopub.execute_input": "2020-11-15T02:28:06.158798Z",
     "iopub.status.busy": "2020-11-15T02:28:06.158057Z",
     "iopub.status.idle": "2020-11-15T02:28:06.175384Z",
     "shell.execute_reply": "2020-11-15T02:28:06.174525Z"
    },
    "papermill": {
     "duration": 0.076866,
     "end_time": "2020-11-15T02:28:06.175546",
     "exception": false,
     "start_time": "2020-11-15T02:28:06.098680",
     "status": "completed"
    },
    "tags": []
   },
   "outputs": [
    {
     "name": "stdout",
     "output_type": "stream",
     "text": [
      "<class 'pandas.core.frame.DataFrame'>\n",
      "Int64Index: 251503 entries, 0 to 101502\n",
      "Data columns (total 11 columns):\n",
      " #   Column                                Non-Null Count   Dtype  \n",
      "---  ------                                --------------   -----  \n",
      " 0   SeriousDlqin2yrs                      150000 non-null  float64\n",
      " 1   RevolvingUtilizationOfUnsecuredLines  251503 non-null  float64\n",
      " 2   age                                   251503 non-null  int64  \n",
      " 3   NumberOfTime30-59DaysPastDueNotWorse  251503 non-null  int64  \n",
      " 4   DebtRatio                             251503 non-null  float64\n",
      " 5   MonthlyIncome                         251503 non-null  float64\n",
      " 6   NumberOfOpenCreditLinesAndLoans       251503 non-null  int64  \n",
      " 7   NumberOfTimes90DaysLate               251503 non-null  int64  \n",
      " 8   NumberRealEstateLoansOrLines          251503 non-null  int64  \n",
      " 9   NumberOfTime60-89DaysPastDueNotWorse  251503 non-null  int64  \n",
      " 10  NumberOfDependents                    251503 non-null  float64\n",
      "dtypes: float64(5), int64(6)\n",
      "memory usage: 23.0 MB\n"
     ]
    }
   ],
   "source": [
    "all_data.info()"
   ]
  },
  {
   "cell_type": "code",
   "execution_count": 28,
   "metadata": {
    "execution": {
     "iopub.execute_input": "2020-11-15T02:28:06.291716Z",
     "iopub.status.busy": "2020-11-15T02:28:06.290969Z",
     "iopub.status.idle": "2020-11-15T02:28:06.306899Z",
     "shell.execute_reply": "2020-11-15T02:28:06.306265Z"
    },
    "papermill": {
     "duration": 0.076144,
     "end_time": "2020-11-15T02:28:06.307022",
     "exception": false,
     "start_time": "2020-11-15T02:28:06.230878",
     "status": "completed"
    },
    "tags": []
   },
   "outputs": [
    {
     "data": {
      "text/plain": [
       "0     237447\n",
       "1       8837\n",
       "2       2617\n",
       "3       1112\n",
       "4        482\n",
       "98       477\n",
       "5        233\n",
       "6        124\n",
       "7         64\n",
       "8         40\n",
       "9         33\n",
       "10        10\n",
       "11         6\n",
       "96         6\n",
       "13         4\n",
       "12         3\n",
       "14         2\n",
       "15         2\n",
       "17         2\n",
       "16         1\n",
       "18         1\n",
       "Name: NumberOfTimes90DaysLate, dtype: int64"
      ]
     },
     "execution_count": 28,
     "metadata": {},
     "output_type": "execute_result"
    }
   ],
   "source": [
    "all_data['NumberOfTime30-59DaysPastDueNotWorse'].value_counts()\n",
    "all_data['NumberOfTime60-89DaysPastDueNotWorse'].value_counts()\n",
    "all_data['NumberOfTimes90DaysLate'].value_counts()"
   ]
  },
  {
   "cell_type": "code",
   "execution_count": 29,
   "metadata": {
    "execution": {
     "iopub.execute_input": "2020-11-15T02:28:06.424768Z",
     "iopub.status.busy": "2020-11-15T02:28:06.423618Z",
     "iopub.status.idle": "2020-11-15T02:28:06.677673Z",
     "shell.execute_reply": "2020-11-15T02:28:06.678200Z"
    },
    "papermill": {
     "duration": 0.315833,
     "end_time": "2020-11-15T02:28:06.678383",
     "exception": false,
     "start_time": "2020-11-15T02:28:06.362550",
     "status": "completed"
    },
    "tags": []
   },
   "outputs": [
    {
     "data": {
      "text/plain": [
       "<matplotlib.axes._subplots.AxesSubplot at 0x7f8e95df6650>"
      ]
     },
     "execution_count": 29,
     "metadata": {},
     "output_type": "execute_result"
    },
    {
     "data": {
      "image/png": "[encoded data removed]",
      "text/plain": [
       "<Figure size 432x288 with 1 Axes>"
      ]
     },
     "metadata": {
      "needs_background": "light"
     },
     "output_type": "display_data"
    }
   ],
   "source": [
    "sns.countplot(all_data['NumberOfTime30-59DaysPastDueNotWorse'])"
   ]
  },
  {
   "cell_type": "code",
   "execution_count": 30,
   "metadata": {
    "execution": {
     "iopub.execute_input": "2020-11-15T02:28:06.799716Z",
     "iopub.status.busy": "2020-11-15T02:28:06.798947Z",
     "iopub.status.idle": "2020-11-15T02:28:07.013067Z",
     "shell.execute_reply": "2020-11-15T02:28:07.012309Z"
    },
    "papermill": {
     "duration": 0.276346,
     "end_time": "2020-11-15T02:28:07.013190",
     "exception": false,
     "start_time": "2020-11-15T02:28:06.736844",
     "status": "completed"
    },
    "tags": []
   },
   "outputs": [
    {
     "data": {
      "text/plain": [
       "<matplotlib.axes._subplots.AxesSubplot at 0x7f8e95d2d3d0>"
      ]
     },
     "execution_count": 30,
     "metadata": {},
     "output_type": "execute_result"
    },
    {
     "data": {
      "image/png": "[encoded data removed]",
      "text/plain": [
       "<Figure size 432x288 with 1 Axes>"
      ]
     },
     "metadata": {
      "needs_background": "light"
     },
     "output_type": "display_data"
    }
   ],
   "source": [
    "sns.countplot(all_data['NumberOfTime60-89DaysPastDueNotWorse'])"
   ]
  },
  {
   "cell_type": "code",
   "execution_count": 31,
   "metadata": {
    "execution": {
     "iopub.execute_input": "2020-11-15T02:28:07.135513Z",
     "iopub.status.busy": "2020-11-15T02:28:07.134739Z",
     "iopub.status.idle": "2020-11-15T02:28:07.387638Z",
     "shell.execute_reply": "2020-11-15T02:28:07.386892Z"
    },
    "papermill": {
     "duration": 0.31596,
     "end_time": "2020-11-15T02:28:07.387761",
     "exception": false,
     "start_time": "2020-11-15T02:28:07.071801",
     "status": "completed"
    },
    "tags": []
   },
   "outputs": [
    {
     "data": {
      "text/plain": [
       "<matplotlib.axes._subplots.AxesSubplot at 0x7f8e95c1d510>"
      ]
     },
     "execution_count": 31,
     "metadata": {},
     "output_type": "execute_result"
    },
    {
     "data": {
      "image/png": "[encoded data removed]",
      "text/plain": [
       "<Figure size 432x288 with 1 Axes>"
      ]
     },
     "metadata": {
      "needs_background": "light"
     },
     "output_type": "display_data"
    }
   ],
   "source": [
    "sns.countplot(all_data['NumberOfTimes90DaysLate'])"
   ]
  },
  {
   "cell_type": "code",
   "execution_count": 32,
   "metadata": {
    "execution": {
     "iopub.execute_input": "2020-11-15T02:28:07.514128Z",
     "iopub.status.busy": "2020-11-15T02:28:07.512943Z",
     "iopub.status.idle": "2020-11-15T02:28:07.516713Z",
     "shell.execute_reply": "2020-11-15T02:28:07.515969Z"
    },
    "papermill": {
     "duration": 0.069125,
     "end_time": "2020-11-15T02:28:07.516843",
     "exception": false,
     "start_time": "2020-11-15T02:28:07.447718",
     "status": "completed"
    },
    "tags": []
   },
   "outputs": [],
   "source": [
    "# 3가지 모두 압도적으로 0이 많기 때문에 0인것을 제외한 나머지를 1로 두겠다."
   ]
  },
  {
   "cell_type": "code",
   "execution_count": 33,
   "metadata": {
    "execution": {
     "iopub.execute_input": "2020-11-15T02:28:07.646504Z",
     "iopub.status.busy": "2020-11-15T02:28:07.645599Z",
     "iopub.status.idle": "2020-11-15T02:28:07.648706Z",
     "shell.execute_reply": "2020-11-15T02:28:07.647930Z"
    },
    "papermill": {
     "duration": 0.07213,
     "end_time": "2020-11-15T02:28:07.648840",
     "exception": false,
     "start_time": "2020-11-15T02:28:07.576710",
     "status": "completed"
    },
    "tags": []
   },
   "outputs": [],
   "source": [
    "# all_data['NumberOfTime30-59DaysPastDueNotWorse'] = all_data['NumberOfTime30-59DaysPastDueNotWorse'].apply(lambda x: 1 if x!=0 else 0)\n",
    "# all_data['NumberOfTime60-89DaysPastDueNotWorse'] = all_data['NumberOfTime60-89DaysPastDueNotWorse'].apply(lambda x: 1 if x!=0 else 0)\n",
    "# all_data['NumberOfTimes90DaysLate'] = all_data['NumberOfTimes90DaysLate'].apply(lambda x : 1 if x!=0 else 0)\n",
    "# all_data.head(2)"
   ]
  },
  {
   "cell_type": "code",
   "execution_count": 34,
   "metadata": {
    "execution": {
     "iopub.execute_input": "2020-11-15T02:28:07.807627Z",
     "iopub.status.busy": "2020-11-15T02:28:07.806761Z",
     "iopub.status.idle": "2020-11-15T02:28:07.811559Z",
     "shell.execute_reply": "2020-11-15T02:28:07.810954Z"
    },
    "papermill": {
     "duration": 0.102093,
     "end_time": "2020-11-15T02:28:07.811678",
     "exception": false,
     "start_time": "2020-11-15T02:28:07.709585",
     "status": "completed"
    },
    "tags": []
   },
   "outputs": [
    {
     "data": {
      "text/html": [
       "<div>\n",
       "<style scoped>\n",
       "    .dataframe tbody tr th:only-of-type {\n",
       "        vertical-align: middle;\n",
       "    }\n",
       "\n",
       "    .dataframe tbody tr th {\n",
       "        vertical-align: top;\n",
       "    }\n",
       "\n",
       "    .dataframe thead th {\n",
       "        text-align: right;\n",
       "    }\n",
       "</style>\n",
       "<table border=\"1\" class=\"dataframe\">\n",
       "  <thead>\n",
       "    <tr style=\"text-align: right;\">\n",
       "      <th></th>\n",
       "      <th>RevolvingUtilizationOfUnsecuredLines</th>\n",
       "      <th>age</th>\n",
       "      <th>NumberOfTime30-59DaysPastDueNotWorse</th>\n",
       "      <th>DebtRatio</th>\n",
       "      <th>MonthlyIncome</th>\n",
       "      <th>NumberOfOpenCreditLinesAndLoans</th>\n",
       "      <th>NumberOfTimes90DaysLate</th>\n",
       "      <th>NumberRealEstateLoansOrLines</th>\n",
       "      <th>NumberOfTime60-89DaysPastDueNotWorse</th>\n",
       "      <th>NumberOfDependents</th>\n",
       "    </tr>\n",
       "  </thead>\n",
       "  <tbody>\n",
       "    <tr>\n",
       "      <th>0</th>\n",
       "      <td>0.766127</td>\n",
       "      <td>45</td>\n",
       "      <td>2</td>\n",
       "      <td>0.802982</td>\n",
       "      <td>9120.000000</td>\n",
       "      <td>13</td>\n",
       "      <td>0</td>\n",
       "      <td>6</td>\n",
       "      <td>0</td>\n",
       "      <td>2.000000</td>\n",
       "    </tr>\n",
       "    <tr>\n",
       "      <th>1</th>\n",
       "      <td>0.957151</td>\n",
       "      <td>40</td>\n",
       "      <td>0</td>\n",
       "      <td>0.121876</td>\n",
       "      <td>2600.000000</td>\n",
       "      <td>4</td>\n",
       "      <td>0</td>\n",
       "      <td>0</td>\n",
       "      <td>0</td>\n",
       "      <td>1.000000</td>\n",
       "    </tr>\n",
       "    <tr>\n",
       "      <th>2</th>\n",
       "      <td>0.658180</td>\n",
       "      <td>38</td>\n",
       "      <td>1</td>\n",
       "      <td>0.085113</td>\n",
       "      <td>3042.000000</td>\n",
       "      <td>2</td>\n",
       "      <td>1</td>\n",
       "      <td>0</td>\n",
       "      <td>0</td>\n",
       "      <td>0.000000</td>\n",
       "    </tr>\n",
       "    <tr>\n",
       "      <th>3</th>\n",
       "      <td>0.233810</td>\n",
       "      <td>30</td>\n",
       "      <td>0</td>\n",
       "      <td>0.036050</td>\n",
       "      <td>3300.000000</td>\n",
       "      <td>5</td>\n",
       "      <td>0</td>\n",
       "      <td>0</td>\n",
       "      <td>0</td>\n",
       "      <td>0.000000</td>\n",
       "    </tr>\n",
       "    <tr>\n",
       "      <th>4</th>\n",
       "      <td>0.907239</td>\n",
       "      <td>49</td>\n",
       "      <td>1</td>\n",
       "      <td>0.024926</td>\n",
       "      <td>63588.000000</td>\n",
       "      <td>7</td>\n",
       "      <td>0</td>\n",
       "      <td>1</td>\n",
       "      <td>0</td>\n",
       "      <td>0.000000</td>\n",
       "    </tr>\n",
       "    <tr>\n",
       "      <th>...</th>\n",
       "      <td>...</td>\n",
       "      <td>...</td>\n",
       "      <td>...</td>\n",
       "      <td>...</td>\n",
       "      <td>...</td>\n",
       "      <td>...</td>\n",
       "      <td>...</td>\n",
       "      <td>...</td>\n",
       "      <td>...</td>\n",
       "      <td>...</td>\n",
       "    </tr>\n",
       "    <tr>\n",
       "      <th>101498</th>\n",
       "      <td>0.282653</td>\n",
       "      <td>24</td>\n",
       "      <td>0</td>\n",
       "      <td>0.068522</td>\n",
       "      <td>1400.000000</td>\n",
       "      <td>5</td>\n",
       "      <td>0</td>\n",
       "      <td>0</td>\n",
       "      <td>0</td>\n",
       "      <td>0.000000</td>\n",
       "    </tr>\n",
       "    <tr>\n",
       "      <th>101499</th>\n",
       "      <td>0.922156</td>\n",
       "      <td>36</td>\n",
       "      <td>3</td>\n",
       "      <td>0.934217</td>\n",
       "      <td>7615.000000</td>\n",
       "      <td>8</td>\n",
       "      <td>0</td>\n",
       "      <td>2</td>\n",
       "      <td>0</td>\n",
       "      <td>4.000000</td>\n",
       "    </tr>\n",
       "    <tr>\n",
       "      <th>101500</th>\n",
       "      <td>0.081596</td>\n",
       "      <td>70</td>\n",
       "      <td>0</td>\n",
       "      <td>836.000000</td>\n",
       "      <td>6744.818167</td>\n",
       "      <td>3</td>\n",
       "      <td>0</td>\n",
       "      <td>0</td>\n",
       "      <td>0</td>\n",
       "      <td>0.761995</td>\n",
       "    </tr>\n",
       "    <tr>\n",
       "      <th>101501</th>\n",
       "      <td>0.335457</td>\n",
       "      <td>56</td>\n",
       "      <td>0</td>\n",
       "      <td>3568.000000</td>\n",
       "      <td>6744.818167</td>\n",
       "      <td>8</td>\n",
       "      <td>0</td>\n",
       "      <td>2</td>\n",
       "      <td>1</td>\n",
       "      <td>3.000000</td>\n",
       "    </tr>\n",
       "    <tr>\n",
       "      <th>101502</th>\n",
       "      <td>0.441842</td>\n",
       "      <td>29</td>\n",
       "      <td>0</td>\n",
       "      <td>0.198918</td>\n",
       "      <td>5916.000000</td>\n",
       "      <td>12</td>\n",
       "      <td>0</td>\n",
       "      <td>0</td>\n",
       "      <td>0</td>\n",
       "      <td>0.000000</td>\n",
       "    </tr>\n",
       "  </tbody>\n",
       "</table>\n",
       "<p>251503 rows × 10 columns</p>\n",
       "</div>"
      ],
      "text/plain": [
       "        RevolvingUtilizationOfUnsecuredLines  age  \\\n",
       "0                                   0.766127   45   \n",
       "1                                   0.957151   40   \n",
       "2                                   0.658180   38   \n",
       "3                                   0.233810   30   \n",
       "4                                   0.907239   49   \n",
       "...                                      ...  ...   \n",
       "101498                              0.282653   24   \n",
       "101499                              0.922156   36   \n",
       "101500                              0.081596   70   \n",
       "101501                              0.335457   56   \n",
       "101502                              0.441842   29   \n",
       "\n",
       "        NumberOfTime30-59DaysPastDueNotWorse    DebtRatio  MonthlyIncome  \\\n",
       "0                                          2     0.802982    9120.000000   \n",
       "1                                          0     0.121876    2600.000000   \n",
       "2                                          1     0.085113    3042.000000   \n",
       "3                                          0     0.036050    3300.000000   \n",
       "4                                          1     0.024926   63588.000000   \n",
       "...                                      ...          ...            ...   \n",
       "101498                                     0     0.068522    1400.000000   \n",
       "101499                                     3     0.934217    7615.000000   \n",
       "101500                                     0   836.000000    6744.818167   \n",
       "101501                                     0  3568.000000    6744.818167   \n",
       "101502                                     0     0.198918    5916.000000   \n",
       "\n",
       "        NumberOfOpenCreditLinesAndLoans  NumberOfTimes90DaysLate  \\\n",
       "0                                    13                        0   \n",
       "1                                     4                        0   \n",
       "2                                     2                        1   \n",
       "3                                     5                        0   \n",
       "4                                     7                        0   \n",
       "...                                 ...                      ...   \n",
       "101498                                5                        0   \n",
       "101499                                8                        0   \n",
       "101500                                3                        0   \n",
       "101501                                8                        0   \n",
       "101502                               12                        0   \n",
       "\n",
       "        NumberRealEstateLoansOrLines  NumberOfTime60-89DaysPastDueNotWorse  \\\n",
       "0                                  6                                     0   \n",
       "1                                  0                                     0   \n",
       "2                                  0                                     0   \n",
       "3                                  0                                     0   \n",
       "4                                  1                                     0   \n",
       "...                              ...                                   ...   \n",
       "101498                             0                                     0   \n",
       "101499                             2                                     0   \n",
       "101500                             0                                     0   \n",
       "101501                             2                                     1   \n",
       "101502                             0                                     0   \n",
       "\n",
       "        NumberOfDependents  \n",
       "0                 2.000000  \n",
       "1                 1.000000  \n",
       "2                 0.000000  \n",
       "3                 0.000000  \n",
       "4                 0.000000  \n",
       "...                    ...  \n",
       "101498            0.000000  \n",
       "101499            4.000000  \n",
       "101500            0.761995  \n",
       "101501            3.000000  \n",
       "101502            0.000000  \n",
       "\n",
       "[251503 rows x 10 columns]"
      ]
     },
     "execution_count": 34,
     "metadata": {},
     "output_type": "execute_result"
    }
   ],
   "source": [
    "all_data2 = all_data.drop(['SeriousDlqin2yrs'],axis=1)\n",
    "all_data2"
   ]
  },
  {
   "cell_type": "code",
   "execution_count": 35,
   "metadata": {
    "execution": {
     "iopub.execute_input": "2020-11-15T02:28:07.940442Z",
     "iopub.status.busy": "2020-11-15T02:28:07.939675Z",
     "iopub.status.idle": "2020-11-15T02:28:07.942959Z",
     "shell.execute_reply": "2020-11-15T02:28:07.942323Z"
    },
    "papermill": {
     "duration": 0.069744,
     "end_time": "2020-11-15T02:28:07.943079",
     "exception": false,
     "start_time": "2020-11-15T02:28:07.873335",
     "status": "completed"
    },
    "tags": []
   },
   "outputs": [],
   "source": [
    "train2=all_data2[:len(train)]\n",
    "test2 = all_data2[len(train):]"
   ]
  },
  {
   "cell_type": "code",
   "execution_count": 36,
   "metadata": {
    "execution": {
     "iopub.execute_input": "2020-11-15T02:28:08.072252Z",
     "iopub.status.busy": "2020-11-15T02:28:08.071548Z",
     "iopub.status.idle": "2020-11-15T02:28:17.284814Z",
     "shell.execute_reply": "2020-11-15T02:28:17.285573Z"
    },
    "papermill": {
     "duration": 9.281205,
     "end_time": "2020-11-15T02:28:17.285767",
     "exception": false,
     "start_time": "2020-11-15T02:28:08.004562",
     "status": "completed"
    },
    "tags": []
   },
   "outputs": [],
   "source": [
    "from xgboost import XGBClassifier\n",
    "xgb = XGBClassifier(learning_rate=0.1)\n",
    "xgb.fit(train2,train['SeriousDlqin2yrs'])\n",
    "result = xgb.predict_proba(test2)"
   ]
  },
  {
   "cell_type": "code",
   "execution_count": 37,
   "metadata": {
    "execution": {
     "iopub.execute_input": "2020-11-15T02:28:17.440572Z",
     "iopub.status.busy": "2020-11-15T02:28:17.439740Z",
     "iopub.status.idle": "2020-11-15T02:28:17.441866Z",
     "shell.execute_reply": "2020-11-15T02:28:17.442667Z"
    },
    "papermill": {
     "duration": 0.082108,
     "end_time": "2020-11-15T02:28:17.442839",
     "exception": false,
     "start_time": "2020-11-15T02:28:17.360731",
     "status": "completed"
    },
    "tags": []
   },
   "outputs": [],
   "source": [
    "# from sklearn.ensemble import RandomForestClassifier\n",
    "# rf = RandomForestClassifier(n_jobs=-1)\n",
    "# rf.fit(train2,train['SeriousDlqin2yrs'])\n",
    "# result = rf.predict_proba(test2)"
   ]
  },
  {
   "cell_type": "code",
   "execution_count": 38,
   "metadata": {
    "execution": {
     "iopub.execute_input": "2020-11-15T02:28:17.588507Z",
     "iopub.status.busy": "2020-11-15T02:28:17.587453Z",
     "iopub.status.idle": "2020-11-15T02:28:17.592058Z",
     "shell.execute_reply": "2020-11-15T02:28:17.591330Z"
    },
    "papermill": {
     "duration": 0.079664,
     "end_time": "2020-11-15T02:28:17.592191",
     "exception": false,
     "start_time": "2020-11-15T02:28:17.512527",
     "status": "completed"
    },
    "tags": []
   },
   "outputs": [
    {
     "data": {
      "text/plain": [
       "array([[0.92716825, 0.07283177],\n",
       "       [0.9486451 , 0.0513549 ],\n",
       "       [0.98714876, 0.01285126],\n",
       "       ...,\n",
       "       [0.9954908 , 0.00450922],\n",
       "       [0.93640214, 0.06359786],\n",
       "       [0.964828  , 0.03517199]], dtype=float32)"
      ]
     },
     "execution_count": 38,
     "metadata": {},
     "output_type": "execute_result"
    }
   ],
   "source": [
    "result"
   ]
  },
  {
   "cell_type": "code",
   "execution_count": 39,
   "metadata": {
    "execution": {
     "iopub.execute_input": "2020-11-15T02:28:17.732637Z",
     "iopub.status.busy": "2020-11-15T02:28:17.731607Z",
     "iopub.status.idle": "2020-11-15T02:28:17.737026Z",
     "shell.execute_reply": "2020-11-15T02:28:17.736338Z"
    },
    "papermill": {
     "duration": 0.079458,
     "end_time": "2020-11-15T02:28:17.737154",
     "exception": false,
     "start_time": "2020-11-15T02:28:17.657696",
     "status": "completed"
    },
    "tags": []
   },
   "outputs": [
    {
     "data": {
      "text/plain": [
       "array([[0.92716825, 0.07283177],\n",
       "       [0.9486451 , 0.0513549 ],\n",
       "       [0.98714876, 0.01285126],\n",
       "       ...,\n",
       "       [0.9954908 , 0.00450922],\n",
       "       [0.93640214, 0.06359786],\n",
       "       [0.964828  , 0.03517199]], dtype=float32)"
      ]
     },
     "execution_count": 39,
     "metadata": {},
     "output_type": "execute_result"
    }
   ],
   "source": [
    "sub['Probability'] = result[:,1]\n",
    "result"
   ]
  },
  {
   "cell_type": "code",
   "execution_count": 40,
   "metadata": {
    "execution": {
     "iopub.execute_input": "2020-11-15T02:28:17.872408Z",
     "iopub.status.busy": "2020-11-15T02:28:17.871394Z",
     "iopub.status.idle": "2020-11-15T02:28:17.874671Z",
     "shell.execute_reply": "2020-11-15T02:28:17.874092Z"
    },
    "papermill": {
     "duration": 0.07224,
     "end_time": "2020-11-15T02:28:17.874797",
     "exception": false,
     "start_time": "2020-11-15T02:28:17.802557",
     "status": "completed"
    },
    "tags": []
   },
   "outputs": [],
   "source": [
    "# sub.Probability.value_counts()"
   ]
  },
  {
   "cell_type": "code",
   "execution_count": 41,
   "metadata": {
    "execution": {
     "iopub.execute_input": "2020-11-15T02:28:18.008679Z",
     "iopub.status.busy": "2020-11-15T02:28:18.007725Z",
     "iopub.status.idle": "2020-11-15T02:28:18.396987Z",
     "shell.execute_reply": "2020-11-15T02:28:18.396147Z"
    },
    "papermill": {
     "duration": 0.458588,
     "end_time": "2020-11-15T02:28:18.397137",
     "exception": false,
     "start_time": "2020-11-15T02:28:17.938549",
     "status": "completed"
    },
    "tags": []
   },
   "outputs": [],
   "source": [
    "sub.to_csv('sub.csv',index=False)"
   ]
  },
  {
   "cell_type": "code",
   "execution_count": null,
   "metadata": {
    "papermill": {
     "duration": 0.065044,
     "end_time": "2020-11-15T02:28:18.526184",
     "exception": false,
     "start_time": "2020-11-15T02:28:18.461140",
     "status": "completed"
    },
    "tags": []
   },
   "outputs": [],
   "source": []
  }
 ],
 "metadata": {
  "kernelspec": {
   "display_name": "Python 3",
   "language": "python",
   "name": "python3"
  },
  "language_info": {
   "codemirror_mode": {
    "name": "ipython",
    "version": 3
   },
   "file_extension": ".py",
   "mimetype": "text/x-python",
   "name": "python",
   "nbconvert_exporter": "python",
   "pygments_lexer": "ipython3",
   "version": "3.7.6"
  },
  "papermill": {
   "duration": 23.84799,
   "end_time": "2020-11-15T02:28:18.698790",
   "environment_variables": {},
   "exception": null,
   "input_path": "__notebook__.ipynb",
   "output_path": "__notebook__.ipynb",
   "parameters": {},
   "start_time": "2020-11-15T02:27:54.850800",
   "version": "2.1.0"
  }
 },
 "nbformat": 4,
 "nbformat_minor": 4
}
